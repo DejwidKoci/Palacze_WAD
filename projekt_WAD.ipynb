{
  "cells": [
    {
      "cell_type": "markdown",
      "id": "19137fe3",
      "metadata": {
        "id": "19137fe3"
      },
      "source": [
        "# Analiza skupień krajów Europy pod względem liczby palaczy"
      ]
    },
    {
      "cell_type": "markdown",
      "id": "9918ebe3",
      "metadata": {
        "id": "9918ebe3"
      },
      "source": [
        "# Autorzy\n",
        "Adam Dohojda, Kacper Kiereś, Dawid Koceniak, Wiktoria Stęczna"
      ]
    },
    {
      "cell_type": "markdown",
      "id": "dd5f2c87",
      "metadata": {
        "id": "dd5f2c87"
      },
      "source": [
        "# Streszczenie\n",
        "W tym projekcie dokonujemy analizy skupień krajów Europy pod względem nawyku  palenia papierosów przez obywateli. Chcemy określić, które państwa mają zbliżone właściwości statystyczne w zakresie zwyczajów palenia, dzieląc je na klastry.\n",
        "W pracy tej skupiliśmy się na selekcji, wizualizacji zebranych zmiennych dot. częstości palenia w krajach europejskich, opisaniu ich za pomocą statystyk opisowych, standaryzacji i poddaniu zabiegom klasteryzacji przy użyciu modeli z biblioteki sci-kit learn języka Python. Następnie jakość podziałów została oceniona metodą wizualną, jak i szeregiem miar opisujących jakość klastrowania, by na koniec wybrać najskuteczniejszą metodę dzielenia państw europejskich na skupienia z podobnymi nawykami odnośnie spożywania wyrobów tytoniowych wewnątrz klastrów. Wybrany podział dokonany został przy użyciu optymalnej metody klastrowania, jak i odpowiedniej liczby klastrów. Na koniec podejmujemy próbę interpretacji wyników, żeby ocenić merytoryczny skład skupień.\n"
      ]
    },
    {
      "cell_type": "markdown",
      "id": "e7b32243",
      "metadata": {
        "id": "e7b32243"
      },
      "source": [
        "# Słowa kluczowe\n",
        "- klastrowanie\n",
        "- palenie\n",
        "- dobór metod\n",
        "- nawyki palenia\n",
        "- podział obiektów"
      ]
    },
    {
      "cell_type": "markdown",
      "id": "a550a384-b40b-4db7-aeec-f99df291b547",
      "metadata": {
        "tags": [],
        "id": "a550a384-b40b-4db7-aeec-f99df291b547"
      },
      "source": [
        "# Wprowadzenie\n",
        "Palenie papierosów, czyli nikotynizm jest uzależnieniem fizycznym oraz psychicznym i jako taki został szczegółowo opisany w Międzynarodowej Klasyfikacji Chorób i Problemów Zdrowotnych ICD 10.\n",
        "\n",
        "Epidemia palenia tytoniu jest jednym z największych zagrożeń dla zdrowia publicznego na świecie, zabijając ponad 8 milionów ludzi rocznie. Ponad 7 milionów z tych zgonów jest wynikiem bezpośredniego używania tytoniu, podczas gdy około 1,3 miliona jest wynikiem narażenia osób niepalących na tak zwane palenie bierne.\n",
        "\n",
        "Wszystkie formy palenia tytoniu są szkodliwe i nie ma bezpiecznego poziomu ekspozycji na tytoń. Palenie papierosów jest najbardziej rozpowszechnioną formą palenia tytoniu na świecie i to właśnie ten problem postanowiliśmy zbadać w naszej pracy."
      ]
    },
    {
      "cell_type": "markdown",
      "id": "8fd3497e",
      "metadata": {
        "id": "8fd3497e"
      },
      "source": [
        "# Przedmiot badania\n",
        "\n",
        "Przedmiotem niniejszego badania jest kompleksowa analiza nawyku palenia papierosów wśród krajów europejskich, z zastosowaniem metody analizy skupień. Postaramy się zidentyfikować podobieństwa i różnice w wzorcach palenia papierosów między różnymi krajami, co pozwoli na wyodrębnienie klastrów o podobnych charakterystykach palenia. Badanie obejmuje szereg wizualizacji, począwszy od wykresów gęstości każdej zmiennej, kończąc na wykresach samych klastrów w różnych wariantach.\n",
        "\n"
      ]
    },
    {
      "cell_type": "markdown",
      "id": "6c1da2a3-925c-4529-afa5-0fb32070f26a",
      "metadata": {
        "id": "6c1da2a3-925c-4529-afa5-0fb32070f26a"
      },
      "source": [
        "## Cel i zakres badania"
      ]
    },
    {
      "cell_type": "markdown",
      "id": "1ec74351-942d-4caa-8521-32e4fb1664b7",
      "metadata": {
        "id": "1ec74351-942d-4caa-8521-32e4fb1664b7"
      },
      "source": [
        "Celem niniejszego badania jest zrozumienie zróżnicowania nawyku palenia papierosów wśród krajów europejskich poprzez zastosowanie analizy skupień. Metody wykorzystane w pracy to m.in. metoda k-średnich, grupowanie hierarchiczne czy Gaussian Mixture.\n",
        "\n",
        "Kraje, które zostały wybrane do analizy to: Belgia, Bułgaria, Czechy, Dania, Niemcy, Estonia, Irlandia, Grecja, Hiszpania, Francja, Chorwacja, Włochy, Cypr, Łotwa, Litwa, Luksemburg, Węgry, Malta, Niderlandy, Austria, Polska, Portugalia, Rumunia, Słowenia, Słowacja, Finlandia, Szwecja, Islandia, Norwegia, Unia Europejska, Serbia, Turcja. Analizowane dane pochodzą z 2019 roku.\n",
        "\n",
        "W celu wyłonienia najlepszej metody podziału obiektów na skupienia wykorzystano 3 wskaźniki(Caliński - Harabsz Index, Davies-Bouldin Index, Silhouette Coefficient) obliczonych dla każdej z wybranych metod i zróżnicowanej liczby klastrów(od 2 do 10)."
      ]
    },
    {
      "cell_type": "markdown",
      "id": "25a96ff6-aefe-49da-b76c-41d6b6522b39",
      "metadata": {
        "id": "25a96ff6-aefe-49da-b76c-41d6b6522b39"
      },
      "source": [
        "## Przegląd literatury"
      ]
    },
    {
      "cell_type": "markdown",
      "id": "df15d77c-c002-4750-ab68-3cbe369fdc69",
      "metadata": {
        "id": "df15d77c-c002-4750-ab68-3cbe369fdc69"
      },
      "source": [
        "Temat problemu palenia papierosów w Europie został poruszony w pracy ,,Smoking epidemic in Europe in the 21st century\" z 2020 roku autorów F. Janssen, S. El Gewily, A. Bardoutsos. Badacze, na kanwie poprzedniego, podobnego badania zdecydowali się na obliczenie ,,smoking-attributable mortality fractions\" - SAMF, czyli wskaźniki śmiertelności palaczy i zaprognozowanie ich do roku 2100. Wskaźniki zostały policzone dla  29 europejskich krajów z podziałem na płcie - badani mężczyźni byli w wieku 35-84 lat, a kobiety w wieku 40-84 lat.\n",
        "\n",
        "Autorzy wykorzystali w badaniu metodę Peto-Lopeza, która wykorzystuje krajowe współczynniki śmiertelności na raka płuc, skorygowane o część niezwiązaną z paleniem papierosów. Metoda również zakłada również korektę wskaźnika o ekspozycję palących na inne czynniki środowiskowe. Finalnie, otrzymuje się SAMF dla każdego roku życia np. dla 50 roku życia, dla 51. roku życia. Autorzy otrzymali łączne SAMF dla każdego roku kalendarzowego dla obywateli danego państwa korzystając z rozkładów zgonów dla konkretnych populacji z bazy danych śmiertelności z Uniwersytetu Kalifornijskiego, Berkeley.\n",
        "\n",
        "W 2014 roku najwyższym zdefiniowanym w badaniu wskaźnikiem śmiertelności w Europie charakteryzowały się Węgry(40,65) dla mężczyzn oraz Dania(26,98) dla kobiet. Oprócz tego, w czołówce najwyższej śmiertelności dla mężczyzn znalazły się: Hiszpania, Polska, Słowacja, Słowenia, Rosja. Dla kobiet były to: Islandia, Irlandia, Holandia, Wielka Brytania oraz Węgry."
      ]
    },
    {
      "cell_type": "markdown",
      "id": "cbeccf9e-0333-4cc1-b63a-f9983935a853",
      "metadata": {
        "id": "cbeccf9e-0333-4cc1-b63a-f9983935a853"
      },
      "source": [
        "## Zmienne wybrane do analizy"
      ]
    },
    {
      "cell_type": "markdown",
      "id": "0aec29c2-e2b3-414d-81e3-dbe6cdfe7630",
      "metadata": {
        "id": "0aec29c2-e2b3-414d-81e3-dbe6cdfe7630"
      },
      "source": [
        "$X_1$ - procent palących w danym kraju [%] \\\n",
        "$X_2$ - procent palących mniej niż 20 papierosów na dzień [%]\\\n",
        "$X_3$ - procent palących więcej niż 20 papierosów na dzień [%]\\\n",
        "$X_4$ - procent palących zamieszkujących tereny metropolii miejskich [%]\\\n",
        "$X_5$ - procent palących zamieszkujących tereny małych miast [%]\\\n",
        "$X_6$ - procent palących zamieszkujących tereny wiejskie [%]\\\n",
        "$X_7$ - procent palących mężczyzn [%]\\\n",
        "$X_8$ - procent palących kobiet [%]\\\n",
        "$X_9$ - procent palących z przedziału wiekowego 15 - 19 lat [%]\\\n",
        "$X_{10}$ - procent palących z przedziału wiekowego 15 - 24 lata [%]\\\n",
        "$X_{11}$ - procent palących z przedziału wiekowego 15 - 29 lat [%]\\\n",
        "$X_{12}$ - procent palących z przedziału wiekowego 15 - 64 lata [%]\\\n",
        "$X_{13}$ - procent palących z przedziału wiekowego 18 - 24 lata [%]\\\n",
        "$X_{14}$ - procent palących posiadających co najmniej 18 lat. [%]\\\n",
        "$X_{15}$ - procent palących z przedziału wiekowego  20 - 24 lata [%]\\\n",
        "$X_{16}$ - procent palących z przedziału wiekowego 25 - 29 lata [%]\\\n",
        "$X_{17}$ - procent palących z przedziału wiekowego 25 - 34 lata [%]\\\n",
        "$X_{18}$ - procent palących z przedziału wiekowego 35 - 44 lata [%]\\\n",
        "$X_{19}$ - procent palących z przedziału wiekowego 45 - 54 lata [%]\\\n",
        "$X_{20}$ - procent palących z przedziału wiekowego 45 - 64 lata [%]\\\n",
        "$X_{21}$ - procent palących z przedziału wiekowego 55 - 64 lata [%]\\\n",
        "$X_{22}$ - procent palących z przedziału wiekowego 65 - 74 lata [%]\\\n",
        "$X_{23}$ - procent palących posiadających co najmniej 65 lat [%]\\\n",
        "$X_{24}$ - procent palących posiadających co najmniej 75 lat [%]"
      ]
    },
    {
      "cell_type": "markdown",
      "id": "33d010f2-8277-4e83-9611-3e47c6e93d99",
      "metadata": {
        "tags": [],
        "id": "33d010f2-8277-4e83-9611-3e47c6e93d99"
      },
      "source": [
        "Wybrane zmienne kompleksowo i wielowymiarowo traktują problem palenia w badanych krajach. Wybrane udziały stanowią reprezentację nawyków palenia wśród zróżnicowanych demografii państw Europejskich. Tak szeroki zbiór zmiennych pozwala modelować nawyki palenia obywateli danego państwa jako całość."
      ]
    },
    {
      "cell_type": "markdown",
      "id": "bf386020-105c-4c76-8ba1-5a9bd52c4e77",
      "metadata": {
        "id": "bf386020-105c-4c76-8ba1-5a9bd52c4e77"
      },
      "source": [
        "## Wstępna analiza danych"
      ]
    },
    {
      "cell_type": "code",
      "execution_count": 1,
      "id": "aea28722-2553-43ba-8f0b-d7cc2e6d6fe9",
      "metadata": {
        "tags": [],
        "id": "aea28722-2553-43ba-8f0b-d7cc2e6d6fe9"
      },
      "outputs": [],
      "source": [
        "import warnings\n",
        "warnings.filterwarnings('ignore', category=FutureWarning) #turn off warnings\n",
        "\n",
        "import pandas as pd\n",
        "import matplotlib.pyplot as plt\n",
        "import openpyxl\n",
        "import numpy as np\n",
        "import seaborn as sns\n",
        "from scipy.stats import skew, kurtosis, bootstrap\n",
        "from sklearn.impute import KNNImputer\n",
        "from sklearn.preprocessing import StandardScaler"
      ]
    },
    {
      "cell_type": "markdown",
      "id": "1f10da78-badf-4c29-af56-baea4aa25b8f",
      "metadata": {
        "id": "1f10da78-badf-4c29-af56-baea4aa25b8f"
      },
      "source": [
        "Wczytanie danych do DataFrame"
      ]
    },
    {
      "cell_type": "code",
      "execution_count": 2,
      "id": "40c36cb0-36d8-4a6e-b905-4116822a0593",
      "metadata": {
        "tags": [],
        "id": "40c36cb0-36d8-4a6e-b905-4116822a0593"
      },
      "outputs": [],
      "source": [
        "df = pd.read_excel('Data.xlsx').set_index('Country')"
      ]
    },
    {
      "cell_type": "markdown",
      "id": "4f1df28d-ebc1-44e9-b716-cb237de58ed9",
      "metadata": {
        "id": "4f1df28d-ebc1-44e9-b716-cb237de58ed9"
      },
      "source": [
        "### Obsługa braków danych"
      ]
    },
    {
      "cell_type": "markdown",
      "id": "f2d43953-69e3-48c1-a41c-658f22aba833",
      "metadata": {
        "id": "f2d43953-69e3-48c1-a41c-658f22aba833"
      },
      "source": [
        "W których zmiennych obserwujemy braki wartości?"
      ]
    },
    {
      "cell_type": "code",
      "execution_count": 3,
      "id": "2ce532ef-970f-437d-b626-dd9d42b83b85",
      "metadata": {
        "tags": [],
        "id": "2ce532ef-970f-437d-b626-dd9d42b83b85",
        "outputId": "3895b9f0-81c4-4b8d-d024-4f4bdf97b839",
        "colab": {
          "base_uri": "https://localhost:8080/"
        }
      },
      "outputs": [
        {
          "output_type": "execute_result",
          "data": {
            "text/plain": [
              "X1     0\n",
              "X2     0\n",
              "X3     0\n",
              "X4     2\n",
              "X5     2\n",
              "X6     2\n",
              "X7     0\n",
              "X8     0\n",
              "X9     0\n",
              "X10    0\n",
              "X11    0\n",
              "X12    0\n",
              "X13    0\n",
              "X14    0\n",
              "X15    0\n",
              "X16    0\n",
              "X17    0\n",
              "X18    0\n",
              "X19    0\n",
              "X20    0\n",
              "X21    0\n",
              "X22    0\n",
              "X23    0\n",
              "X24    0\n",
              "dtype: int64"
            ]
          },
          "metadata": {},
          "execution_count": 3
        }
      ],
      "source": [
        "np.sum(np.isnan(df), axis=0)"
      ]
    },
    {
      "cell_type": "markdown",
      "id": "fce19152-9792-4599-a1f5-c161c2b909c0",
      "metadata": {
        "id": "fce19152-9792-4599-a1f5-c161c2b909c0"
      },
      "source": [
        "Widzimy braki wartości w $X_4$, $X_5$, $X_6$.\n"
      ]
    },
    {
      "cell_type": "markdown",
      "id": "10d4db17-1653-4ccf-a338-6e1c4fd15415",
      "metadata": {
        "id": "10d4db17-1653-4ccf-a338-6e1c4fd15415"
      },
      "source": [
        "W jakich krajach występują braki danych?\n"
      ]
    },
    {
      "cell_type": "code",
      "execution_count": 4,
      "id": "42aeb207-a4c5-40a8-b3d3-c16da5c29ae1",
      "metadata": {
        "tags": [],
        "id": "42aeb207-a4c5-40a8-b3d3-c16da5c29ae1",
        "outputId": "77eb3b8d-ca02-4014-d6ec-ee763b981681",
        "colab": {
          "base_uri": "https://localhost:8080/"
        }
      },
      "outputs": [
        {
          "output_type": "execute_result",
          "data": {
            "text/plain": [
              "Country\n",
              "Serbia     3\n",
              "Türkiye    3\n",
              "dtype: int64"
            ]
          },
          "metadata": {},
          "execution_count": 4
        }
      ],
      "source": [
        "np.sum(np.isnan(df), axis=1)[np.sum(np.isnan(df), axis=1) > 0]"
      ]
    },
    {
      "cell_type": "markdown",
      "id": "2a949b1d-d23b-4a10-a7ea-0076df359ebf",
      "metadata": {
        "tags": [],
        "id": "2a949b1d-d23b-4a10-a7ea-0076df359ebf"
      },
      "source": [
        "Braki danych wystepują dla Turcji i Serbii. Uzupełnienie tych danych zerami może być niewłaściwe, ze względów merytorycznych (w tych krajach spodziewamy się, że te zmienne przyjęły o wiele większe wartości)."
      ]
    },
    {
      "cell_type": "markdown",
      "id": "f1c4e334-b458-48b0-a729-d6e219ee0b4b",
      "metadata": {
        "tags": [],
        "id": "f1c4e334-b458-48b0-a729-d6e219ee0b4b"
      },
      "source": [
        "**Uzupełnianie brakujących danych**"
      ]
    },
    {
      "cell_type": "markdown",
      "id": "27eee6f3-ae47-480c-8dbf-15c81634230a",
      "metadata": {
        "tags": [],
        "id": "27eee6f3-ae47-480c-8dbf-15c81634230a"
      },
      "source": [
        "Do uzupełnienia braków posłużymy się obiektem klasy [KNNImputer](https://scikit-learn.org/stable/modules/generated/sklearn.impute.KNNImputer.html) z pakietu sci-kit learn. Wartości hyperparametrów będą ustawione domyślnie (liczba sąsiadów = 5, odległość euklidesowa)."
      ]
    },
    {
      "cell_type": "code",
      "execution_count": 5,
      "id": "a9b57595-938b-4158-be3d-ce1833d4543d",
      "metadata": {
        "tags": [],
        "id": "a9b57595-938b-4158-be3d-ce1833d4543d"
      },
      "outputs": [],
      "source": [
        "imputer = KNNImputer()\n",
        "new_df = pd.DataFrame(imputer.fit_transform(df), columns=imputer.get_feature_names_out(), index=df.index)\n"
      ]
    },
    {
      "cell_type": "markdown",
      "id": "d2b633ee-d387-42c6-bafd-60a2c4e76332",
      "metadata": {
        "id": "d2b633ee-d387-42c6-bafd-60a2c4e76332"
      },
      "source": [
        "### Wizualizacja zmiennych, wraz z ich szacowanymi gęstościami"
      ]
    },
    {
      "cell_type": "markdown",
      "id": "4a5c5fc6-85ed-48ee-a294-08b52869edef",
      "metadata": {
        "id": "4a5c5fc6-85ed-48ee-a294-08b52869edef"
      },
      "source": [
        "W tym kroku zwizualizujemy wszystkie zmienne, chcąc otrzymać histogramy gęstości (tak więc oś pionowa przedstawia częstości, zamiast liczby występujących wartości zmiennej). Dodatkowo w celu pogłębionego zrozumienia skorzystaliśmy z metody [kdeplot](https://seaborn.pydata.org/generated/seaborn.kdeplot.html) z pakietu SeaBorn w celu nakreślenia estymowanej krzywej gęstości. Więcej o zaimplementowanej metodzie można poczytać [tutaj](https://en.wikipedia.org/wiki/Kernel_density_estimation)."
      ]
    },
    {
      "cell_type": "code",
      "execution_count": 6,
      "id": "42449241-de98-49e7-8c17-e358c2d01bfc",
      "metadata": {
        "tags": [],
        "id": "42449241-de98-49e7-8c17-e358c2d01bfc",
        "outputId": "59210425-2ef7-417d-d506-708e391e43cf",
        "colab": {
          "base_uri": "https://localhost:8080/",
          "height": 853
        }
      },
      "outputs": [
        {
          "output_type": "display_data",
          "data": {
            "text/plain": [
              "<Figure size 1200x1000 with 24 Axes>"
            ],
            "image/png": "[encoded data removed]"
          },
          "metadata": {}
        }
      ],
      "source": [
        "plt.style.use('fast')\n",
        "fig, axs = plt.subplots(nrows=6, ncols=4, figsize=(12,10))\n",
        "plt.subplots_adjust(hspace=0.5)\n",
        "for ax, col in zip(axs.flat, df.columns):\n",
        "    ax.hist(df[col], bins=10, density=True)\n",
        "    sns.kdeplot(df[col], ax=ax)\n",
        "    ax.grid(True)\n",
        "    ax.set_title(col)\n",
        "    ax.set_xlabel('')"
      ]
    },
    {
      "cell_type": "markdown",
      "id": "82ee4689-bb42-4272-a3c0-747468a45996",
      "metadata": {
        "tags": [],
        "id": "82ee4689-bb42-4272-a3c0-747468a45996"
      },
      "source": [
        "Na podstawie wykresów możemy stwierdzić widoczną jednomodalność rozkładów, względną symetrię oraz różnice w obserwowanych spłaszczeniach krzywej. Dwie ostatnie obserwacje dodatkowo zweryfikujemy w dalszej części pracy."
      ]
    },
    {
      "cell_type": "markdown",
      "id": "4ec44d19-b6e5-45e4-b225-aa8269e35658",
      "metadata": {
        "id": "4ec44d19-b6e5-45e4-b225-aa8269e35658"
      },
      "source": [
        "### Statystyki opisowe\n"
      ]
    },
    {
      "cell_type": "markdown",
      "id": "05208e11-22e5-4973-a48b-29f2b0c17b68",
      "metadata": {
        "tags": [],
        "id": "05208e11-22e5-4973-a48b-29f2b0c17b68"
      },
      "source": [
        "W tej części policzymy i zinterpretujemy statystyki opisowe naszego zbioru danych. Do podstawowych statystyk liczonych przez pakiet Pandas dodaliśmy obliczoną [skośność](https://docs.scipy.org/doc/scipy/reference/generated/scipy.stats.skew.html#scipy.stats.skew) i [kurtozę](https://docs.scipy.org/doc/scipy/reference/generated/scipy.stats.kurtosis.html)."
      ]
    },
    {
      "cell_type": "code",
      "execution_count": 7,
      "id": "57cfcb77-448c-4bbd-a112-fdc123e0ad62",
      "metadata": {
        "tags": [],
        "id": "57cfcb77-448c-4bbd-a112-fdc123e0ad62",
        "outputId": "618e3a44-8d61-4e94-e5a3-fb7dbc035409",
        "colab": {
          "base_uri": "https://localhost:8080/",
          "height": 802
        }
      },
      "outputs": [
        {
          "output_type": "execute_result",
          "data": {
            "text/plain": [
              "     count       mean       std   min     25%    50%     75%   max  skewness  \\\n",
              "X1    32.0  17.671875  5.471052   6.4  14.400  18.55  20.600  28.7 -0.181180   \n",
              "X2    32.0  11.371875  2.807505   5.3   9.775  11.95  13.350  15.8 -0.537643   \n",
              "X3    32.0   6.321875  3.664189   1.0   4.075   5.40   7.900  15.8  1.009990   \n",
              "X4    32.0  17.065625  5.375188   5.6  14.250  17.70  20.650  28.3 -0.291134   \n",
              "X5    32.0  17.533125  5.453888   6.3  13.400  18.45  21.125  29.6 -0.204242   \n",
              "X6    32.0  17.613750  5.335404   7.1  13.300  18.65  21.425  28.3 -0.295805   \n",
              "X7    32.0  22.078125  8.239274   5.9  16.400  22.65  26.650  40.6  0.131496   \n",
              "X8    32.0  13.665625  4.312144   6.5  11.225  13.85  16.500  24.4  0.191824   \n",
              "X9    32.0  11.350000  4.700309   1.9   8.450  10.75  13.875  23.1  0.211525   \n",
              "X10   32.0  12.681250  4.506228   2.9  10.175  13.20  15.725  21.4 -0.516804   \n",
              "X11   32.0  15.571875  5.362248   3.5  12.950  16.80  19.875  24.3 -0.747978   \n",
              "X12   32.0  20.353125  6.638936   6.5  16.000  21.80  23.600  34.5 -0.255519   \n",
              "X13   32.0  16.384375  5.700261   3.6  13.550  17.35  19.925  27.0 -0.594425   \n",
              "X14   32.0  18.212500  5.637762   6.6  14.850  19.30  21.100  29.6 -0.154303   \n",
              "X15   32.0  18.440625  6.404679   3.1  15.625  19.45  22.200  28.6 -0.681988   \n",
              "X16   32.0  20.609375  7.253491   4.4  17.600  22.15  26.075  33.3 -0.733748   \n",
              "X17   32.0  21.256250  7.611237   5.8  17.775  23.20  26.825  33.4 -0.571922   \n",
              "X18   32.0  22.418750  7.852201   6.0  18.325  23.70  26.500  40.8  0.074154   \n",
              "X19   32.0  22.468750  7.694382   7.1  17.525  22.60  26.175  42.0  0.166131   \n",
              "X20   32.0  21.750000  6.891229   8.4  16.700  22.55  25.300  37.7  0.096605   \n",
              "X21   32.0  20.978125  6.322552  10.0  16.825  21.45  25.050  33.8  0.064001   \n",
              "X22   32.0  12.181250  3.748930   4.3   9.450  12.20  14.400  19.7  0.048543   \n",
              "X23   32.0   8.750000  2.579322   2.9   7.050   8.75  10.600  14.8  0.105542   \n",
              "X24   32.0   4.393750  1.448456   1.4   3.425   4.40   5.425   6.9 -0.067756   \n",
              "\n",
              "     kurtosis  coef_of_var  \n",
              "X1  -0.376567     0.309591  \n",
              "X2  -0.600688     0.246881  \n",
              "X3   0.445025     0.579605  \n",
              "X4  -0.385678     0.314972  \n",
              "X5  -0.382600     0.311062  \n",
              "X6  -0.666051     0.302911  \n",
              "X7  -0.324088     0.373187  \n",
              "X8  -0.259796     0.315547  \n",
              "X9   0.215907     0.414124  \n",
              "X10 -0.003552     0.355346  \n",
              "X11 -0.238018     0.344355  \n",
              "X12 -0.343211     0.326188  \n",
              "X13  0.046721     0.347908  \n",
              "X14 -0.333782     0.309555  \n",
              "X15  0.013456     0.347314  \n",
              "X16 -0.345030     0.351951  \n",
              "X17 -0.520268     0.358071  \n",
              "X18 -0.029378     0.350251  \n",
              "X19  0.158025     0.342448  \n",
              "X20 -0.165837     0.316838  \n",
              "X21 -0.485266     0.301388  \n",
              "X22 -0.650973     0.307762  \n",
              "X23 -0.186029     0.294780  \n",
              "X24 -0.711995     0.329663  "
            ],
            "text/html": [
              "\n",
              "  <div id=\"df-159af899-8951-472c-8d82-c31ce65996e1\" class=\"colab-df-container\">\n",
              "    <div>\n",
              "<style scoped>\n",
              "    .dataframe tbody tr th:only-of-type {\n",
              "        vertical-align: middle;\n",
              "    }\n",
              "\n",
              "    .dataframe tbody tr th {\n",
              "        vertical-align: top;\n",
              "    }\n",
              "\n",
              "    .dataframe thead th {\n",
              "        text-align: right;\n",
              "    }\n",
              "</style>\n",
              "<table border=\"1\" class=\"dataframe\">\n",
              "  <thead>\n",
              "    <tr style=\"text-align: right;\">\n",
              "      <th></th>\n",
              "      <th>count</th>\n",
              "      <th>mean</th>\n",
              "      <th>std</th>\n",
              "      <th>min</th>\n",
              "      <th>25%</th>\n",
              "      <th>50%</th>\n",
              "      <th>75%</th>\n",
              "      <th>max</th>\n",
              "      <th>skewness</th>\n",
              "      <th>kurtosis</th>\n",
              "      <th>coef_of_var</th>\n",
              "    </tr>\n",
              "  </thead>\n",
              "  <tbody>\n",
              "    <tr>\n",
              "      <th>X1</th>\n",
              "      <td>32.0</td>\n",
              "      <td>17.671875</td>\n",
              "      <td>5.471052</td>\n",
              "      <td>6.4</td>\n",
              "      <td>14.400</td>\n",
              "      <td>18.55</td>\n",
              "      <td>20.600</td>\n",
              "      <td>28.7</td>\n",
              "      <td>-0.181180</td>\n",
              "      <td>-0.376567</td>\n",
              "      <td>0.309591</td>\n",
              "    </tr>\n",
              "    <tr>\n",
              "      <th>X2</th>\n",
              "      <td>32.0</td>\n",
              "      <td>11.371875</td>\n",
              "      <td>2.807505</td>\n",
              "      <td>5.3</td>\n",
              "      <td>9.775</td>\n",
              "      <td>11.95</td>\n",
              "      <td>13.350</td>\n",
              "      <td>15.8</td>\n",
              "      <td>-0.537643</td>\n",
              "      <td>-0.600688</td>\n",
              "      <td>0.246881</td>\n",
              "    </tr>\n",
              "    <tr>\n",
              "      <th>X3</th>\n",
              "      <td>32.0</td>\n",
              "      <td>6.321875</td>\n",
              "      <td>3.664189</td>\n",
              "      <td>1.0</td>\n",
              "      <td>4.075</td>\n",
              "      <td>5.40</td>\n",
              "      <td>7.900</td>\n",
              "      <td>15.8</td>\n",
              "      <td>1.009990</td>\n",
              "      <td>0.445025</td>\n",
              "      <td>0.579605</td>\n",
              "    </tr>\n",
              "    <tr>\n",
              "      <th>X4</th>\n",
              "      <td>32.0</td>\n",
              "      <td>17.065625</td>\n",
              "      <td>5.375188</td>\n",
              "      <td>5.6</td>\n",
              "      <td>14.250</td>\n",
              "      <td>17.70</td>\n",
              "      <td>20.650</td>\n",
              "      <td>28.3</td>\n",
              "      <td>-0.291134</td>\n",
              "      <td>-0.385678</td>\n",
              "      <td>0.314972</td>\n",
              "    </tr>\n",
              "    <tr>\n",
              "      <th>X5</th>\n",
              "      <td>32.0</td>\n",
              "      <td>17.533125</td>\n",
              "      <td>5.453888</td>\n",
              "      <td>6.3</td>\n",
              "      <td>13.400</td>\n",
              "      <td>18.45</td>\n",
              "      <td>21.125</td>\n",
              "      <td>29.6</td>\n",
              "      <td>-0.204242</td>\n",
              "      <td>-0.382600</td>\n",
              "      <td>0.311062</td>\n",
              "    </tr>\n",
              "    <tr>\n",
              "      <th>X6</th>\n",
              "      <td>32.0</td>\n",
              "      <td>17.613750</td>\n",
              "      <td>5.335404</td>\n",
              "      <td>7.1</td>\n",
              "      <td>13.300</td>\n",
              "      <td>18.65</td>\n",
              "      <td>21.425</td>\n",
              "      <td>28.3</td>\n",
              "      <td>-0.295805</td>\n",
              "      <td>-0.666051</td>\n",
              "      <td>0.302911</td>\n",
              "    </tr>\n",
              "    <tr>\n",
              "      <th>X7</th>\n",
              "      <td>32.0</td>\n",
              "      <td>22.078125</td>\n",
              "      <td>8.239274</td>\n",
              "      <td>5.9</td>\n",
              "      <td>16.400</td>\n",
              "      <td>22.65</td>\n",
              "      <td>26.650</td>\n",
              "      <td>40.6</td>\n",
              "      <td>0.131496</td>\n",
              "      <td>-0.324088</td>\n",
              "      <td>0.373187</td>\n",
              "    </tr>\n",
              "    <tr>\n",
              "      <th>X8</th>\n",
              "      <td>32.0</td>\n",
              "      <td>13.665625</td>\n",
              "      <td>4.312144</td>\n",
              "      <td>6.5</td>\n",
              "      <td>11.225</td>\n",
              "      <td>13.85</td>\n",
              "      <td>16.500</td>\n",
              "      <td>24.4</td>\n",
              "      <td>0.191824</td>\n",
              "      <td>-0.259796</td>\n",
              "      <td>0.315547</td>\n",
              "    </tr>\n",
              "    <tr>\n",
              "      <th>X9</th>\n",
              "      <td>32.0</td>\n",
              "      <td>11.350000</td>\n",
              "      <td>4.700309</td>\n",
              "      <td>1.9</td>\n",
              "      <td>8.450</td>\n",
              "      <td>10.75</td>\n",
              "      <td>13.875</td>\n",
              "      <td>23.1</td>\n",
              "      <td>0.211525</td>\n",
              "      <td>0.215907</td>\n",
              "      <td>0.414124</td>\n",
              "    </tr>\n",
              "    <tr>\n",
              "      <th>X10</th>\n",
              "      <td>32.0</td>\n",
              "      <td>12.681250</td>\n",
              "      <td>4.506228</td>\n",
              "      <td>2.9</td>\n",
              "      <td>10.175</td>\n",
              "      <td>13.20</td>\n",
              "      <td>15.725</td>\n",
              "      <td>21.4</td>\n",
              "      <td>-0.516804</td>\n",
              "      <td>-0.003552</td>\n",
              "      <td>0.355346</td>\n",
              "    </tr>\n",
              "    <tr>\n",
              "      <th>X11</th>\n",
              "      <td>32.0</td>\n",
              "      <td>15.571875</td>\n",
              "      <td>5.362248</td>\n",
              "      <td>3.5</td>\n",
              "      <td>12.950</td>\n",
              "      <td>16.80</td>\n",
              "      <td>19.875</td>\n",
              "      <td>24.3</td>\n",
              "      <td>-0.747978</td>\n",
              "      <td>-0.238018</td>\n",
              "      <td>0.344355</td>\n",
              "    </tr>\n",
              "    <tr>\n",
              "      <th>X12</th>\n",
              "      <td>32.0</td>\n",
              "      <td>20.353125</td>\n",
              "      <td>6.638936</td>\n",
              "      <td>6.5</td>\n",
              "      <td>16.000</td>\n",
              "      <td>21.80</td>\n",
              "      <td>23.600</td>\n",
              "      <td>34.5</td>\n",
              "      <td>-0.255519</td>\n",
              "      <td>-0.343211</td>\n",
              "      <td>0.326188</td>\n",
              "    </tr>\n",
              "    <tr>\n",
              "      <th>X13</th>\n",
              "      <td>32.0</td>\n",
              "      <td>16.384375</td>\n",
              "      <td>5.700261</td>\n",
              "      <td>3.6</td>\n",
              "      <td>13.550</td>\n",
              "      <td>17.35</td>\n",
              "      <td>19.925</td>\n",
              "      <td>27.0</td>\n",
              "      <td>-0.594425</td>\n",
              "      <td>0.046721</td>\n",
              "      <td>0.347908</td>\n",
              "    </tr>\n",
              "    <tr>\n",
              "      <th>X14</th>\n",
              "      <td>32.0</td>\n",
              "      <td>18.212500</td>\n",
              "      <td>5.637762</td>\n",
              "      <td>6.6</td>\n",
              "      <td>14.850</td>\n",
              "      <td>19.30</td>\n",
              "      <td>21.100</td>\n",
              "      <td>29.6</td>\n",
              "      <td>-0.154303</td>\n",
              "      <td>-0.333782</td>\n",
              "      <td>0.309555</td>\n",
              "    </tr>\n",
              "    <tr>\n",
              "      <th>X15</th>\n",
              "      <td>32.0</td>\n",
              "      <td>18.440625</td>\n",
              "      <td>6.404679</td>\n",
              "      <td>3.1</td>\n",
              "      <td>15.625</td>\n",
              "      <td>19.45</td>\n",
              "      <td>22.200</td>\n",
              "      <td>28.6</td>\n",
              "      <td>-0.681988</td>\n",
              "      <td>0.013456</td>\n",
              "      <td>0.347314</td>\n",
              "    </tr>\n",
              "    <tr>\n",
              "      <th>X16</th>\n",
              "      <td>32.0</td>\n",
              "      <td>20.609375</td>\n",
              "      <td>7.253491</td>\n",
              "      <td>4.4</td>\n",
              "      <td>17.600</td>\n",
              "      <td>22.15</td>\n",
              "      <td>26.075</td>\n",
              "      <td>33.3</td>\n",
              "      <td>-0.733748</td>\n",
              "      <td>-0.345030</td>\n",
              "      <td>0.351951</td>\n",
              "    </tr>\n",
              "    <tr>\n",
              "      <th>X17</th>\n",
              "      <td>32.0</td>\n",
              "      <td>21.256250</td>\n",
              "      <td>7.611237</td>\n",
              "      <td>5.8</td>\n",
              "      <td>17.775</td>\n",
              "      <td>23.20</td>\n",
              "      <td>26.825</td>\n",
              "      <td>33.4</td>\n",
              "      <td>-0.571922</td>\n",
              "      <td>-0.520268</td>\n",
              "      <td>0.358071</td>\n",
              "    </tr>\n",
              "    <tr>\n",
              "      <th>X18</th>\n",
              "      <td>32.0</td>\n",
              "      <td>22.418750</td>\n",
              "      <td>7.852201</td>\n",
              "      <td>6.0</td>\n",
              "      <td>18.325</td>\n",
              "      <td>23.70</td>\n",
              "      <td>26.500</td>\n",
              "      <td>40.8</td>\n",
              "      <td>0.074154</td>\n",
              "      <td>-0.029378</td>\n",
              "      <td>0.350251</td>\n",
              "    </tr>\n",
              "    <tr>\n",
              "      <th>X19</th>\n",
              "      <td>32.0</td>\n",
              "      <td>22.468750</td>\n",
              "      <td>7.694382</td>\n",
              "      <td>7.1</td>\n",
              "      <td>17.525</td>\n",
              "      <td>22.60</td>\n",
              "      <td>26.175</td>\n",
              "      <td>42.0</td>\n",
              "      <td>0.166131</td>\n",
              "      <td>0.158025</td>\n",
              "      <td>0.342448</td>\n",
              "    </tr>\n",
              "    <tr>\n",
              "      <th>X20</th>\n",
              "      <td>32.0</td>\n",
              "      <td>21.750000</td>\n",
              "      <td>6.891229</td>\n",
              "      <td>8.4</td>\n",
              "      <td>16.700</td>\n",
              "      <td>22.55</td>\n",
              "      <td>25.300</td>\n",
              "      <td>37.7</td>\n",
              "      <td>0.096605</td>\n",
              "      <td>-0.165837</td>\n",
              "      <td>0.316838</td>\n",
              "    </tr>\n",
              "    <tr>\n",
              "      <th>X21</th>\n",
              "      <td>32.0</td>\n",
              "      <td>20.978125</td>\n",
              "      <td>6.322552</td>\n",
              "      <td>10.0</td>\n",
              "      <td>16.825</td>\n",
              "      <td>21.45</td>\n",
              "      <td>25.050</td>\n",
              "      <td>33.8</td>\n",
              "      <td>0.064001</td>\n",
              "      <td>-0.485266</td>\n",
              "      <td>0.301388</td>\n",
              "    </tr>\n",
              "    <tr>\n",
              "      <th>X22</th>\n",
              "      <td>32.0</td>\n",
              "      <td>12.181250</td>\n",
              "      <td>3.748930</td>\n",
              "      <td>4.3</td>\n",
              "      <td>9.450</td>\n",
              "      <td>12.20</td>\n",
              "      <td>14.400</td>\n",
              "      <td>19.7</td>\n",
              "      <td>0.048543</td>\n",
              "      <td>-0.650973</td>\n",
              "      <td>0.307762</td>\n",
              "    </tr>\n",
              "    <tr>\n",
              "      <th>X23</th>\n",
              "      <td>32.0</td>\n",
              "      <td>8.750000</td>\n",
              "      <td>2.579322</td>\n",
              "      <td>2.9</td>\n",
              "      <td>7.050</td>\n",
              "      <td>8.75</td>\n",
              "      <td>10.600</td>\n",
              "      <td>14.8</td>\n",
              "      <td>0.105542</td>\n",
              "      <td>-0.186029</td>\n",
              "      <td>0.294780</td>\n",
              "    </tr>\n",
              "    <tr>\n",
              "      <th>X24</th>\n",
              "      <td>32.0</td>\n",
              "      <td>4.393750</td>\n",
              "      <td>1.448456</td>\n",
              "      <td>1.4</td>\n",
              "      <td>3.425</td>\n",
              "      <td>4.40</td>\n",
              "      <td>5.425</td>\n",
              "      <td>6.9</td>\n",
              "      <td>-0.067756</td>\n",
              "      <td>-0.711995</td>\n",
              "      <td>0.329663</td>\n",
              "    </tr>\n",
              "  </tbody>\n",
              "</table>\n",
              "</div>\n",
              "    <div class=\"colab-df-buttons\">\n",
              "\n",
              "  <div class=\"colab-df-container\">\n",
              "    <button class=\"colab-df-convert\" onclick=\"convertToInteractive('df-159af899-8951-472c-8d82-c31ce65996e1')\"\n",
              "            title=\"Convert this dataframe to an interactive table.\"\n",
              "            style=\"display:none;\">\n",
              "\n",
              "  <svg xmlns=\"http://www.w3.org/2000/svg\" height=\"24px\" viewBox=\"0 -960 960 960\">\n",
              "    <path d=\"M120-120v-720h720v720H120Zm60-500h600v-160H180v160Zm220 220h160v-160H400v160Zm0 220h160v-160H400v160ZM180-400h160v-160H180v160Zm440 0h160v-160H620v160ZM180-180h160v-160H180v160Zm440 0h160v-160H620v160Z\"/>\n",
              "  </svg>\n",
              "    </button>\n",
              "\n",
              "  <style>\n",
              "    .colab-df-container {\n",
              "      display:flex;\n",
              "      gap: 12px;\n",
              "    }\n",
              "\n",
              "    .colab-df-convert {\n",
              "      background-color: #E8F0FE;\n",
              "      border: none;\n",
              "      border-radius: 50%;\n",
              "      cursor: pointer;\n",
              "      display: none;\n",
              "      fill: #1967D2;\n",
              "      height: 32px;\n",
              "      padding: 0 0 0 0;\n",
              "      width: 32px;\n",
              "    }\n",
              "\n",
              "    .colab-df-convert:hover {\n",
              "      background-color: #E2EBFA;\n",
              "      box-shadow: 0px 1px 2px rgba(60, 64, 67, 0.3), 0px 1px 3px 1px rgba(60, 64, 67, 0.15);\n",
              "      fill: #174EA6;\n",
              "    }\n",
              "\n",
              "    .colab-df-buttons div {\n",
              "      margin-bottom: 4px;\n",
              "    }\n",
              "\n",
              "    [theme=dark] .colab-df-convert {\n",
              "      background-color: #3B4455;\n",
              "      fill: #D2E3FC;\n",
              "    }\n",
              "\n",
              "    [theme=dark] .colab-df-convert:hover {\n",
              "      background-color: #434B5C;\n",
              "      box-shadow: 0px 1px 3px 1px rgba(0, 0, 0, 0.15);\n",
              "      filter: drop-shadow(0px 1px 2px rgba(0, 0, 0, 0.3));\n",
              "      fill: #FFFFFF;\n",
              "    }\n",
              "  </style>\n",
              "\n",
              "    <script>\n",
              "      const buttonEl =\n",
              "        document.querySelector('#df-159af899-8951-472c-8d82-c31ce65996e1 button.colab-df-convert');\n",
              "      buttonEl.style.display =\n",
              "        google.colab.kernel.accessAllowed ? 'block' : 'none';\n",
              "\n",
              "      async function convertToInteractive(key) {\n",
              "        const element = document.querySelector('#df-159af899-8951-472c-8d82-c31ce65996e1');\n",
              "        const dataTable =\n",
              "          await google.colab.kernel.invokeFunction('convertToInteractive',\n",
              "                                                    [key], {});\n",
              "        if (!dataTable) return;\n",
              "\n",
              "        const docLinkHtml = 'Like what you see? Visit the ' +\n",
              "          '<a target=\"_blank\" href=https://colab.research.google.com/notebooks/data_table.ipynb>data table notebook</a>'\n",
              "          + ' to learn more about interactive tables.';\n",
              "        element.innerHTML = '';\n",
              "        dataTable['output_type'] = 'display_data';\n",
              "        await google.colab.output.renderOutput(dataTable, element);\n",
              "        const docLink = document.createElement('div');\n",
              "        docLink.innerHTML = docLinkHtml;\n",
              "        element.appendChild(docLink);\n",
              "      }\n",
              "    </script>\n",
              "  </div>\n",
              "\n",
              "\n",
              "<div id=\"df-788e511b-67a0-40ca-9d0c-1e4ebed36415\">\n",
              "  <button class=\"colab-df-quickchart\" onclick=\"quickchart('df-788e511b-67a0-40ca-9d0c-1e4ebed36415')\"\n",
              "            title=\"Suggest charts\"\n",
              "            style=\"display:none;\">\n",
              "\n",
              "<svg xmlns=\"http://www.w3.org/2000/svg\" height=\"24px\"viewBox=\"0 0 24 24\"\n",
              "     width=\"24px\">\n",
              "    <g>\n",
              "        <path d=\"M19 3H5c-1.1 0-2 .9-2 2v14c0 1.1.9 2 2 2h14c1.1 0 2-.9 2-2V5c0-1.1-.9-2-2-2zM9 17H7v-7h2v7zm4 0h-2V7h2v10zm4 0h-2v-4h2v4z\"/>\n",
              "    </g>\n",
              "</svg>\n",
              "  </button>\n",
              "\n",
              "<style>\n",
              "  .colab-df-quickchart {\n",
              "      --bg-color: #E8F0FE;\n",
              "      --fill-color: #1967D2;\n",
              "      --hover-bg-color: #E2EBFA;\n",
              "      --hover-fill-color: #174EA6;\n",
              "      --disabled-fill-color: #AAA;\n",
              "      --disabled-bg-color: #DDD;\n",
              "  }\n",
              "\n",
              "  [theme=dark] .colab-df-quickchart {\n",
              "      --bg-color: #3B4455;\n",
              "      --fill-color: #D2E3FC;\n",
              "      --hover-bg-color: #434B5C;\n",
              "      --hover-fill-color: #FFFFFF;\n",
              "      --disabled-bg-color: #3B4455;\n",
              "      --disabled-fill-color: #666;\n",
              "  }\n",
              "\n",
              "  .colab-df-quickchart {\n",
              "    background-color: var(--bg-color);\n",
              "    border: none;\n",
              "    border-radius: 50%;\n",
              "    cursor: pointer;\n",
              "    display: none;\n",
              "    fill: var(--fill-color);\n",
              "    height: 32px;\n",
              "    padding: 0;\n",
              "    width: 32px;\n",
              "  }\n",
              "\n",
              "  .colab-df-quickchart:hover {\n",
              "    background-color: var(--hover-bg-color);\n",
              "    box-shadow: 0 1px 2px rgba(60, 64, 67, 0.3), 0 1px 3px 1px rgba(60, 64, 67, 0.15);\n",
              "    fill: var(--button-hover-fill-color);\n",
              "  }\n",
              "\n",
              "  .colab-df-quickchart-complete:disabled,\n",
              "  .colab-df-quickchart-complete:disabled:hover {\n",
              "    background-color: var(--disabled-bg-color);\n",
              "    fill: var(--disabled-fill-color);\n",
              "    box-shadow: none;\n",
              "  }\n",
              "\n",
              "  .colab-df-spinner {\n",
              "    border: 2px solid var(--fill-color);\n",
              "    border-color: transparent;\n",
              "    border-bottom-color: var(--fill-color);\n",
              "    animation:\n",
              "      spin 1s steps(1) infinite;\n",
              "  }\n",
              "\n",
              "  @keyframes spin {\n",
              "    0% {\n",
              "      border-color: transparent;\n",
              "      border-bottom-color: var(--fill-color);\n",
              "      border-left-color: var(--fill-color);\n",
              "    }\n",
              "    20% {\n",
              "      border-color: transparent;\n",
              "      border-left-color: var(--fill-color);\n",
              "      border-top-color: var(--fill-color);\n",
              "    }\n",
              "    30% {\n",
              "      border-color: transparent;\n",
              "      border-left-color: var(--fill-color);\n",
              "      border-top-color: var(--fill-color);\n",
              "      border-right-color: var(--fill-color);\n",
              "    }\n",
              "    40% {\n",
              "      border-color: transparent;\n",
              "      border-right-color: var(--fill-color);\n",
              "      border-top-color: var(--fill-color);\n",
              "    }\n",
              "    60% {\n",
              "      border-color: transparent;\n",
              "      border-right-color: var(--fill-color);\n",
              "    }\n",
              "    80% {\n",
              "      border-color: transparent;\n",
              "      border-right-color: var(--fill-color);\n",
              "      border-bottom-color: var(--fill-color);\n",
              "    }\n",
              "    90% {\n",
              "      border-color: transparent;\n",
              "      border-bottom-color: var(--fill-color);\n",
              "    }\n",
              "  }\n",
              "</style>\n",
              "\n",
              "  <script>\n",
              "    async function quickchart(key) {\n",
              "      const quickchartButtonEl =\n",
              "        document.querySelector('#' + key + ' button');\n",
              "      quickchartButtonEl.disabled = true;  // To prevent multiple clicks.\n",
              "      quickchartButtonEl.classList.add('colab-df-spinner');\n",
              "      try {\n",
              "        const charts = await google.colab.kernel.invokeFunction(\n",
              "            'suggestCharts', [key], {});\n",
              "      } catch (error) {\n",
              "        console.error('Error during call to suggestCharts:', error);\n",
              "      }\n",
              "      quickchartButtonEl.classList.remove('colab-df-spinner');\n",
              "      quickchartButtonEl.classList.add('colab-df-quickchart-complete');\n",
              "    }\n",
              "    (() => {\n",
              "      let quickchartButtonEl =\n",
              "        document.querySelector('#df-788e511b-67a0-40ca-9d0c-1e4ebed36415 button');\n",
              "      quickchartButtonEl.style.display =\n",
              "        google.colab.kernel.accessAllowed ? 'block' : 'none';\n",
              "    })();\n",
              "  </script>\n",
              "</div>\n",
              "    </div>\n",
              "  </div>\n"
            ]
          },
          "metadata": {},
          "execution_count": 7
        }
      ],
      "source": [
        "skewnesses = skew(new_df, axis=0)\n",
        "kurtosises = kurtosis(new_df, axis=0)\n",
        "stats = pd.concat([new_df.describe(), pd.DataFrame({'skewness':skewnesses, 'kurtosis':kurtosises}, index=new_df.columns).T]).T\n",
        "stats['coef_of_var'] = stats['std'] / stats['mean']\n",
        "stats"
      ]
    },
    {
      "cell_type": "markdown",
      "id": "7c5ebeb1",
      "metadata": {
        "id": "7c5ebeb1"
      },
      "source": [
        "Na podstawie powyższych wyników zaobserwować możemy, jak kształtują się takie statystyki jak średnia, poszczególne kwartyle, wartości minimalne czy też maksymalne.\n",
        "\n",
        "Warto zauważyć, iż najmniejszy średni procent palących występuje wśród osób mających więcej niż 75 lat oraz wśród osób palących więcej niż 20 papierosów dziennie, za to największy średni procent palących występuje wśród osób z przedziału wiekowego 45-54 lata.\n",
        "\n",
        "Współczynnik zmienności dla każdej ze zmiennych waha się w okolicach 0,3. Najmniejsze odchylenie w stosunku do średniej występuje dla zmiennej $X_2$ (procent palących mniej niż 20 papierosów na dzień), zaś największe dla zmiennej $X_3$ (procent palących więcej niż 20 papierosów na dzień).\n",
        "\n",
        "Dla dziesięciu zmiennych:\n",
        "- $X_3$ (Procent palących więcej niż 20 papierosów na dzień),\n",
        "- $X_7$ (Procent palących mężczyzn),\n",
        "- $X_8$ (Procent palących kobiet),\n",
        "- $X_9$ (Procent palących z przedziału wiekowego 15-19 lat),\n",
        "- $X_{18}$ (Procent palących z przedziału wiekowego 35-44 lat),\n",
        "- $X_{19}$ (Procent palących z przedziału wiekowego 45-54 lat),\n",
        "- $X_{20}$ (Procent palących z przedziału wiekowego 45-64 lat),\n",
        "- $X_{21}$ (Procent palących z przedziału wiekowego 55-64 lat),\n",
        "- $X_{22}$ (Procent palących z przedziału wiekowego 65-74 lat),\n",
        "- $X_{23}$ (Procent palących posiadających co najmniej 65 lat),\n",
        "\n",
        "współczynnik asymetrii (skośność) jest większy od zera. Świadczy to o asymetrii prawostronnej rozkładu badanych cech, inaczej możemy powiedzieć, że większość państw dla danej zmiennej posiada procent palących mniejszy niż wartość średnia. Dla pozostałych zmiennych mamy odwrotną sytuację (rozkład badanych cech cechuje się asymetrią lewostronną).\n",
        "\n",
        "Dla zmiennych:\n",
        "- $X_3$ (Procent palących więcej niż 20 papierosów na dzień),\n",
        "- $X_9$ (Procent palących z przedziału wiekowego 15-19 lat),\n",
        "- $X_{13}$ (Procent palących z przedziału wiekowego 18-24 lat),\n",
        "- $X_{15}$ (Procent palących z przedziału wiekowego 20-24 lat),\n",
        "- $X_{19}$ (Procent palących z przedziału wiekowego 45-54 lat),\n",
        "\n",
        "\n",
        "wskaźnik kurtozy wyszedł większy od zera, co oznacza, że rozkłady wyżej wspomnianych cech są rozkładami leptokurtycznymi - znaczna część wyników jest podobna do siebie, a obserwacji znacznie różniących się od średniej jest mało. Dla pozostałych zmiennych kurtoza jest ujemna, co oznacza, że rozkład badanych jest rozkładem platykurtycznym - w danych możemy zaobserwować większą liczbę wyników skrajnych (znacznie oddalonych od średniej).\n",
        "\n",
        "\n",
        "Poniżej skupimy większą uwagę ku samej kurtozie oraz skośności dla badanych cech.\n"
      ]
    },
    {
      "cell_type": "markdown",
      "id": "78b4aeca-77f7-402c-a5de-556a4b177344",
      "metadata": {
        "id": "78b4aeca-77f7-402c-a5de-556a4b177344"
      },
      "source": [
        "**Weryfikacja skośności i kurtozy rozkładów zmiennych**"
      ]
    },
    {
      "cell_type": "markdown",
      "id": "75a6dfca-4c79-4b4e-8fd5-4920745dddb1",
      "metadata": {
        "id": "75a6dfca-4c79-4b4e-8fd5-4920745dddb1"
      },
      "source": [
        "Obliczone statystyki skośności i kurtozy stanowią estymację parametrów z populacji, przy takiej małej liczebności każdej próby (n=32) dodatkowo obarczone znacznym błędem. Żeby poznać choć ogólny kształt tych rozkładów, skorzystamy z przedziałów ufności (zarówno dla kurtozy jak i skośności) skonstruowanych za pomocą nieparametrycznej metody Bootstrap. Wykorzystana zostanie zmodyfkiowana metoda Bootstrap, w której użyte zostaną zmodyfkowane przedziały ufności drugiego rzędu uzyskanych metodą BCa (Bias-Corrected and Accelerated). Różni się on od metody pierwszego rzędu tym, że używa innej niż percentyl miary do określania przedziałów oraz bierze pod uwagę skośność ponownie pobieranych prób i stara się estymować parametr dla rzeczywistej populacji, a nie owych prób. Więcej o tej metodzie [w tym artykule](https://www.tandfonline.com/doi/abs/10.1080/01621459.1987.10478409)."
      ]
    },
    {
      "cell_type": "code",
      "execution_count": 8,
      "id": "3ee4ff47-2103-486f-aad9-27d0ae9ce862",
      "metadata": {
        "tags": [],
        "id": "3ee4ff47-2103-486f-aad9-27d0ae9ce862"
      },
      "outputs": [],
      "source": [
        "def skew_statistic(data):\n",
        "    return skew(data, axis=0)\n",
        "\n",
        "def kurtosis_statistic(data):\n",
        "    return kurtosis(data, axis=0)\n",
        "\n",
        "data = (new_df.values[i] for i in range(new_df.shape[1]))\n",
        "def bootstrap_for_xses(df, statistic, n_resamples=1000):\n",
        "    skewness_mean = np.zeros(df.shape[1])\n",
        "    kurtosis_mean = np.zeros(df.shape[1])\n",
        "    skewness_intervals = np.zeros((df.shape[1], 2))\n",
        "    kurtosis_intervals = np.zeros((df.shape[1], 2))\n",
        "    for column in range(df.shape[1]):\n",
        "        data = (df.values[column],)\n",
        "        skewness_bootstrap = bootstrap(data=data, statistic=skew_statistic, n_resamples=n_resamples, confidence_level=.9)\n",
        "        kurtosis_bootstrap = bootstrap(data=data, statistic=kurtosis_statistic, n_resamples=n_resamples, confidence_level=.9)\n",
        "        skewness_mean[column] = np.mean(skewness_bootstrap.bootstrap_distribution)\n",
        "        kurtosis_mean[column] = np.mean(kurtosis_bootstrap.bootstrap_distribution)\n",
        "        skewness_intervals[column, :] = np.array(tuple(skewness_bootstrap.confidence_interval))\n",
        "        kurtosis_intervals[column, :] = np.array(tuple(kurtosis_bootstrap.confidence_interval))\n",
        "\n",
        "    return skewness_mean, kurtosis_mean, skewness_intervals, kurtosis_intervals\n",
        "\n",
        "\n",
        "\n",
        "s, k, s_i, k_i = bootstrap_for_xses(new_df, skew_statistic, n_resamples=5000)"
      ]
    },
    {
      "cell_type": "markdown",
      "id": "b8fc1a3f-b287-4710-a8da-b7da2f39a021",
      "metadata": {
        "id": "b8fc1a3f-b287-4710-a8da-b7da2f39a021"
      },
      "source": [
        "Skonstruowane przedziały liczymy dla każdej zmiennej, przy użyciu 5000 ponownych próbkowań. Jako, że każda zmienna ma 32 wartości, to możliwa liczba wszystkich kombinacji losowania ze zwracaniem to około (dla niepowtarzających się wartości) $32^{32}$. Nie jest to zatem dużo próbkowań, a w metodzie Bootstrap nie tyle ten parametr jest najistotniejszy w zawężaniu przedziałów, co rozmiar próby, który w naszym przypadku jest ograniczony przez liczbę państw w badaniu (a i również obecnych w Europie). Zdecydowaliśmy się na kompromis w zakresie poziomu ufności, który dla uzyskania niezbyt szerokich przedziałów, ale dalej wysokiej pewności ustaliliśmy w obu przypadkach na 90%."
      ]
    },
    {
      "cell_type": "markdown",
      "id": "438ade94-31f6-4881-a5c8-c70ec11fe26e",
      "metadata": {
        "id": "438ade94-31f6-4881-a5c8-c70ec11fe26e"
      },
      "source": [
        "Następnie zbudujemy funkcję, która dla obliczonych poziomów średnich liczonych statystyk oraz przedziałów ufności będzie rysować wykres, gdzie pionowa linia to zakres przedziału, który z prawdopodobieństwem 90% pokrywa szukany parametr, a punkt oznacza wyestymowaną metodą Bootstrap wartość szukanej statystyki."
      ]
    },
    {
      "cell_type": "code",
      "execution_count": 9,
      "id": "e87fc8fd-fba5-4de0-84ad-9fad32f522f0",
      "metadata": {
        "tags": [],
        "id": "e87fc8fd-fba5-4de0-84ad-9fad32f522f0"
      },
      "outputs": [],
      "source": [
        "def plot_statistic(statistic, confidence_intervals, name='statystyki', conf_level=.9):\n",
        "    fig, ax = plt.subplots(figsize=(10,8))\n",
        "    for i in range(statistic.shape[0]):\n",
        "        plt.vlines(i, confidence_intervals[i,0], confidence_intervals[i,1], color='gray', zorder=0)\n",
        "    ax.scatter(np.arange(statistic.shape[0]), statistic, color='black', zorder=1)\n",
        "    plt.grid(False)\n",
        "    plt.axhline(0, linestyle='--', alpha=0.5)\n",
        "    ax.set_xticks(np.arange(statistic.shape[0]), labels=[f\"X_{j}\" for j in range(1, statistic.shape[0]+1)], rotation=45)\n",
        "    ax.set_ylabel(name)\n",
        "    plt.title(f\"Średnia {name}, wraz z przedziałem ufności na poziomie ufności {conf_level}\")\n",
        "\n",
        "\n"
      ]
    },
    {
      "cell_type": "markdown",
      "id": "8ed719a5-6ba3-4336-9995-a8217a06992c",
      "metadata": {
        "id": "8ed719a5-6ba3-4336-9995-a8217a06992c"
      },
      "source": [
        "Przyjęta koncpecja zakłada, że skośność równa 0 oznacza skośność rozkładu normalnego (symetryczna), gdzie wartości mniejsze od 0 oznaczają rozkład lewostronnie asymetryczny, a większe od 0 oznaczają rozkład prawostronnie symetryczny. W przypadku kurtozy skorzystaliśmy z definicji Fishera -  kurtoza równa 0 to spłaszczenie rozkładu charakterystyczne dla rozkładu normalnego, większa od 0 oznacza rozkład leptokurtyczny, a mniejsza od 0 rozkład platykurtyczny."
      ]
    },
    {
      "cell_type": "markdown",
      "id": "b38fa6a3-5c61-4f1d-8183-402bf5d36b50",
      "metadata": {
        "tags": [],
        "id": "b38fa6a3-5c61-4f1d-8183-402bf5d36b50"
      },
      "source": [
        "**Wykres dla skośności**"
      ]
    },
    {
      "cell_type": "code",
      "execution_count": 10,
      "id": "9d7043e0-8e41-493e-bcd6-0b17381a658a",
      "metadata": {
        "tags": [],
        "id": "9d7043e0-8e41-493e-bcd6-0b17381a658a",
        "outputId": "dbfb16df-9da3-4bf6-cbf0-ccacdaef573c",
        "colab": {
          "base_uri": "https://localhost:8080/",
          "height": 722
        }
      },
      "outputs": [
        {
          "output_type": "display_data",
          "data": {
            "text/plain": [
              "<Figure size 1000x800 with 1 Axes>"
            ],
            "image/png": "[encoded data removed]"
          },
          "metadata": {}
        }
      ],
      "source": [
        "plot_statistic(s, s_i, name=\"skośność\")"
      ]
    },
    {
      "cell_type": "markdown",
      "id": "079bf561-4ed4-45b4-ae76-2fd6f382f2fd",
      "metadata": {
        "id": "079bf561-4ed4-45b4-ae76-2fd6f382f2fd"
      },
      "source": [
        "**Wykres dla kurtozy**"
      ]
    },
    {
      "cell_type": "code",
      "execution_count": 11,
      "id": "08096082-3a01-40ba-8918-49561e32063d",
      "metadata": {
        "tags": [],
        "id": "08096082-3a01-40ba-8918-49561e32063d",
        "outputId": "36503a86-fbfe-4993-c4b8-8eddca7b4a3f",
        "colab": {
          "base_uri": "https://localhost:8080/",
          "height": 722
        }
      },
      "outputs": [
        {
          "output_type": "display_data",
          "data": {
            "text/plain": [
              "<Figure size 1000x800 with 1 Axes>"
            ],
            "image/png": "[encoded data removed]"
          },
          "metadata": {}
        }
      ],
      "source": [
        "plot_statistic(k, k_i, name=\"kurtoza\")"
      ]
    },
    {
      "cell_type": "markdown",
      "id": "8ab8ca8c-1b1a-4998-bc59-e28c826f11d9",
      "metadata": {
        "id": "8ab8ca8c-1b1a-4998-bc59-e28c826f11d9"
      },
      "source": [
        "Z uwagi na bardzo małą wielkość każdej z prób (n=32), estymacje otrzymane za pomocą Bootstrap nie są zbyt wiarygodne, ale pokazują że dane często nie są istotnie różne od rozkładu normalnego (częste pokrywanie wartości kurtozy i skośności równej 0)."
      ]
    },
    {
      "cell_type": "markdown",
      "id": "9471a677-2fa5-4b6f-8dc4-634a7a4d12ef",
      "metadata": {
        "id": "9471a677-2fa5-4b6f-8dc4-634a7a4d12ef"
      },
      "source": [
        "# Opis metod"
      ]
    },
    {
      "cell_type": "markdown",
      "id": "f2ba9667-f15b-45b2-aaad-3fa80eebacbd",
      "metadata": {
        "id": "f2ba9667-f15b-45b2-aaad-3fa80eebacbd"
      },
      "source": [
        "### Standaryzowanie zmiennych"
      ]
    },
    {
      "cell_type": "markdown",
      "id": "d70fbf86-029b-41c4-a297-0c3e7df5df9b",
      "metadata": {
        "tags": [],
        "id": "d70fbf86-029b-41c4-a297-0c3e7df5df9b"
      },
      "source": [
        "W tym kroku wykonamy standaryzację zmiennych w celu przygotowania do analizy skupień. Dokonamy standaryzacji zmiennych, aby skala cechy nie wpływała na jej udział w klastrze. Standaryzacja zostanie wykonana za pomocą obiektu klasy [sklearn.preprocessing.Standard Scaler](https://scikit-learn.org/stable/modules/generated/sklearn.preprocessing.StandardScaler.html#sklearn.preprocessing.StandardScaler), który stosuje wzór:\n",
        "\n",
        "$$X_i^* = \\frac{X_i - E(X_i)}{\\sqrt{D^2(X_i)}}$$\n",
        "\n"
      ]
    },
    {
      "cell_type": "code",
      "execution_count": 12,
      "id": "c524fe34-0662-4d1f-9098-08f733c8089f",
      "metadata": {
        "tags": [],
        "id": "c524fe34-0662-4d1f-9098-08f733c8089f"
      },
      "outputs": [],
      "source": [
        "scaler = StandardScaler()\n",
        "scaled_df = scaler.fit_transform(new_df)"
      ]
    },
    {
      "cell_type": "code",
      "execution_count": 13,
      "id": "493382bc-7195-4169-8d30-e4397d6456e2",
      "metadata": {
        "tags": [],
        "id": "493382bc-7195-4169-8d30-e4397d6456e2"
      },
      "outputs": [],
      "source": [
        "scaled_df = pd.DataFrame(scaled_df, index=new_df.index, columns=new_df.columns)\n",
        "final_df = scaled_df.copy()"
      ]
    },
    {
      "cell_type": "markdown",
      "id": "a2c8a217-917f-4d43-964a-5db0916b0dd8",
      "metadata": {
        "id": "a2c8a217-917f-4d43-964a-5db0916b0dd8"
      },
      "source": [
        "### Redukcja wymiarów"
      ]
    },
    {
      "cell_type": "markdown",
      "id": "93012cf6-85c7-40b4-b029-7dec70fb1f0e",
      "metadata": {
        "tags": [],
        "id": "93012cf6-85c7-40b4-b029-7dec70fb1f0e"
      },
      "source": [
        "Przygotujemy również dane za pomocą algorytmu Prinicipal Component Analysis do wyświetlenia na płaszczyźnie dwuwymiarowej, żeby lepiej móc obserwować efekty klastrowania. Jako, że nie jest to temat naszej pracy, więcej informacji na temat tej metody można znaleźć [tutaj](https://en.wikipedia.org/wiki/Principal_component_analysis). Nasz projekt wykorzystał implementację tego algorytmu pod postacią obiektu klasy [sklearn.decomposition.PCA](https://scikit-learn.org/stable/modules/generated/sklearn.decomposition.PCA.html), gdzie liczba składowych została ustawiona (w celach wizualizacji) na 2, a [rozkład według wektorów osobliwych](https://pl.wikipedia.org/wiki/Rozk%C5%82ad_wed%C5%82ug_warto%C5%9Bci_osobliwych) został dokonany metodą LAPACK (metodą, której korzenie sięgają języka Fortran)."
      ]
    },
    {
      "cell_type": "code",
      "execution_count": 14,
      "id": "a56bc0d1-061b-44ce-8b89-2f7a36fa26f9",
      "metadata": {
        "tags": [],
        "id": "a56bc0d1-061b-44ce-8b89-2f7a36fa26f9"
      },
      "outputs": [],
      "source": [
        "from sklearn.decomposition import PCA\n",
        "\n",
        "pca = PCA(n_components=2)\n",
        "dim_reduced_df = pca.fit_transform(final_df)"
      ]
    },
    {
      "cell_type": "markdown",
      "id": "efc15c39-8a39-4614-9bc1-501d82d81641",
      "metadata": {
        "id": "efc15c39-8a39-4614-9bc1-501d82d81641"
      },
      "source": [
        "### Wyświetlanie wyników"
      ]
    },
    {
      "cell_type": "markdown",
      "id": "3b878b0f-9bd2-4702-8e38-ba4e59c6078f",
      "metadata": {
        "tags": [],
        "id": "3b878b0f-9bd2-4702-8e38-ba4e59c6078f"
      },
      "source": [
        "Poniżej przygotowaliśmy funkcję, której zastosowanie w prezentowaniu wyników jest szerokie:\n",
        "    - w przypadku braku podziałów (brak dostraczonych \"predykcji\" przynależności do klastra) nie wyświetla tytułu i nie nadaje wyróżniających kolorów punktom\n",
        "    - w przypadku dostarczonych predykcji, nadaje tytuł wyjaśniający jaka metoda została użyta, dla ilu klastrów oraz na koniec koloruje punkty zgodnie z przynależnością do klastra."
      ]
    },
    {
      "cell_type": "code",
      "execution_count": 15,
      "id": "8d0434fc-f96e-4272-b75a-b89c47676307",
      "metadata": {
        "tags": [],
        "id": "8d0434fc-f96e-4272-b75a-b89c47676307"
      },
      "outputs": [],
      "source": [
        "def plot_results(df_dim_2, title='', cluster_preds=np.array([])):\n",
        "    fig, ax = plt.subplots(nrows=1, ncols=1, figsize=(10,8))\n",
        "    plt.style.use('dark_background')\n",
        "    if cluster_preds.size:\n",
        "        ax.set_title(f\"Podział obiektów według metody {title}, liczba klastrów = {np.unique(cluster_preds).shape[0]}\")\n",
        "        ax.scatter(dim_reduced_df[:, 0], dim_reduced_df[:, 1], c=cluster_preds, cmap='cool')\n",
        "    else:\n",
        "        ax.scatter(dim_reduced_df[:, 0], dim_reduced_df[:, 1])\n",
        "    for num, country in enumerate(final_df.index):\n",
        "        plt.text(dim_reduced_df[num, 0], dim_reduced_df[num,1], country)"
      ]
    },
    {
      "cell_type": "markdown",
      "id": "08ece7af-18b4-4c14-a85d-74ea772821f3",
      "metadata": {
        "id": "08ece7af-18b4-4c14-a85d-74ea772821f3"
      },
      "source": [
        "Poniżej wyniki redukcji wymiarów metodą PCA na naszym zbiorze danych:"
      ]
    },
    {
      "cell_type": "code",
      "execution_count": 37,
      "id": "495a0318-6f68-4262-9c36-e9e430952812",
      "metadata": {
        "tags": [],
        "id": "495a0318-6f68-4262-9c36-e9e430952812",
        "outputId": "6da38252-3988-4f57-ad90-897068fc88d7",
        "colab": {
          "base_uri": "https://localhost:8080/",
          "height": 676
        }
      },
      "outputs": [
        {
          "output_type": "display_data",
          "data": {
            "text/plain": [
              "<Figure size 1000x800 with 1 Axes>"
            ],
            "image/png": "[encoded data removed]"
          },
          "metadata": {}
        }
      ],
      "source": [
        "plot_results(dim_reduced_df)"
      ]
    },
    {
      "cell_type": "markdown",
      "id": "e09fafcb-5317-457b-9d34-2c712fbc3433",
      "metadata": {
        "id": "e09fafcb-5317-457b-9d34-2c712fbc3433"
      },
      "source": [
        "**Zastosowanie przykładowych modeli klastrujących.**\n"
      ]
    },
    {
      "cell_type": "markdown",
      "id": "0e1366ef-78ca-4202-b4cb-c2e62f77bbe9",
      "metadata": {
        "id": "0e1366ef-78ca-4202-b4cb-c2e62f77bbe9"
      },
      "source": [
        "W tej sekcji pokażemy zastosowanie kilku wybranych algorytmów z biblioteki [sklearn.cluster](https://scikit-learn.org/stable/modules/classes.html#module-sklearn.cluster) na naszych danych."
      ]
    },
    {
      "cell_type": "code",
      "execution_count": 17,
      "id": "d99a02ff-b2f3-48cd-9443-090c020cdaca",
      "metadata": {
        "tags": [],
        "id": "d99a02ff-b2f3-48cd-9443-090c020cdaca"
      },
      "outputs": [],
      "source": [
        "import sklearn.cluster as cl\n",
        "from sklearn.metrics import silhouette_score, calinski_harabasz_score, davies_bouldin_score"
      ]
    },
    {
      "cell_type": "markdown",
      "id": "a2aa865c-631d-4b9b-b4dc-c839969a5b0d",
      "metadata": {
        "id": "a2aa865c-631d-4b9b-b4dc-c839969a5b0d"
      },
      "source": [
        "### Miary jakości klastrowania"
      ]
    },
    {
      "cell_type": "markdown",
      "id": "c5eb1484-ba04-43c8-afef-ae472d3244a1",
      "metadata": {
        "id": "c5eb1484-ba04-43c8-afef-ae472d3244a1"
      },
      "source": [
        "W obliczu takiej mnogości metod oraz tak dużej liczby kombinacji hyperparametrów, musieliśmy skorzystać z obiektywnych miar jakości klastrowania. Skorzystaliśmy z tych dostępnych w pakiecie [sklearn.metrics](https://scikit-learn.org/stable/modules/classes.html#module-sklearn.metrics). \\\n",
        "Są to:\n",
        "1. Silhouette Coefficient - miara jakości klastrowania, która mierzy dopasowanie obiektów do ich klastrów oraz ich odległość do innych klastrów. Więcej na temat tej miary można poczytać [na artykule na Wikipedii](https://en.wikipedia.org/wiki/Silhouette_(clustering)) lub [u źródła](https://www.sciencedirect.com/science/article/pii/0377042787901257). Współczynnik przyjmuje wartości z przedziału $[-1,  1]$, gdzie im wyższy współczynnik, tym lepsza jakoś klastrowania.\n",
        "2. Caliński-Harabasz Index - miara jakości klastrowania, która mierzy rozdzielność klastrów. Wyznacza się ją jako stosunek sumy wariancji międzyklastrowej do sumy wariancji wewnątrzklastrowej. Przyjmuje wartości z przedziału $[0, +\\infty)$, gdzie wyższe wartości oznaczają, że klastry są bardziej gęste i lepiej oddzielone od siebie. Więcej na temat tej metody w [artykule](https://www.tandfonline.com/doi/abs/10.1080/03610927408827101)\n",
        "3. Davies-Bouldin Index - miara jakości klastrowania, która mierzy podobieństwo klastrów. Wyznacza się ją jako średnią wartość indeksu Davies-Bouldina dla wszystkich klastrów. Przyjmuje wartości z przedziału $[0, +\\infty)$, im wyższa wartość miary, tym mniejsze podobieństwo klastrów. Więcej szczegółów w tym [artykule](https://ieeexplore.ieee.org/document/4766909)"
      ]
    },
    {
      "cell_type": "markdown",
      "id": "22061120-0170-4b61-9b76-ca623e090f59",
      "metadata": {
        "id": "22061120-0170-4b61-9b76-ca623e090f59"
      },
      "source": [
        "### Funkcja do klastrowania"
      ]
    },
    {
      "cell_type": "markdown",
      "id": "a8daee41-37c3-457f-9fc0-dcb70d28ab2b",
      "metadata": {
        "tags": [],
        "id": "a8daee41-37c3-457f-9fc0-dcb70d28ab2b"
      },
      "source": [
        "Przygotowaliśmy funkcję, której działanie jest podstawą naszej analizy. Możemy wybrać tryb kreślenia wykresu (plot=True), gdzie metoda klastrowania zostanie zastosowana na danych, wypisane zostaną miary jakości klatrowania (ale nie zwrócone) oraz wykres punktowy za pomocą funkcji *plot_results* zostanie wykonany. W przypadku flagi plot z wartością False, zostaną po prostu zwrócone wartości miar wymienonych w poprzednim punkcie dla danej metody."
      ]
    },
    {
      "cell_type": "code",
      "execution_count": 18,
      "id": "ee3f5be1-92a2-4132-a787-eb53772a1540",
      "metadata": {
        "tags": [],
        "id": "ee3f5be1-92a2-4132-a787-eb53772a1540"
      },
      "outputs": [],
      "source": [
        "def fit_and_show(model, name='', plot=True):\n",
        "    results = model.fit_predict(final_df)\n",
        "    if plot:\n",
        "        plot_results(final_df, name, results)\n",
        "        print(f\"Silhouette Coef: {silhouette_score(final_df, results)}\")\n",
        "        print(f\"Calinski-Harabasz Index: {calinski_harabasz_score(final_df, results)}\")\n",
        "        print(f\"Davies-Bouldin Index: {davies_bouldin_score(final_df, results)}\")\n",
        "        return\n",
        "    return silhouette_score(final_df, results), calinski_harabasz_score(final_df, results), davies_bouldin_score(final_df, results)"
      ]
    },
    {
      "cell_type": "markdown",
      "id": "06aa8eef-4a0f-437f-8eee-04a2799e5a3a",
      "metadata": {
        "id": "06aa8eef-4a0f-437f-8eee-04a2799e5a3a"
      },
      "source": [
        "## Dobór najlepszej metody klatrującej i odpowiedniej liczby klastrów.\n"
      ]
    },
    {
      "cell_type": "markdown",
      "id": "48b85b8b-075e-4513-8b53-cc01dcb8cb7e",
      "metadata": {
        "tags": [],
        "id": "48b85b8b-075e-4513-8b53-cc01dcb8cb7e"
      },
      "source": [
        "W poprzedniej sekcji widzieliśmy działanie przykładowych modeli klastrujących na naszym zbiorze danych. W tej sekcji za pomocą trzech indeksów (wprowadzonych wcześniej) wybierzemy najlepszą metodę z większości dostępnych w pakiecie *sklearn.cluster*. Dobierzemy również odpowiednie hyperparametry liczby klastrów. Dobór będzie oparty o trzy wymienione wcześniej wskaźniki.\n"
      ]
    },
    {
      "cell_type": "markdown",
      "id": "0dca75ab-03c1-4acb-a801-7838eef1bd32",
      "metadata": {
        "id": "0dca75ab-03c1-4acb-a801-7838eef1bd32"
      },
      "source": [
        "### Użyte metody"
      ]
    },
    {
      "cell_type": "markdown",
      "id": "77d7b30a-004e-4988-abd3-f00861240229",
      "metadata": {
        "id": "77d7b30a-004e-4988-abd3-f00861240229"
      },
      "source": [
        "Wykorzystane algorytmy to większość z dostępnych w ramach pakietu [sklearn.cluster](https://scikit-learn.org/stable/modules/classes.html#module-sklearn.cluster) oraz metodę [sklearn.mixture.GaussianMixture](https://scikit-learn.org/stable/modules/generated/sklearn.mixture.GaussianMixture.html#sklearn.mixture.GaussianMixture).\n",
        "\n",
        "Lista wraz z krótszym opisem metod:\n",
        "- [AgglomerativeClustering](https://scikit-learn.org/stable/modules/generated/sklearn.cluster.AgglomerativeClustering.html) - metoda hierarchiczna, która łączy obiekty w klastry w oparciu o ich odległość. Można użyć różnych metryk odległości. W naszym przypadku użyjemy metody Warda.\n",
        "- [Birch](https://scikit-learn.org/stable/modules/generated/sklearn.cluster.Birch.html) - metoda hierarchiczna, która wykorzystuje drzewo decyzyjne do tworzenia klastrów.\n",
        "- [KMeans](https://scikit-learn.org/stable/modules/generated/sklearn.cluster.KMeans.html) - metoda niehierarchiczna, która przypisuje obiekty do klastrów w oparciu o ich odległość od ich najbliższego centrum klastra (tzw. centroida).\n",
        "- [BisectingKMeans](https://scikit-learn.org/stable/modules/generated/sklearn.cluster.BisectingKMeans.html) - rozszerzenie metody KMeans, która dzieli zbiory na klastry w sposób iteracyjny.\n",
        "- [MiniBatchKMeans](https://scikit-learn.org/stable/modules/generated/sklearn.cluster.MiniBatchKMeans.html) - wersja metody KMeans, która wykorzystuje minipakiety danych do obliczania centrów klastrów, jest ona szybsza od klasycznej, ale mniej dokładna.\n",
        "- [SpectralClustering](https://scikit-learn.org/stable/modules/generated/sklearn.cluster.SpectralClustering.html) - technika mająca swoje korzenie w teorii grafów, w której to podejście jest wykorzystywane do identyfikowania społeczności węzłów w grafie na podstawie łączących je krawędzi.\n",
        "- [GaussianMixture](https://scikit-learn.org/stable/modules/generated/sklearn.mixture.GaussianMixture.html) - metoda probabilistyczna, która zakłada, że dane pochodzą z mieszaniny rozkładów Gaussa.\n",
        "\n",
        "Poniżej lista zaimportowanych modeli:"
      ]
    },
    {
      "cell_type": "code",
      "execution_count": 19,
      "id": "8403c376-406e-4301-b23d-c8370b69121a",
      "metadata": {
        "tags": [],
        "id": "8403c376-406e-4301-b23d-c8370b69121a"
      },
      "outputs": [],
      "source": [
        "import sklearn.cluster as cl\n",
        "from sklearn.mixture import GaussianMixture"
      ]
    },
    {
      "cell_type": "code",
      "execution_count": 20,
      "id": "59a65035-c276-4677-b395-c566c8d4c94b",
      "metadata": {
        "tags": [],
        "id": "59a65035-c276-4677-b395-c566c8d4c94b"
      },
      "outputs": [],
      "source": [
        "models = [cl.AgglomerativeClustering, cl.Birch, cl.KMeans, cl.BisectingKMeans, cl.MiniBatchKMeans, cl.SpectralClustering, GaussianMixture]"
      ]
    },
    {
      "cell_type": "markdown",
      "id": "999b1bc8-6b5e-4393-94da-18720bb09c16",
      "metadata": {
        "id": "999b1bc8-6b5e-4393-94da-18720bb09c16"
      },
      "source": [
        "Przygotujemy multindex, żeby móc zapisać każdej metodzie wartości trzech indeksów."
      ]
    },
    {
      "cell_type": "code",
      "execution_count": 21,
      "id": "134fed6c-7859-4d6b-bf21-b4e0a3642f64",
      "metadata": {
        "tags": [],
        "id": "134fed6c-7859-4d6b-bf21-b4e0a3642f64"
      },
      "outputs": [],
      "source": [
        "import itertools\n",
        "index = [np.array(list(itertools.chain.from_iterable([[model_name.__name__]*3 for model_name in models]))), np.array(['Silhouette Coef', 'Calinski-Harabasz Index', 'Davies-Bouldin Index'] * len(models))]\n",
        "results = pd.DataFrame(np.zeros((index[0].shape[0], 9)), index=index, columns=np.arange(2, 11)) #inicjujemy pusty DataFrame na wyniki\n"
      ]
    },
    {
      "cell_type": "markdown",
      "id": "16055dcb-b90b-44f0-b311-f61f141fd0a0",
      "metadata": {
        "id": "16055dcb-b90b-44f0-b311-f61f141fd0a0"
      },
      "source": [
        "Liczymy wartości miar dla wszystkich metod, z różnymi liczbami klastrów (od 2 do 11)."
      ]
    },
    {
      "cell_type": "code",
      "execution_count": 22,
      "id": "6267ca57-4016-4679-b452-f388e4315407",
      "metadata": {
        "tags": [],
        "id": "6267ca57-4016-4679-b452-f388e4315407"
      },
      "outputs": [],
      "source": [
        "for num_clasters in range(2, 11):\n",
        "    for model in models:\n",
        "        try:\n",
        "            sc, chi, dbi = fit_and_show(model(n_clusters=num_clasters), plot=False)\n",
        "        except Exception as e:\n",
        "            sc, chi, dbi = fit_and_show(model(n_components=num_clasters), plot=False)\n",
        "        results.loc[(model.__name__, 'Silhouette Coef'), num_clasters] = sc\n",
        "        results.loc[(model.__name__, 'Calinski-Harabasz Index'), num_clasters] = chi\n",
        "        results.loc[(model.__name__, 'Davies-Bouldin Index'), num_clasters] = dbi\n",
        "\n"
      ]
    },
    {
      "cell_type": "markdown",
      "id": "9b1b44a2-ec3a-48b1-886e-2ff38b39d173",
      "metadata": {
        "id": "9b1b44a2-ec3a-48b1-886e-2ff38b39d173"
      },
      "source": [
        "# Rezultaty"
      ]
    },
    {
      "cell_type": "markdown",
      "id": "e700a764-125b-4d78-ba76-95ab585b9539",
      "metadata": {
        "id": "e700a764-125b-4d78-ba76-95ab585b9539"
      },
      "source": [
        "Poniższy DataFrame przedstawia dla każdej użytej metody klastrowania wyliczone trzy wcześniej wspomniane miary jakości klastrowania, wraz ze zmieniającą się liczbą klastrów:"
      ]
    },
    {
      "cell_type": "code",
      "execution_count": 23,
      "id": "ca8e2596-630a-4f71-b191-2b684c798822",
      "metadata": {
        "tags": [],
        "id": "ca8e2596-630a-4f71-b191-2b684c798822",
        "outputId": "876ac2ff-20bb-4a4d-c55c-12976bab269d",
        "colab": {
          "base_uri": "https://localhost:8080/",
          "height": 829
        }
      },
      "outputs": [
        {
          "output_type": "execute_result",
          "data": {
            "text/plain": [
              "                                                        2          3   \\\n",
              "AgglomerativeClustering Silhouette Coef           0.467550   0.360764   \n",
              "                        Calinski-Harabasz Index  32.295371  30.567517   \n",
              "                        Davies-Bouldin Index      0.699866   0.872827   \n",
              "Birch                   Silhouette Coef           0.467550   0.360764   \n",
              "                        Calinski-Harabasz Index  32.295371  30.567517   \n",
              "                        Davies-Bouldin Index      0.699866   0.872827   \n",
              "KMeans                  Silhouette Coef           0.453253   0.321115   \n",
              "                        Calinski-Harabasz Index  37.242326  31.382767   \n",
              "                        Davies-Bouldin Index      0.782450   0.978571   \n",
              "BisectingKMeans         Silhouette Coef           0.453253   0.337302   \n",
              "                        Calinski-Harabasz Index  37.242326  30.926591   \n",
              "                        Davies-Bouldin Index      0.782450   0.983394   \n",
              "MiniBatchKMeans         Silhouette Coef           0.453253   0.321115   \n",
              "                        Calinski-Harabasz Index  37.242326  31.382767   \n",
              "                        Davies-Bouldin Index      0.782450   0.978571   \n",
              "SpectralClustering      Silhouette Coef           0.399919   0.343277   \n",
              "                        Calinski-Harabasz Index  12.957842  14.937617   \n",
              "                        Davies-Bouldin Index      0.624935   0.815005   \n",
              "GaussianMixture         Silhouette Coef           0.453253   0.359326   \n",
              "                        Calinski-Harabasz Index  37.242326  31.000626   \n",
              "                        Davies-Bouldin Index      0.782450   0.933822   \n",
              "\n",
              "                                                        4          5   \\\n",
              "AgglomerativeClustering Silhouette Coef           0.231688   0.209568   \n",
              "                        Calinski-Harabasz Index  26.463591  22.389027   \n",
              "                        Davies-Bouldin Index      1.041464   1.190731   \n",
              "Birch                   Silhouette Coef           0.231688   0.209568   \n",
              "                        Calinski-Harabasz Index  26.463591  22.389027   \n",
              "                        Davies-Bouldin Index      1.041464   1.190731   \n",
              "KMeans                  Silhouette Coef           0.294633   0.250792   \n",
              "                        Calinski-Harabasz Index  26.880599  22.748891   \n",
              "                        Davies-Bouldin Index      1.018912   0.990343   \n",
              "BisectingKMeans         Silhouette Coef           0.247261   0.156553   \n",
              "                        Calinski-Harabasz Index  25.979891  21.505851   \n",
              "                        Davies-Bouldin Index      1.067622   1.459229   \n",
              "MiniBatchKMeans         Silhouette Coef           0.263097   0.266701   \n",
              "                        Calinski-Harabasz Index  23.299768  22.587305   \n",
              "                        Davies-Bouldin Index      1.106562   0.966302   \n",
              "SpectralClustering      Silhouette Coef           0.038366   0.094384   \n",
              "                        Calinski-Harabasz Index  10.594813  13.272259   \n",
              "                        Davies-Bouldin Index      1.155908   1.120455   \n",
              "GaussianMixture         Silhouette Coef           0.261246   0.206213   \n",
              "                        Calinski-Harabasz Index  26.641290  23.227905   \n",
              "                        Davies-Bouldin Index      1.047165   1.198011   \n",
              "\n",
              "                                                        6          7   \\\n",
              "AgglomerativeClustering Silhouette Coef           0.191852   0.185058   \n",
              "                        Calinski-Harabasz Index  20.433568  18.787742   \n",
              "                        Davies-Bouldin Index      1.232915   1.243733   \n",
              "Birch                   Silhouette Coef           0.191852   0.185058   \n",
              "                        Calinski-Harabasz Index  20.433568  18.787742   \n",
              "                        Davies-Bouldin Index      1.232915   1.243733   \n",
              "KMeans                  Silhouette Coef           0.185422   0.188387   \n",
              "                        Calinski-Harabasz Index  19.689225  19.415819   \n",
              "                        Davies-Bouldin Index      1.093544   1.076732   \n",
              "BisectingKMeans         Silhouette Coef           0.104038   0.116359   \n",
              "                        Calinski-Harabasz Index  16.736667  16.044073   \n",
              "                        Davies-Bouldin Index      1.318797   1.327396   \n",
              "MiniBatchKMeans         Silhouette Coef           0.265350   0.195044   \n",
              "                        Calinski-Harabasz Index  18.174092  18.209282   \n",
              "                        Davies-Bouldin Index      0.742387   1.117740   \n",
              "SpectralClustering      Silhouette Coef           0.101195   0.200032   \n",
              "                        Calinski-Harabasz Index  13.242196  17.752986   \n",
              "                        Davies-Bouldin Index      0.999170   0.918781   \n",
              "GaussianMixture         Silhouette Coef           0.211235   0.160734   \n",
              "                        Calinski-Harabasz Index  18.719994  16.371959   \n",
              "                        Davies-Bouldin Index      0.957026   1.123329   \n",
              "\n",
              "                                                        8          9   \\\n",
              "AgglomerativeClustering Silhouette Coef           0.197184   0.213839   \n",
              "                        Calinski-Harabasz Index  17.749561  17.196897   \n",
              "                        Davies-Bouldin Index      1.120526   1.097006   \n",
              "Birch                   Silhouette Coef           0.197184   0.213839   \n",
              "                        Calinski-Harabasz Index  17.749561  17.196897   \n",
              "                        Davies-Bouldin Index      1.120526   1.097006   \n",
              "KMeans                  Silhouette Coef           0.173843   0.205503   \n",
              "                        Calinski-Harabasz Index  18.230004  18.068425   \n",
              "                        Davies-Bouldin Index      1.139386   0.953676   \n",
              "BisectingKMeans         Silhouette Coef           0.124973   0.134641   \n",
              "                        Calinski-Harabasz Index  13.605610  14.527237   \n",
              "                        Davies-Bouldin Index      1.182636   1.269760   \n",
              "MiniBatchKMeans         Silhouette Coef           0.065141   0.206573   \n",
              "                        Calinski-Harabasz Index  13.889964  17.191032   \n",
              "                        Davies-Bouldin Index      1.265614   1.000708   \n",
              "SpectralClustering      Silhouette Coef           0.071957   0.079988   \n",
              "                        Calinski-Harabasz Index  11.004924  11.106821   \n",
              "                        Davies-Bouldin Index      1.166089   1.221225   \n",
              "GaussianMixture         Silhouette Coef           0.138747   0.169867   \n",
              "                        Calinski-Harabasz Index  14.749918  15.608641   \n",
              "                        Davies-Bouldin Index      1.175293   1.049854   \n",
              "\n",
              "                                                        10  \n",
              "AgglomerativeClustering Silhouette Coef           0.213811  \n",
              "                        Calinski-Harabasz Index  16.784674  \n",
              "                        Davies-Bouldin Index      0.923910  \n",
              "Birch                   Silhouette Coef           0.213811  \n",
              "                        Calinski-Harabasz Index  16.784674  \n",
              "                        Davies-Bouldin Index      0.923910  \n",
              "KMeans                  Silhouette Coef           0.203529  \n",
              "                        Calinski-Harabasz Index  16.681041  \n",
              "                        Davies-Bouldin Index      0.910665  \n",
              "BisectingKMeans         Silhouette Coef           0.088490  \n",
              "                        Calinski-Harabasz Index  13.934121  \n",
              "                        Davies-Bouldin Index      1.305250  \n",
              "MiniBatchKMeans         Silhouette Coef           0.166308  \n",
              "                        Calinski-Harabasz Index  16.006105  \n",
              "                        Davies-Bouldin Index      0.847368  \n",
              "SpectralClustering      Silhouette Coef           0.044000  \n",
              "                        Calinski-Harabasz Index   9.394734  \n",
              "                        Davies-Bouldin Index      1.153687  \n",
              "GaussianMixture         Silhouette Coef           0.182008  \n",
              "                        Calinski-Harabasz Index  16.409750  \n",
              "                        Davies-Bouldin Index      0.897295  "
            ],
            "text/html": [
              "\n",
              "  <div id=\"df-0210f0a8-832b-44ca-bcc4-5c891c130c3d\" class=\"colab-df-container\">\n",
              "    <div>\n",
              "<style scoped>\n",
              "    .dataframe tbody tr th:only-of-type {\n",
              "        vertical-align: middle;\n",
              "    }\n",
              "\n",
              "    .dataframe tbody tr th {\n",
              "        vertical-align: top;\n",
              "    }\n",
              "\n",
              "    .dataframe thead th {\n",
              "        text-align: right;\n",
              "    }\n",
              "</style>\n",
              "<table border=\"1\" class=\"dataframe\">\n",
              "  <thead>\n",
              "    <tr style=\"text-align: right;\">\n",
              "      <th></th>\n",
              "      <th></th>\n",
              "      <th>2</th>\n",
              "      <th>3</th>\n",
              "      <th>4</th>\n",
              "      <th>5</th>\n",
              "      <th>6</th>\n",
              "      <th>7</th>\n",
              "      <th>8</th>\n",
              "      <th>9</th>\n",
              "      <th>10</th>\n",
              "    </tr>\n",
              "  </thead>\n",
              "  <tbody>\n",
              "    <tr>\n",
              "      <th rowspan=\"3\" valign=\"top\">AgglomerativeClustering</th>\n",
              "      <th>Silhouette Coef</th>\n",
              "      <td>0.467550</td>\n",
              "      <td>0.360764</td>\n",
              "      <td>0.231688</td>\n",
              "      <td>0.209568</td>\n",
              "      <td>0.191852</td>\n",
              "      <td>0.185058</td>\n",
              "      <td>0.197184</td>\n",
              "      <td>0.213839</td>\n",
              "      <td>0.213811</td>\n",
              "    </tr>\n",
              "    <tr>\n",
              "      <th>Calinski-Harabasz Index</th>\n",
              "      <td>32.295371</td>\n",
              "      <td>30.567517</td>\n",
              "      <td>26.463591</td>\n",
              "      <td>22.389027</td>\n",
              "      <td>20.433568</td>\n",
              "      <td>18.787742</td>\n",
              "      <td>17.749561</td>\n",
              "      <td>17.196897</td>\n",
              "      <td>16.784674</td>\n",
              "    </tr>\n",
              "    <tr>\n",
              "      <th>Davies-Bouldin Index</th>\n",
              "      <td>0.699866</td>\n",
              "      <td>0.872827</td>\n",
              "      <td>1.041464</td>\n",
              "      <td>1.190731</td>\n",
              "      <td>1.232915</td>\n",
              "      <td>1.243733</td>\n",
              "      <td>1.120526</td>\n",
              "      <td>1.097006</td>\n",
              "      <td>0.923910</td>\n",
              "    </tr>\n",
              "    <tr>\n",
              "      <th rowspan=\"3\" valign=\"top\">Birch</th>\n",
              "      <th>Silhouette Coef</th>\n",
              "      <td>0.467550</td>\n",
              "      <td>0.360764</td>\n",
              "      <td>0.231688</td>\n",
              "      <td>0.209568</td>\n",
              "      <td>0.191852</td>\n",
              "      <td>0.185058</td>\n",
              "      <td>0.197184</td>\n",
              "      <td>0.213839</td>\n",
              "      <td>0.213811</td>\n",
              "    </tr>\n",
              "    <tr>\n",
              "      <th>Calinski-Harabasz Index</th>\n",
              "      <td>32.295371</td>\n",
              "      <td>30.567517</td>\n",
              "      <td>26.463591</td>\n",
              "      <td>22.389027</td>\n",
              "      <td>20.433568</td>\n",
              "      <td>18.787742</td>\n",
              "      <td>17.749561</td>\n",
              "      <td>17.196897</td>\n",
              "      <td>16.784674</td>\n",
              "    </tr>\n",
              "    <tr>\n",
              "      <th>Davies-Bouldin Index</th>\n",
              "      <td>0.699866</td>\n",
              "      <td>0.872827</td>\n",
              "      <td>1.041464</td>\n",
              "      <td>1.190731</td>\n",
              "      <td>1.232915</td>\n",
              "      <td>1.243733</td>\n",
              "      <td>1.120526</td>\n",
              "      <td>1.097006</td>\n",
              "      <td>0.923910</td>\n",
              "    </tr>\n",
              "    <tr>\n",
              "      <th rowspan=\"3\" valign=\"top\">KMeans</th>\n",
              "      <th>Silhouette Coef</th>\n",
              "      <td>0.453253</td>\n",
              "      <td>0.321115</td>\n",
              "      <td>0.294633</td>\n",
              "      <td>0.250792</td>\n",
              "      <td>0.185422</td>\n",
              "      <td>0.188387</td>\n",
              "      <td>0.173843</td>\n",
              "      <td>0.205503</td>\n",
              "      <td>0.203529</td>\n",
              "    </tr>\n",
              "    <tr>\n",
              "      <th>Calinski-Harabasz Index</th>\n",
              "      <td>37.242326</td>\n",
              "      <td>31.382767</td>\n",
              "      <td>26.880599</td>\n",
              "      <td>22.748891</td>\n",
              "      <td>19.689225</td>\n",
              "      <td>19.415819</td>\n",
              "      <td>18.230004</td>\n",
              "      <td>18.068425</td>\n",
              "      <td>16.681041</td>\n",
              "    </tr>\n",
              "    <tr>\n",
              "      <th>Davies-Bouldin Index</th>\n",
              "      <td>0.782450</td>\n",
              "      <td>0.978571</td>\n",
              "      <td>1.018912</td>\n",
              "      <td>0.990343</td>\n",
              "      <td>1.093544</td>\n",
              "      <td>1.076732</td>\n",
              "      <td>1.139386</td>\n",
              "      <td>0.953676</td>\n",
              "      <td>0.910665</td>\n",
              "    </tr>\n",
              "    <tr>\n",
              "      <th rowspan=\"3\" valign=\"top\">BisectingKMeans</th>\n",
              "      <th>Silhouette Coef</th>\n",
              "      <td>0.453253</td>\n",
              "      <td>0.337302</td>\n",
              "      <td>0.247261</td>\n",
              "      <td>0.156553</td>\n",
              "      <td>0.104038</td>\n",
              "      <td>0.116359</td>\n",
              "      <td>0.124973</td>\n",
              "      <td>0.134641</td>\n",
              "      <td>0.088490</td>\n",
              "    </tr>\n",
              "    <tr>\n",
              "      <th>Calinski-Harabasz Index</th>\n",
              "      <td>37.242326</td>\n",
              "      <td>30.926591</td>\n",
              "      <td>25.979891</td>\n",
              "      <td>21.505851</td>\n",
              "      <td>16.736667</td>\n",
              "      <td>16.044073</td>\n",
              "      <td>13.605610</td>\n",
              "      <td>14.527237</td>\n",
              "      <td>13.934121</td>\n",
              "    </tr>\n",
              "    <tr>\n",
              "      <th>Davies-Bouldin Index</th>\n",
              "      <td>0.782450</td>\n",
              "      <td>0.983394</td>\n",
              "      <td>1.067622</td>\n",
              "      <td>1.459229</td>\n",
              "      <td>1.318797</td>\n",
              "      <td>1.327396</td>\n",
              "      <td>1.182636</td>\n",
              "      <td>1.269760</td>\n",
              "      <td>1.305250</td>\n",
              "    </tr>\n",
              "    <tr>\n",
              "      <th rowspan=\"3\" valign=\"top\">MiniBatchKMeans</th>\n",
              "      <th>Silhouette Coef</th>\n",
              "      <td>0.453253</td>\n",
              "      <td>0.321115</td>\n",
              "      <td>0.263097</td>\n",
              "      <td>0.266701</td>\n",
              "      <td>0.265350</td>\n",
              "      <td>0.195044</td>\n",
              "      <td>0.065141</td>\n",
              "      <td>0.206573</td>\n",
              "      <td>0.166308</td>\n",
              "    </tr>\n",
              "    <tr>\n",
              "      <th>Calinski-Harabasz Index</th>\n",
              "      <td>37.242326</td>\n",
              "      <td>31.382767</td>\n",
              "      <td>23.299768</td>\n",
              "      <td>22.587305</td>\n",
              "      <td>18.174092</td>\n",
              "      <td>18.209282</td>\n",
              "      <td>13.889964</td>\n",
              "      <td>17.191032</td>\n",
              "      <td>16.006105</td>\n",
              "    </tr>\n",
              "    <tr>\n",
              "      <th>Davies-Bouldin Index</th>\n",
              "      <td>0.782450</td>\n",
              "      <td>0.978571</td>\n",
              "      <td>1.106562</td>\n",
              "      <td>0.966302</td>\n",
              "      <td>0.742387</td>\n",
              "      <td>1.117740</td>\n",
              "      <td>1.265614</td>\n",
              "      <td>1.000708</td>\n",
              "      <td>0.847368</td>\n",
              "    </tr>\n",
              "    <tr>\n",
              "      <th rowspan=\"3\" valign=\"top\">SpectralClustering</th>\n",
              "      <th>Silhouette Coef</th>\n",
              "      <td>0.399919</td>\n",
              "      <td>0.343277</td>\n",
              "      <td>0.038366</td>\n",
              "      <td>0.094384</td>\n",
              "      <td>0.101195</td>\n",
              "      <td>0.200032</td>\n",
              "      <td>0.071957</td>\n",
              "      <td>0.079988</td>\n",
              "      <td>0.044000</td>\n",
              "    </tr>\n",
              "    <tr>\n",
              "      <th>Calinski-Harabasz Index</th>\n",
              "      <td>12.957842</td>\n",
              "      <td>14.937617</td>\n",
              "      <td>10.594813</td>\n",
              "      <td>13.272259</td>\n",
              "      <td>13.242196</td>\n",
              "      <td>17.752986</td>\n",
              "      <td>11.004924</td>\n",
              "      <td>11.106821</td>\n",
              "      <td>9.394734</td>\n",
              "    </tr>\n",
              "    <tr>\n",
              "      <th>Davies-Bouldin Index</th>\n",
              "      <td>0.624935</td>\n",
              "      <td>0.815005</td>\n",
              "      <td>1.155908</td>\n",
              "      <td>1.120455</td>\n",
              "      <td>0.999170</td>\n",
              "      <td>0.918781</td>\n",
              "      <td>1.166089</td>\n",
              "      <td>1.221225</td>\n",
              "      <td>1.153687</td>\n",
              "    </tr>\n",
              "    <tr>\n",
              "      <th rowspan=\"3\" valign=\"top\">GaussianMixture</th>\n",
              "      <th>Silhouette Coef</th>\n",
              "      <td>0.453253</td>\n",
              "      <td>0.359326</td>\n",
              "      <td>0.261246</td>\n",
              "      <td>0.206213</td>\n",
              "      <td>0.211235</td>\n",
              "      <td>0.160734</td>\n",
              "      <td>0.138747</td>\n",
              "      <td>0.169867</td>\n",
              "      <td>0.182008</td>\n",
              "    </tr>\n",
              "    <tr>\n",
              "      <th>Calinski-Harabasz Index</th>\n",
              "      <td>37.242326</td>\n",
              "      <td>31.000626</td>\n",
              "      <td>26.641290</td>\n",
              "      <td>23.227905</td>\n",
              "      <td>18.719994</td>\n",
              "      <td>16.371959</td>\n",
              "      <td>14.749918</td>\n",
              "      <td>15.608641</td>\n",
              "      <td>16.409750</td>\n",
              "    </tr>\n",
              "    <tr>\n",
              "      <th>Davies-Bouldin Index</th>\n",
              "      <td>0.782450</td>\n",
              "      <td>0.933822</td>\n",
              "      <td>1.047165</td>\n",
              "      <td>1.198011</td>\n",
              "      <td>0.957026</td>\n",
              "      <td>1.123329</td>\n",
              "      <td>1.175293</td>\n",
              "      <td>1.049854</td>\n",
              "      <td>0.897295</td>\n",
              "    </tr>\n",
              "  </tbody>\n",
              "</table>\n",
              "</div>\n",
              "    <div class=\"colab-df-buttons\">\n",
              "\n",
              "  <div class=\"colab-df-container\">\n",
              "    <button class=\"colab-df-convert\" onclick=\"convertToInteractive('df-0210f0a8-832b-44ca-bcc4-5c891c130c3d')\"\n",
              "            title=\"Convert this dataframe to an interactive table.\"\n",
              "            style=\"display:none;\">\n",
              "\n",
              "  <svg xmlns=\"http://www.w3.org/2000/svg\" height=\"24px\" viewBox=\"0 -960 960 960\">\n",
              "    <path d=\"M120-120v-720h720v720H120Zm60-500h600v-160H180v160Zm220 220h160v-160H400v160Zm0 220h160v-160H400v160ZM180-400h160v-160H180v160Zm440 0h160v-160H620v160ZM180-180h160v-160H180v160Zm440 0h160v-160H620v160Z\"/>\n",
              "  </svg>\n",
              "    </button>\n",
              "\n",
              "  <style>\n",
              "    .colab-df-container {\n",
              "      display:flex;\n",
              "      gap: 12px;\n",
              "    }\n",
              "\n",
              "    .colab-df-convert {\n",
              "      background-color: #E8F0FE;\n",
              "      border: none;\n",
              "      border-radius: 50%;\n",
              "      cursor: pointer;\n",
              "      display: none;\n",
              "      fill: #1967D2;\n",
              "      height: 32px;\n",
              "      padding: 0 0 0 0;\n",
              "      width: 32px;\n",
              "    }\n",
              "\n",
              "    .colab-df-convert:hover {\n",
              "      background-color: #E2EBFA;\n",
              "      box-shadow: 0px 1px 2px rgba(60, 64, 67, 0.3), 0px 1px 3px 1px rgba(60, 64, 67, 0.15);\n",
              "      fill: #174EA6;\n",
              "    }\n",
              "\n",
              "    .colab-df-buttons div {\n",
              "      margin-bottom: 4px;\n",
              "    }\n",
              "\n",
              "    [theme=dark] .colab-df-convert {\n",
              "      background-color: #3B4455;\n",
              "      fill: #D2E3FC;\n",
              "    }\n",
              "\n",
              "    [theme=dark] .colab-df-convert:hover {\n",
              "      background-color: #434B5C;\n",
              "      box-shadow: 0px 1px 3px 1px rgba(0, 0, 0, 0.15);\n",
              "      filter: drop-shadow(0px 1px 2px rgba(0, 0, 0, 0.3));\n",
              "      fill: #FFFFFF;\n",
              "    }\n",
              "  </style>\n",
              "\n",
              "    <script>\n",
              "      const buttonEl =\n",
              "        document.querySelector('#df-0210f0a8-832b-44ca-bcc4-5c891c130c3d button.colab-df-convert');\n",
              "      buttonEl.style.display =\n",
              "        google.colab.kernel.accessAllowed ? 'block' : 'none';\n",
              "\n",
              "      async function convertToInteractive(key) {\n",
              "        const element = document.querySelector('#df-0210f0a8-832b-44ca-bcc4-5c891c130c3d');\n",
              "        const dataTable =\n",
              "          await google.colab.kernel.invokeFunction('convertToInteractive',\n",
              "                                                    [key], {});\n",
              "        if (!dataTable) return;\n",
              "\n",
              "        const docLinkHtml = 'Like what you see? Visit the ' +\n",
              "          '<a target=\"_blank\" href=https://colab.research.google.com/notebooks/data_table.ipynb>data table notebook</a>'\n",
              "          + ' to learn more about interactive tables.';\n",
              "        element.innerHTML = '';\n",
              "        dataTable['output_type'] = 'display_data';\n",
              "        await google.colab.output.renderOutput(dataTable, element);\n",
              "        const docLink = document.createElement('div');\n",
              "        docLink.innerHTML = docLinkHtml;\n",
              "        element.appendChild(docLink);\n",
              "      }\n",
              "    </script>\n",
              "  </div>\n",
              "\n",
              "\n",
              "<div id=\"df-f97a6bea-fede-4bfa-8dec-29bf1d980d85\">\n",
              "  <button class=\"colab-df-quickchart\" onclick=\"quickchart('df-f97a6bea-fede-4bfa-8dec-29bf1d980d85')\"\n",
              "            title=\"Suggest charts\"\n",
              "            style=\"display:none;\">\n",
              "\n",
              "<svg xmlns=\"http://www.w3.org/2000/svg\" height=\"24px\"viewBox=\"0 0 24 24\"\n",
              "     width=\"24px\">\n",
              "    <g>\n",
              "        <path d=\"M19 3H5c-1.1 0-2 .9-2 2v14c0 1.1.9 2 2 2h14c1.1 0 2-.9 2-2V5c0-1.1-.9-2-2-2zM9 17H7v-7h2v7zm4 0h-2V7h2v10zm4 0h-2v-4h2v4z\"/>\n",
              "    </g>\n",
              "</svg>\n",
              "  </button>\n",
              "\n",
              "<style>\n",
              "  .colab-df-quickchart {\n",
              "      --bg-color: #E8F0FE;\n",
              "      --fill-color: #1967D2;\n",
              "      --hover-bg-color: #E2EBFA;\n",
              "      --hover-fill-color: #174EA6;\n",
              "      --disabled-fill-color: #AAA;\n",
              "      --disabled-bg-color: #DDD;\n",
              "  }\n",
              "\n",
              "  [theme=dark] .colab-df-quickchart {\n",
              "      --bg-color: #3B4455;\n",
              "      --fill-color: #D2E3FC;\n",
              "      --hover-bg-color: #434B5C;\n",
              "      --hover-fill-color: #FFFFFF;\n",
              "      --disabled-bg-color: #3B4455;\n",
              "      --disabled-fill-color: #666;\n",
              "  }\n",
              "\n",
              "  .colab-df-quickchart {\n",
              "    background-color: var(--bg-color);\n",
              "    border: none;\n",
              "    border-radius: 50%;\n",
              "    cursor: pointer;\n",
              "    display: none;\n",
              "    fill: var(--fill-color);\n",
              "    height: 32px;\n",
              "    padding: 0;\n",
              "    width: 32px;\n",
              "  }\n",
              "\n",
              "  .colab-df-quickchart:hover {\n",
              "    background-color: var(--hover-bg-color);\n",
              "    box-shadow: 0 1px 2px rgba(60, 64, 67, 0.3), 0 1px 3px 1px rgba(60, 64, 67, 0.15);\n",
              "    fill: var(--button-hover-fill-color);\n",
              "  }\n",
              "\n",
              "  .colab-df-quickchart-complete:disabled,\n",
              "  .colab-df-quickchart-complete:disabled:hover {\n",
              "    background-color: var(--disabled-bg-color);\n",
              "    fill: var(--disabled-fill-color);\n",
              "    box-shadow: none;\n",
              "  }\n",
              "\n",
              "  .colab-df-spinner {\n",
              "    border: 2px solid var(--fill-color);\n",
              "    border-color: transparent;\n",
              "    border-bottom-color: var(--fill-color);\n",
              "    animation:\n",
              "      spin 1s steps(1) infinite;\n",
              "  }\n",
              "\n",
              "  @keyframes spin {\n",
              "    0% {\n",
              "      border-color: transparent;\n",
              "      border-bottom-color: var(--fill-color);\n",
              "      border-left-color: var(--fill-color);\n",
              "    }\n",
              "    20% {\n",
              "      border-color: transparent;\n",
              "      border-left-color: var(--fill-color);\n",
              "      border-top-color: var(--fill-color);\n",
              "    }\n",
              "    30% {\n",
              "      border-color: transparent;\n",
              "      border-left-color: var(--fill-color);\n",
              "      border-top-color: var(--fill-color);\n",
              "      border-right-color: var(--fill-color);\n",
              "    }\n",
              "    40% {\n",
              "      border-color: transparent;\n",
              "      border-right-color: var(--fill-color);\n",
              "      border-top-color: var(--fill-color);\n",
              "    }\n",
              "    60% {\n",
              "      border-color: transparent;\n",
              "      border-right-color: var(--fill-color);\n",
              "    }\n",
              "    80% {\n",
              "      border-color: transparent;\n",
              "      border-right-color: var(--fill-color);\n",
              "      border-bottom-color: var(--fill-color);\n",
              "    }\n",
              "    90% {\n",
              "      border-color: transparent;\n",
              "      border-bottom-color: var(--fill-color);\n",
              "    }\n",
              "  }\n",
              "</style>\n",
              "\n",
              "  <script>\n",
              "    async function quickchart(key) {\n",
              "      const quickchartButtonEl =\n",
              "        document.querySelector('#' + key + ' button');\n",
              "      quickchartButtonEl.disabled = true;  // To prevent multiple clicks.\n",
              "      quickchartButtonEl.classList.add('colab-df-spinner');\n",
              "      try {\n",
              "        const charts = await google.colab.kernel.invokeFunction(\n",
              "            'suggestCharts', [key], {});\n",
              "      } catch (error) {\n",
              "        console.error('Error during call to suggestCharts:', error);\n",
              "      }\n",
              "      quickchartButtonEl.classList.remove('colab-df-spinner');\n",
              "      quickchartButtonEl.classList.add('colab-df-quickchart-complete');\n",
              "    }\n",
              "    (() => {\n",
              "      let quickchartButtonEl =\n",
              "        document.querySelector('#df-f97a6bea-fede-4bfa-8dec-29bf1d980d85 button');\n",
              "      quickchartButtonEl.style.display =\n",
              "        google.colab.kernel.accessAllowed ? 'block' : 'none';\n",
              "    })();\n",
              "  </script>\n",
              "</div>\n",
              "    </div>\n",
              "  </div>\n"
            ]
          },
          "metadata": {},
          "execution_count": 23
        }
      ],
      "source": [
        "results"
      ]
    },
    {
      "cell_type": "markdown",
      "id": "5cb487eb-d663-49f0-9f35-ad42f865ea29",
      "metadata": {
        "id": "5cb487eb-d663-49f0-9f35-ad42f865ea29"
      },
      "source": [
        "Obiecującą metodą jest K-Means dla dwóch klastrów, która ma wysoki współczynnik Silhouette Coefficient, bardzo wysoki wskaźnik Calinski-Harabasz Index i Davies-Bouldin Index na dość wysokim poziomie. Wyświetlone zatem zostaną wyniki tej metody. Jeżeli chcielibyśmy uzyskać rozwiązanie dla 3 klastrów, też należy korzystać z metody k-średnich."
      ]
    },
    {
      "cell_type": "code",
      "execution_count": 24,
      "id": "0ac5dbd9-e06f-4aca-9c71-9dba725251c5",
      "metadata": {
        "tags": [],
        "id": "0ac5dbd9-e06f-4aca-9c71-9dba725251c5",
        "outputId": "4e47607c-c605-4cdf-9c86-0d008890321b",
        "colab": {
          "base_uri": "https://localhost:8080/",
          "height": 751
        }
      },
      "outputs": [
        {
          "output_type": "stream",
          "name": "stdout",
          "text": [
            "Silhouette Coef: 0.45325266682675536\n",
            "Calinski-Harabasz Index: 37.24232575602608\n",
            "Davies-Bouldin Index: 0.7824495979443283\n"
          ]
        },
        {
          "output_type": "display_data",
          "data": {
            "text/plain": [
              "<Figure size 1000x800 with 1 Axes>"
            ],
            "image/png": "[encoded data removed]"
          },
          "metadata": {}
        }
      ],
      "source": [
        "fit_and_show(cl.KMeans(n_clusters=2), plot=True, name='KMeans')"
      ]
    },
    {
      "cell_type": "code",
      "execution_count": 25,
      "id": "5192d191-2916-4801-84ed-3fffca25f3b6",
      "metadata": {
        "tags": [],
        "id": "5192d191-2916-4801-84ed-3fffca25f3b6",
        "outputId": "6309cee5-7546-4181-cf9e-095acb2f34d0",
        "colab": {
          "base_uri": "https://localhost:8080/",
          "height": 751
        }
      },
      "outputs": [
        {
          "output_type": "stream",
          "name": "stdout",
          "text": [
            "Silhouette Coef: 0.33445736726461694\n",
            "Calinski-Harabasz Index: 31.561392651655716\n",
            "Davies-Bouldin Index: 0.9471296655329985\n"
          ]
        },
        {
          "output_type": "display_data",
          "data": {
            "text/plain": [
              "<Figure size 1000x800 with 1 Axes>"
            ],
            "image/png": "[encoded data removed]"
          },
          "metadata": {}
        }
      ],
      "source": [
        "fit_and_show(cl.KMeans(n_clusters=3), plot=True, name='KMeans')"
      ]
    },
    {
      "cell_type": "markdown",
      "id": "242e6381-148a-4382-8616-01aea3a046e8",
      "metadata": {
        "tags": [],
        "id": "242e6381-148a-4382-8616-01aea3a046e8"
      },
      "source": [
        "Uzyskane podziały sugerują zgodne z odczuciami empirycznymi wnioski."
      ]
    },
    {
      "cell_type": "markdown",
      "id": "36b69d81-a131-4855-a374-cc6dde287c91",
      "metadata": {
        "id": "36b69d81-a131-4855-a374-cc6dde287c91"
      },
      "source": [
        "Dla podziału na dwa skupienia:\n",
        "Europa w swoich zwyczajach związanych z paleniem podzieliła się na grupy:\n",
        "- mało palące: cała Skandynawia, wszystkie kraje Beneluxu, Portugalia, Irlandia i Anglia\n",
        "- palące częściej: reszta krajów"
      ]
    },
    {
      "cell_type": "markdown",
      "id": "20ecd63f-f5ea-43d0-8e00-99c88b7087a9",
      "metadata": {
        "id": "20ecd63f-f5ea-43d0-8e00-99c88b7087a9"
      },
      "source": [
        "Dla podziału na trzy skupienia (który, jak wynika z obliczonych miar jest gorszy):\n",
        "- kraje najmniej palące: cała Skandynawia wraz z Portugalią, Anglią i Luxemburgiem dalej w oddzielnym skupieniu\n",
        "- kraje umiarkowanie palące: kraje Europy środkowej i większość krajów zachodu (bez Niemiec)\n",
        "- kraje mające większe skłonności do palenia: kraje bałkańskie, Grecja, Turcja, Niemcy oraz Łotwa"
      ]
    },
    {
      "cell_type": "markdown",
      "id": "a0df896c-8cab-47b5-8221-8e22e2b987f3",
      "metadata": {
        "id": "a0df896c-8cab-47b5-8221-8e22e2b987f3"
      },
      "source": [
        "## Weryfikacja uzyskanych podziałów"
      ]
    },
    {
      "cell_type": "markdown",
      "id": "20f609ef-e4b8-43d5-b3e5-430e255c28fb",
      "metadata": {
        "tags": [],
        "id": "20f609ef-e4b8-43d5-b3e5-430e255c28fb"
      },
      "source": [
        "W tej części ocenimy jak kształtują się wartości zmiennych w wybranych skupieniach."
      ]
    },
    {
      "cell_type": "code",
      "execution_count": 26,
      "id": "72f9fcba-c3ce-4b79-b4ed-5fc46ff20e8d",
      "metadata": {
        "tags": [],
        "id": "72f9fcba-c3ce-4b79-b4ed-5fc46ff20e8d"
      },
      "outputs": [],
      "source": [
        "m2 = cl.KMeans(n_clusters=2) # model dla dwóch klastrów\n",
        "m3 = cl.KMeans(n_clusters=3) # model dla trzech klastrów\n",
        "# przypisanie labeli\n",
        "division_for_2 = m2.fit_predict(final_df)\n",
        "division_for_3 = m3.fit_predict(final_df)"
      ]
    },
    {
      "cell_type": "markdown",
      "id": "7fe66f52-5c5d-4723-8ec3-abca353a65ec",
      "metadata": {
        "tags": [],
        "id": "7fe66f52-5c5d-4723-8ec3-abca353a65ec"
      },
      "source": [
        "### Podział na dwa klastry"
      ]
    },
    {
      "cell_type": "markdown",
      "id": "1ef47327-01e3-4b1d-8dcd-9e7b3dd1e30f",
      "metadata": {
        "tags": [],
        "id": "1ef47327-01e3-4b1d-8dcd-9e7b3dd1e30f"
      },
      "source": [
        "**klaster 1**"
      ]
    },
    {
      "cell_type": "code",
      "execution_count": 27,
      "id": "026c2689-3be7-4da1-ae00-01c568127bae",
      "metadata": {
        "tags": [],
        "id": "026c2689-3be7-4da1-ae00-01c568127bae",
        "outputId": "3d75d95e-f4b5-4b00-a01a-27988efe9461",
        "colab": {
          "base_uri": "https://localhost:8080/"
        }
      },
      "outputs": [
        {
          "output_type": "execute_result",
          "data": {
            "text/plain": [
              "['Belgium',\n",
              " 'Denmark',\n",
              " 'Ireland',\n",
              " 'Luxembourg',\n",
              " 'Netherlands',\n",
              " 'Portugal',\n",
              " 'Finland',\n",
              " 'Sweden',\n",
              " 'Iceland',\n",
              " 'Norway']"
            ]
          },
          "metadata": {},
          "execution_count": 27
        }
      ],
      "source": [
        "list(new_df[division_for_2 == 0].index)"
      ]
    },
    {
      "cell_type": "code",
      "execution_count": 28,
      "id": "2d670e70-3ab8-4f78-992b-fe230a8d29b6",
      "metadata": {
        "tags": [],
        "id": "2d670e70-3ab8-4f78-992b-fe230a8d29b6",
        "outputId": "a9a08031-73ca-4583-ad18-90b40d2719fa",
        "colab": {
          "base_uri": "https://localhost:8080/"
        }
      },
      "outputs": [
        {
          "output_type": "execute_result",
          "data": {
            "text/plain": [
              "count    10.000000\n",
              "mean     10.226250\n",
              "std       3.338985\n",
              "min       5.104167\n",
              "25%       8.048958\n",
              "50%      10.341667\n",
              "75%      12.741667\n",
              "max      14.929167\n",
              "dtype: float64"
            ]
          },
          "metadata": {},
          "execution_count": 28
        }
      ],
      "source": [
        "new_df[division_for_2 == 0].describe().mean(axis=1)"
      ]
    },
    {
      "cell_type": "markdown",
      "id": "9b315308-acda-4c54-b419-452e1e5cbcee",
      "metadata": {
        "id": "9b315308-acda-4c54-b419-452e1e5cbcee"
      },
      "source": [
        "**klaster 2**"
      ]
    },
    {
      "cell_type": "code",
      "execution_count": 29,
      "id": "51354d7b-2787-4fad-9151-85fd454d60d6",
      "metadata": {
        "tags": [],
        "id": "51354d7b-2787-4fad-9151-85fd454d60d6",
        "outputId": "6372b06e-6487-48ff-885b-5cb0be820b93",
        "colab": {
          "base_uri": "https://localhost:8080/"
        }
      },
      "outputs": [
        {
          "output_type": "execute_result",
          "data": {
            "text/plain": [
              "['European Union',\n",
              " 'Bulgaria',\n",
              " 'Czechia',\n",
              " 'Germany',\n",
              " 'Estonia',\n",
              " 'Greece',\n",
              " 'Spain',\n",
              " 'France',\n",
              " 'Croatia',\n",
              " 'Italy',\n",
              " 'Cyprus',\n",
              " 'Latvia',\n",
              " 'Lithuania',\n",
              " 'Hungary',\n",
              " 'Malta',\n",
              " 'Austria',\n",
              " 'Poland',\n",
              " 'Romania',\n",
              " 'Slovenia',\n",
              " 'Slovakia',\n",
              " 'Serbia',\n",
              " 'Türkiye']"
            ]
          },
          "metadata": {},
          "execution_count": 29
        }
      ],
      "source": [
        "list(new_df[division_for_2 == 1].index)"
      ]
    },
    {
      "cell_type": "code",
      "execution_count": 30,
      "id": "21da0a55-0f80-49e9-8293-76285f957c24",
      "metadata": {
        "tags": [],
        "id": "21da0a55-0f80-49e9-8293-76285f957c24",
        "outputId": "a08ea579-aaa1-4085-d068-289a6739f730",
        "colab": {
          "base_uri": "https://localhost:8080/"
        }
      },
      "outputs": [
        {
          "output_type": "execute_result",
          "data": {
            "text/plain": [
              "count    22.000000\n",
              "mean     19.056061\n",
              "std       3.546998\n",
              "min      13.495833\n",
              "25%      16.747917\n",
              "50%      18.468750\n",
              "75%      20.954792\n",
              "max      27.600000\n",
              "dtype: float64"
            ]
          },
          "metadata": {},
          "execution_count": 30
        }
      ],
      "source": [
        "new_df[division_for_2 == 1].describe().mean(axis=1)"
      ]
    },
    {
      "cell_type": "markdown",
      "id": "89b2dbf6-6078-48b9-af73-e3cd1827945f",
      "metadata": {
        "id": "89b2dbf6-6078-48b9-af73-e3cd1827945f"
      },
      "source": [
        "Klaster z krajami północnymi rzeczywiście odznacza się prawie dwukrotnie mniejszym średnim poziomem statystyk związanych z paleniem niż klaster, który określiliśmy jako kraje częściej palące."
      ]
    },
    {
      "cell_type": "markdown",
      "id": "3c761c56-f0aa-44d8-b685-e766c4f957be",
      "metadata": {
        "tags": [],
        "id": "3c761c56-f0aa-44d8-b685-e766c4f957be"
      },
      "source": [
        "### Podział na trzy klastry"
      ]
    },
    {
      "cell_type": "markdown",
      "id": "3d271be3-6c41-4fdb-801c-5eba05ca6004",
      "metadata": {
        "tags": [],
        "id": "3d271be3-6c41-4fdb-801c-5eba05ca6004"
      },
      "source": [
        "**klaster 1**"
      ]
    },
    {
      "cell_type": "code",
      "execution_count": 31,
      "id": "339f660b-a8c4-4273-99c0-2a3ac77047c6",
      "metadata": {
        "tags": [],
        "id": "339f660b-a8c4-4273-99c0-2a3ac77047c6",
        "outputId": "9abea6d3-41f6-4502-eade-5583c9d07c74",
        "colab": {
          "base_uri": "https://localhost:8080/"
        }
      },
      "outputs": [
        {
          "output_type": "execute_result",
          "data": {
            "text/plain": [
              "['Denmark', 'Luxembourg', 'Portugal', 'Finland', 'Sweden', 'Iceland', 'Norway']"
            ]
          },
          "metadata": {},
          "execution_count": 31
        }
      ],
      "source": [
        "list(new_df[division_for_3 == 0].index)"
      ]
    },
    {
      "cell_type": "code",
      "execution_count": 32,
      "id": "dd4519e5-e5ef-4c07-a87e-39a51622c9c2",
      "metadata": {
        "tags": [],
        "id": "dd4519e5-e5ef-4c07-a87e-39a51622c9c2",
        "outputId": "c9354766-1171-4e92-d3c3-1906586046ed",
        "colab": {
          "base_uri": "https://localhost:8080/"
        }
      },
      "outputs": [
        {
          "output_type": "execute_result",
          "data": {
            "text/plain": [
              "count     7.000000\n",
              "mean      8.836905\n",
              "std       2.795625\n",
              "min       5.104167\n",
              "25%       7.068750\n",
              "50%       8.758333\n",
              "75%      10.533333\n",
              "max      12.791667\n",
              "dtype: float64"
            ]
          },
          "metadata": {},
          "execution_count": 32
        }
      ],
      "source": [
        "new_df[division_for_3 == 0].describe().mean(axis=1)"
      ]
    },
    {
      "cell_type": "markdown",
      "id": "e6d5bfff-78d3-409c-b3a5-6f4aa9e5c4c6",
      "metadata": {
        "id": "e6d5bfff-78d3-409c-b3a5-6f4aa9e5c4c6"
      },
      "source": [
        "Widzimy że w tym klastrze średnia wszystkich zmiennych (które związane są z częstością palenia) wynosi 8.83%."
      ]
    },
    {
      "cell_type": "markdown",
      "id": "b1c66aef-63c5-4376-bf8a-94b9bcbcf50a",
      "metadata": {
        "id": "b1c66aef-63c5-4376-bf8a-94b9bcbcf50a"
      },
      "source": [
        "**klaster 2**"
      ]
    },
    {
      "cell_type": "code",
      "execution_count": 40,
      "id": "fdbe1b93-f60f-492f-ac74-badd6e6e334b",
      "metadata": {
        "tags": [],
        "id": "fdbe1b93-f60f-492f-ac74-badd6e6e334b",
        "outputId": "faad858b-ac56-4ea0-ad8a-06c0ed6d402c",
        "colab": {
          "base_uri": "https://localhost:8080/"
        }
      },
      "outputs": [
        {
          "output_type": "execute_result",
          "data": {
            "text/plain": [
              "['European Union',\n",
              " 'Belgium',\n",
              " 'Czechia',\n",
              " 'Estonia',\n",
              " 'Ireland',\n",
              " 'Spain',\n",
              " 'France',\n",
              " 'Italy',\n",
              " 'Lithuania',\n",
              " 'Hungary',\n",
              " 'Malta',\n",
              " 'Netherlands',\n",
              " 'Austria',\n",
              " 'Poland',\n",
              " 'Romania',\n",
              " 'Slovenia',\n",
              " 'Slovakia']"
            ]
          },
          "metadata": {},
          "execution_count": 40
        }
      ],
      "source": [
        "list(new_df[division_for_3 == 1].index)"
      ]
    },
    {
      "cell_type": "code",
      "execution_count": 41,
      "id": "8f882871-b756-4026-b773-196079bf6a47",
      "metadata": {
        "tags": [],
        "id": "8f882871-b756-4026-b773-196079bf6a47",
        "outputId": "074102cb-c990-4bcb-b96c-65eb309d6bd9",
        "colab": {
          "base_uri": "https://localhost:8080/"
        }
      },
      "outputs": [
        {
          "output_type": "execute_result",
          "data": {
            "text/plain": [
              "count    17.000000\n",
              "mean     16.737990\n",
              "std       2.762891\n",
              "min      11.879167\n",
              "25%      15.016667\n",
              "50%      16.929167\n",
              "75%      18.225000\n",
              "max      21.820833\n",
              "dtype: float64"
            ]
          },
          "metadata": {},
          "execution_count": 41
        }
      ],
      "source": [
        "new_df[division_for_3 == 1].describe().mean(axis=1)"
      ]
    },
    {
      "cell_type": "markdown",
      "id": "a14df42d-3bc7-4633-b9c6-738bb9275ec5",
      "metadata": {
        "id": "a14df42d-3bc7-4633-b9c6-738bb9275ec5"
      },
      "source": [
        "W klastrze, w którym spodziewaliśmy się zobaczyć większy udział palenia, rzeczywiście średnia zmiennych związanych ze zjawiskiem palenia jest prawie dwa razy większa."
      ]
    },
    {
      "cell_type": "markdown",
      "id": "f102633c-c900-4e7a-9882-16bb12f40f48",
      "metadata": {
        "id": "f102633c-c900-4e7a-9882-16bb12f40f48"
      },
      "source": [
        "**klaster 3**"
      ]
    },
    {
      "cell_type": "code",
      "execution_count": 42,
      "id": "cbc5a090-11f3-4916-af73-319ddc875312",
      "metadata": {
        "tags": [],
        "id": "cbc5a090-11f3-4916-af73-319ddc875312",
        "outputId": "7e12c82a-f702-4690-8d29-375572e3968d",
        "colab": {
          "base_uri": "https://localhost:8080/"
        }
      },
      "outputs": [
        {
          "output_type": "execute_result",
          "data": {
            "text/plain": [
              "['Bulgaria',\n",
              " 'Germany',\n",
              " 'Greece',\n",
              " 'Croatia',\n",
              " 'Cyprus',\n",
              " 'Latvia',\n",
              " 'Serbia',\n",
              " 'Türkiye']"
            ]
          },
          "metadata": {},
          "execution_count": 42
        }
      ],
      "source": [
        "list(new_df[division_for_3 == 2].index)"
      ]
    },
    {
      "cell_type": "code",
      "execution_count": 43,
      "id": "974fb1c0-6312-4a8a-8e86-0de5f23b2150",
      "metadata": {
        "tags": [],
        "id": "974fb1c0-6312-4a8a-8e86-0de5f23b2150",
        "outputId": "9180001b-f97a-4268-c3b5-52f5eb7ccc6f",
        "colab": {
          "base_uri": "https://localhost:8080/"
        }
      },
      "outputs": [
        {
          "output_type": "execute_result",
          "data": {
            "text/plain": [
              "count     8.000000\n",
              "mean     21.886458\n",
              "std       3.172651\n",
              "min      17.829167\n",
              "25%      19.867708\n",
              "50%      21.479167\n",
              "75%      23.447917\n",
              "max      27.233333\n",
              "dtype: float64"
            ]
          },
          "metadata": {},
          "execution_count": 43
        }
      ],
      "source": [
        "new_df[division_for_3 == 2].describe().mean(axis=1)"
      ]
    },
    {
      "cell_type": "markdown",
      "id": "f3035dc0-3400-4857-9378-3452124009ed",
      "metadata": {
        "id": "f3035dc0-3400-4857-9378-3452124009ed"
      },
      "source": [
        "Klaster, który podejrzewaliśmy o największe skłonności do palenia wśród obywateli, rzeczywiście ma średnią wartość zmiennych wyższą od poprzedniego (określanego jako umiarkowany)."
      ]
    },
    {
      "cell_type": "markdown",
      "id": "e845a6ac-275f-43a8-867d-56bdbba962ae",
      "metadata": {
        "id": "e845a6ac-275f-43a8-867d-56bdbba962ae"
      },
      "source": [
        "Analizy te nie miały na celu pogłębionego badania zjawiska palenia w klastrach, a zweryfikować powierzchowną zgodność zachowań zjawisk w wydzielonych klastrach. Okazało się, że nasza intuicja co do podziałów jest jak najbardziej uzasadniona."
      ]
    },
    {
      "cell_type": "markdown",
      "id": "70b557bf",
      "metadata": {
        "id": "70b557bf"
      },
      "source": [
        "# Podsumowanie"
      ]
    },
    {
      "cell_type": "markdown",
      "id": "4dbd84ad",
      "metadata": {
        "id": "4dbd84ad"
      },
      "source": [
        "Widzimy, że zastosowane różne metody klastrowania dały podobne rezultaty.\n",
        "\n",
        "Dla metody k-średnich współczynnik Silhouette oraz indeksy Calinski-Harabasz i Davies-Bouldin dały jednoznaczny werdykt - podział próby na 2 klastry będzie rozwiązaniem optymalnym oraz wszystkie te trzy mierniki jednocześnie będą na wysokim poziomie. Dzięki tym wskaźnikom można było stwierdzić, że metody te, będą jednymi z lepszych do przeprowadzenia analizy.\n",
        "\n",
        "To wszystko wskazuje nam, że cel, jakim był podział obiektów (krajów Europy) na skupienia, został zrealizowany pomyślnie. Kraje o dużym odsetku palących zostały odseparowane od krajów, w których odsetek palaczy nie przyjmuje tak dużych wartości.\n",
        "\n",
        "Wyniki naszego badania różnią się od wyników badania literaturowego. Najbardziej zaskakującym faktem jest różnica we wskaźnikach śmiertelności kobiet. W badaniu literaturowym kraje z najwyższymi wskaźnikami to były w dużej mierze kraje północnej Europy. W naszym badaniu kraje te wykazały przynależność do klastra krajów mniej palących.\n",
        "\n",
        "Wyniki badania literaturowego dla mężczyzn też nie są zbieżne z wynikami naszej analizy. Idąc za naszym badaniem spodziewalibyśmy się, że najwyższymi wskaźnikami śmiertelności będą charakteryzować się obywatele krajów południa Europy, a są to kraje Europy Środkowej.\n",
        "\n",
        "Różnice wynikają przede wszystkim z faktu, że nasze badanie i badanie literaturowe nie badają stricte tego samego zjawiska. Wydawałoby się, że związek pomiędzy zjawiskiem samego palenia papierosów w kraju a spowodowaną przez nie śmiertelnością będzie wystarczająco silny. Okazało się jednak, że siła zależności między nawykiem a śmiertelnością nie jest na tyle duża, aby stwierdzić, że nawyk palenia papiersów w danym kraju jednoznacznie wpływa na śmiertelność z powodu palenia papierosów. Mogą na to wpływać inne czynniki nieuwzględnione w badaniu, zatem niezgodność wyników nie świadczy o niepoprawności badania. Jak sprawdziliśmy w naszej pracy uzyskane klastry charakteryzują się wyraźnie różnymi średnimi poziomami badanych zmiennych, co pozwala wnioskować o poprawności przeprowadzonych procedur analizy skupień."
      ]
    },
    {
      "cell_type": "markdown",
      "id": "b56212c5-539f-4b50-b292-ffad89c00728",
      "metadata": {
        "tags": [],
        "id": "b56212c5-539f-4b50-b292-ffad89c00728"
      },
      "source": [
        "# Bibliografia"
      ]
    },
    {
      "cell_type": "markdown",
      "id": "60ad366a-798b-4882-b1ec-731f594eea02",
      "metadata": {
        "id": "60ad366a-798b-4882-b1ec-731f594eea02"
      },
      "source": [
        "1. World Health Organization - https://www.who.int/news-room/fact-sheets/detail/tobacco\n",
        "2. ,,Smoking epidemic in Europe in the 21st century\", F. Janssen, Shady El Gewily, Anastasios Bardoutsos - https://pubmed.ncbi.nlm.nih.gov/32769210/\n",
        "3. Wikipedia ,,Kernel density estimation\" - https://en.wikipedia.org/wiki/Kernel_density_estimation\n",
        "4. ,,Bootstrap Confidence Intervals and Bootstrap Approximations\", T. Diciccio, R. Tibshirani - https://www.tandfonline.com/doi/abs/10.1080/01621459.1987.10478409\n",
        "5. Wikipedia ,,Principal component analysis\" - https://en.wikipedia.org/wiki/Principal_component_analysis\n",
        "6. ,,Silhouettes: A graphical aid to the interpretation and validation of cluster analysis\", Peter J. Rousseeuw - https://www.sciencedirect.com/science/article/pii/0377042787901257\n",
        "7. ,,A dendrite method for cluster analysis\", T. Caliński, J. Harabasz - https://www.tandfonline.com/doi/abs/10.1080/03610927408827101\n",
        "8. ,,A Cluster Separation Measure\", David L. Davies, Donald W. Bouldin - https://ieeexplore.ieee.org/document/4766909\n"
      ]
    }
  ],
  "metadata": {
    "kernelspec": {
      "display_name": "Python 3 (ipykernel)",
      "language": "python",
      "name": "python3"
    },
    "language_info": {
      "codemirror_mode": {
        "name": "ipython",
        "version": 3
      },
      "file_extension": ".py",
      "mimetype": "text/x-python",
      "name": "python",
      "nbconvert_exporter": "python",
      "pygments_lexer": "ipython3",
      "version": "3.11.4"
    },
    "colab": {
      "provenance": []
    }
  },
  "nbformat": 4,
  "nbformat_minor": 5
}