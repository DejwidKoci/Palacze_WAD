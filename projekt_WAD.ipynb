{
  "cells": [
    {
      "cell_type": "markdown",
      "id": "19137fe3",
      "metadata": {
        "id": "19137fe3"
      },
      "source": [
        "# Cluster analysis of European countries by number of smokers"
      ]
    },
    {
      "cell_type": "markdown",
      "id": "9918ebe3",
      "metadata": {
        "id": "9918ebe3"
      },
      "source": [
        "# Authors\n",
        "Adam Dohojda, Kacper Kiereś, Dawid Koceniak, Wiktoria Stęczna"
      ]
    },
    {
      "cell_type": "markdown",
      "id": "dd5f2c87",
      "metadata": {
        "id": "dd5f2c87"
      },
      "source": [
        "# Abstract\n",
        "In this project, we perform a cluster analysis of European countries in terms of citizens' smoking habits. We want to identify which countries have similar statistical properties in terms of smoking habits, dividing them into clusters.\n",
        "In this work, we focused on selection, visualising the collected variables on smoking prevalence in European countries, describing them with descriptive statistics, standardising them and subjecting them to clustering procedures using models from the sci-kit learn library of the Python language. The quality of the divisions was then assessed using a visual method, as well as a series of measures describing the quality of the clustering, to finally select the most effective method for dividing European countries into clusters with similar tobacco consumption habits within the clusters. The chosen division was made using an optimal clustering method as well as an appropriate number of clusters. Finally, we attempt to interpret the results to assess the substantive composition of the clusters."
      ]
    },
    {
      "cell_type": "markdown",
      "id": "e7b32243",
      "metadata": {
        "id": "e7b32243"
      },
      "source": [
        "# Keywords\n",
        "- clustering\n",
        "- burning\n",
        "- choice of methods\n",
        "- smoking habits\n",
        "- object division"
      ]
    },
    {
      "cell_type": "markdown",
      "id": "a550a384-b40b-4db7-aeec-f99df291b547",
      "metadata": {
        "id": "a550a384-b40b-4db7-aeec-f99df291b547",
        "tags": []
      },
      "source": [
        "# Introduction\n",
        "Cigarette smoking, or nicotinism, is a physical addiction as well as a psychological one, and as such is described in detail in the International Classification of Diseases and Health Problems ICD 10.\n",
        "\n",
        "The smoking epidemic is one of the largest public health threats worldwide, killing more than 8 million people each year. More than 7 million of these deaths are the result of direct tobacco use, while approximately 1.3 million are the result of exposure of non-smokers to so-called passive smoking.\n",
        "\n",
        "All forms of smoking are harmful and there is no safe level of exposure to tobacco. Cigarette smoking is the most prevalent form of tobacco use worldwide and it is this problem that we have chosen to investigate in our work."
      ]
    },
    {
      "cell_type": "markdown",
      "id": "8fd3497e",
      "metadata": {
        "id": "8fd3497e"
      },
      "source": [
        "# Subject of the study\n",
        "\n",
        "The subject of this study is a comprehensive analysis of smoking habits among European countries, using a cluster analysis method. We will attempt to identify similarities and differences in smoking patterns between different countries, allowing for the identification of clusters with similar smoking characteristics. The study includes a range of visualisations, from density plots of each variable to plots of the clusters themselves in different variants."
      ]
    },
    {
      "cell_type": "markdown",
      "id": "1ec74351-942d-4caa-8521-32e4fb1664b7",
      "metadata": {
        "id": "1ec74351-942d-4caa-8521-32e4fb1664b7"
      },
      "source": [
        "## Purpose and scope of the study \n",
        "\n",
        "The aim of this study is to understand the variation in smoking habits among European countries through the use of cluster analysis. Methods used in the study include the k-means method, hierarchical clustering or Gaussian Mixture.\n",
        "\n",
        "The countries selected for analysis are:Belgium, Bulgaria, Czech Republic, Denmark, Germany, Estonia, Ireland, Greece, Spain, France, Croatia, Italy, Cyprus, Latvia, Lithuania, Luxembourg, Hungary, Malta, Netherlands, Austria, Poland, Portugal, Romania, Slovenia, Slovakia, Finland, Sweden, Iceland, Norway, European Union, Serbia, Turkey. The data analysed is from 2019.\n",
        "\n",
        "In order to identify the best method of dividing objects into clusters, 3 indices were used(Calinski-Harabsz Index, Davies-Bouldin Index, Silhouette Coefficient) calculated for each of the selected methods and a varied number of clusters(from 2 to 10)."
      ]
    },
    {
      "cell_type": "markdown",
      "id": "df15d77c-c002-4750-ab68-3cbe369fdc69",
      "metadata": {
        "id": "df15d77c-c002-4750-ab68-3cbe369fdc69"
      },
      "source": [
        "## Literature review\n",
        "\n",
        "The topic of the smoking problem in Europe was addressed in the 2020 paper ,,Smoking epidemic in Europe in the 21st century\" by authors F. Janssen, S. El Gewily, A. Bardoutsos. The researchers, on the basis of a previous, similar study, decided to calculate , \"smoking-attributable mortality fractions\" - SAMF, or smoking attributable mortality fractions, and project them to the year 2100. The fractions were counted for 29 European countries by gender - the men surveyed were aged 35-84 years and the women aged 40-84 years.\n",
        "\n",
        "The authors used the Peto-Lopez method for the study, which uses national lung cancer mortality rates adjusted for the non-smoking portion. The method also assumes that the rate is also adjusted for smokers' exposure to other environmental factors.Finally, a SAMF for each year of life is obtained, e.g. for age 50, for age 51. The authors obtained the cumulative SAMF for each calendar year for nationals using death distributions for specific populations from the mortality database from the University of California, Berkeley.\n",
        "\n",
        "In 2014, Hungary(40.65) for men and Denmark(26.98) for women had the highest mortality rate in Europe as defined in the study. In addition, the top highest mortality rates for men were: Spain, Poland, Slovakia, Slovenia and Russia. For women these were: Iceland, Ireland, the Netherlands, the United Kingdom."
      ]
    },
    {
      "cell_type": "markdown",
      "id": "0aec29c2-e2b3-414d-81e3-dbe6cdfe7630",
      "metadata": {
        "id": "0aec29c2-e2b3-414d-81e3-dbe6cdfe7630"
      },
      "source": [
        "## Variables selected for analysis\n",
        "\n",
        "$X_1$ - percentage of smokers in the country [%]\\\n",
        "$X_2$ - percentage of smokers smoking less than 20 cigarettes per day [%]\\\n",
        "$X_3$ - percentage of smokers smoking more than 20 cigarettes per day [%]\\\n",
        "$X_4$ - percentage of smokers residing in urban metropolitan areas [%]\\\n",
        "$X_5$ - percentage of smokers residing in small city areas [%]\\\n",
        "$X_6$ - percentage of smokers residing in rural areas [%]\\\n",
        "$X_7$ - percentage of male smokers [%]\\\n",
        "$X_8$ - percentage of female smokers [%]\\\n",
        "$X_9$ - percentage of smokers in the age range 15 - 19 [%]\\\n",
        "$X_{10}$ - percentage of smokers in the age bracket 15 - 24 [%]\\\n",
        "$X_{11}$ - percentage of smokers in the age range 15 - 29 years [%]\\\n",
        "$X_{12}$ - percentage of smokers in the age range 15 - 64 years [%]\\\n",
        "$X_{13}$ - percentage of smokers in the age range 18 - 24 years [%]\\\n",
        "$X_{14}$ - percentage of smokers with at least 18 years of age. [%]\\\n",
        "$X_{15}$ - percentage of smokers in the age range 20 - 24 years [%]\\\n",
        "$X_{16}$ - percentage of smokers in the age bracket 25 - 29 years [%]\\\n",
        "$X_{17}$ - percentage of smokers in the age bracket 25 - 34 years [%]\\\n",
        "$X_{18}$ - percentage of smokers in the age range 35 - 44 years [%]\\\n",
        "$X_{19}$ - percentage of smokers in the age bracket 45 - 54 years [%]\\\n",
        "$X_{20}$ - percentage of smokers in the age bracket 45 - 64 years [%]\\\n",
        "$X_{21}$ - percentage of smokers in the age range 55 - 64 years [%]\\\n",
        "$X_{22}$ - percentage of smokers in the age range 65 - 74 [%]\\\n",
        "$X_{23}$ - percentage of smokers with at least 65 years of age [%]\\\n",
        "$X_{24}$ - percentage of smokers with at least 75 years of age [%]\\"
      ]
    },
    {
      "cell_type": "markdown",
      "id": "33d010f2-8277-4e83-9611-3e47c6e93d99",
      "metadata": {
        "id": "33d010f2-8277-4e83-9611-3e47c6e93d99",
        "tags": []
      },
      "source": [
        "The selected variables comprehensively and multidimensionally treat the problem of smoking in the countries studied. The selected shares represent smoking habits among the diverse demographics of European countries. Such a broad set of variables makes it possible to model the smoking habits of a country's citizens as a whole."
      ]
    },
    {
      "cell_type": "markdown",
      "id": "bf386020-105c-4c76-8ba1-5a9bd52c4e77",
      "metadata": {
        "id": "bf386020-105c-4c76-8ba1-5a9bd52c4e77"
      },
      "source": [
        "## Preliminary data analysis"
      ]
    },
    {
      "cell_type": "code",
      "execution_count": 1,
      "id": "aea28722-2553-43ba-8f0b-d7cc2e6d6fe9",
      "metadata": {
        "id": "aea28722-2553-43ba-8f0b-d7cc2e6d6fe9",
        "tags": []
      },
      "outputs": [],
      "source": [
        "import warnings\n",
        "warnings.filterwarnings('ignore', category=FutureWarning) #turn off warnings\n",
        "\n",
        "import pandas as pd\n",
        "import matplotlib.pyplot as plt\n",
        "import openpyxl\n",
        "import numpy as np\n",
        "import seaborn as sns\n",
        "from scipy.stats import skew, kurtosis, bootstrap\n",
        "from sklearn.impute import KNNImputer\n",
        "from sklearn.preprocessing import StandardScaler"
      ]
    },
    {
      "cell_type": "markdown",
      "id": "1f10da78-badf-4c29-af56-baea4aa25b8f",
      "metadata": {
        "id": "1f10da78-badf-4c29-af56-baea4aa25b8f"
      },
      "source": [
        "Loading data into the DataFrame"
      ]
    },
    {
      "cell_type": "code",
      "execution_count": 2,
      "id": "40c36cb0-36d8-4a6e-b905-4116822a0593",
      "metadata": {
        "id": "40c36cb0-36d8-4a6e-b905-4116822a0593",
        "tags": []
      },
      "outputs": [],
      "source": [
        "df = pd.read_excel('Data.xlsx').set_index('Country')"
      ]
    },
    {
      "cell_type": "markdown",
      "id": "4f1df28d-ebc1-44e9-b716-cb237de58ed9",
      "metadata": {
        "id": "4f1df28d-ebc1-44e9-b716-cb237de58ed9"
      },
      "source": [
        "### Handling data gaps"
      ]
    },
    {
      "cell_type": "markdown",
      "id": "f2d43953-69e3-48c1-a41c-658f22aba833",
      "metadata": {
        "id": "f2d43953-69e3-48c1-a41c-658f22aba833"
      },
      "source": [
        "In which variables do we observe value gaps?"
      ]
    },
    {
      "cell_type": "code",
      "execution_count": 3,
      "id": "2ce532ef-970f-437d-b626-dd9d42b83b85",
      "metadata": {
        "colab": {
          "base_uri": "https://localhost:8080/"
        },
        "id": "2ce532ef-970f-437d-b626-dd9d42b83b85",
        "outputId": "3895b9f0-81c4-4b8d-d024-4f4bdf97b839",
        "tags": []
      },
      "outputs": [
        {
          "data": {
            "text/plain": [
              "X1     0\n",
              "X2     0\n",
              "X3     0\n",
              "X4     2\n",
              "X5     2\n",
              "X6     2\n",
              "X7     0\n",
              "X8     0\n",
              "X9     0\n",
              "X10    0\n",
              "X11    0\n",
              "X12    0\n",
              "X13    0\n",
              "X14    0\n",
              "X15    0\n",
              "X16    0\n",
              "X17    0\n",
              "X18    0\n",
              "X19    0\n",
              "X20    0\n",
              "X21    0\n",
              "X22    0\n",
              "X23    0\n",
              "X24    0\n",
              "dtype: int64"
            ]
          },
          "execution_count": 3,
          "metadata": {},
          "output_type": "execute_result"
        }
      ],
      "source": [
        "np.sum(np.isnan(df), axis=0)"
      ]
    },
    {
      "cell_type": "markdown",
      "id": "fce19152-9792-4599-a1f5-c161c2b909c0",
      "metadata": {
        "id": "fce19152-9792-4599-a1f5-c161c2b909c0"
      },
      "source": [
        "We see missing values in $X_4$, $X_5$, $X_6$."
      ]
    },
    {
      "cell_type": "markdown",
      "id": "10d4db17-1653-4ccf-a338-6e1c4fd15415",
      "metadata": {
        "id": "10d4db17-1653-4ccf-a338-6e1c4fd15415"
      },
      "source": [
        "In which countries are there data gaps?"
      ]
    },
    {
      "cell_type": "code",
      "execution_count": 4,
      "id": "42aeb207-a4c5-40a8-b3d3-c16da5c29ae1",
      "metadata": {
        "colab": {
          "base_uri": "https://localhost:8080/"
        },
        "id": "42aeb207-a4c5-40a8-b3d3-c16da5c29ae1",
        "outputId": "77eb3b8d-ca02-4014-d6ec-ee763b981681",
        "tags": []
      },
      "outputs": [
        {
          "data": {
            "text/plain": [
              "Country\n",
              "Serbia     3\n",
              "Türkiye    3\n",
              "dtype: int64"
            ]
          },
          "execution_count": 4,
          "metadata": {},
          "output_type": "execute_result"
        }
      ],
      "source": [
        "np.sum(np.isnan(df), axis=1)[np.sum(np.isnan(df), axis=1) > 0]"
      ]
    },
    {
      "cell_type": "markdown",
      "id": "2a949b1d-d23b-4a10-a7ea-0076df359ebf",
      "metadata": {
        "id": "2a949b1d-d23b-4a10-a7ea-0076df359ebf",
        "tags": []
      },
      "source": [
        "Missing data occur for Turkey and Serbia. Supplementing these data with zeros may not be appropriate, for substantive reasons (in these countries we expect these variables to have taken much larger values)."
      ]
    },
    {
      "cell_type": "markdown",
      "id": "f1c4e334-b458-48b0-a729-d6e219ee0b4b",
      "metadata": {
        "id": "f1c4e334-b458-48b0-a729-d6e219ee0b4b",
        "tags": []
      },
      "source": [
        "**Filling in missing data**"
      ]
    },
    {
      "cell_type": "markdown",
      "id": "27eee6f3-ae47-480c-8dbf-15c81634230a",
      "metadata": {
        "id": "27eee6f3-ae47-480c-8dbf-15c81634230a",
        "tags": []
      },
      "source": [
        "To fill in the gaps, we will use an object of class [KNNImputer](https://scikit-learn.org/stable/modules/generated/sklearn.impute.KNNImputer.html) from the sci-kit learn package. The values of the hyperparameters will be set by default (number of neighbours = 5, Euclidean distance)."
      ]
    },
    {
      "cell_type": "code",
      "execution_count": 5,
      "id": "a9b57595-938b-4158-be3d-ce1833d4543d",
      "metadata": {
        "id": "a9b57595-938b-4158-be3d-ce1833d4543d",
        "tags": []
      },
      "outputs": [],
      "source": [
        "imputer = KNNImputer()\n",
        "new_df = pd.DataFrame(imputer.fit_transform(df), columns=imputer.get_feature_names_out(), index=df.index)\n"
      ]
    },
    {
      "cell_type": "markdown",
      "id": "d2b633ee-d387-42c6-bafd-60a2c4e76332",
      "metadata": {
        "id": "d2b633ee-d387-42c6-bafd-60a2c4e76332"
      },
      "source": [
        "### Visualisation of the variables, together with their estimated densities"
      ]
    },
    {
      "cell_type": "markdown",
      "id": "4a5c5fc6-85ed-48ee-a294-08b52869edef",
      "metadata": {
        "id": "4a5c5fc6-85ed-48ee-a294-08b52869edef"
      },
      "source": [
        "In this step, we visualise all the variables, aiming to obtain density histograms (so the vertical axis represents frequencies, instead of the number of values of a variable occurring). Additionally, for a deeper understanding, we used the [kdeplot](https://seaborn.pydata.org/generated/seaborn.kdeplot.html) method from the SeaBorn package to plot the estimated density curve. You can read more about the implemented method [here](https://en.wikipedia.org/wiki/Kernel_density_estimation)."
      ]
    },
    {
      "cell_type": "code",
      "execution_count": 6,
      "id": "42449241-de98-49e7-8c17-e358c2d01bfc",
      "metadata": {
        "colab": {
          "base_uri": "https://localhost:8080/",
          "height": 853
        },
        "id": "42449241-de98-49e7-8c17-e358c2d01bfc",
        "outputId": "59210425-2ef7-417d-d506-708e391e43cf",
        "tags": []
      },
      "outputs": [
        {
          "data": {
            "image/png": "[encoded data removed]",
            "text/plain": [
              "<Figure size 1200x1000 with 24 Axes>"
            ]
          },
          "metadata": {},
          "output_type": "display_data"
        }
      ],
      "source": [
        "plt.style.use('fast')\n",
        "fig, axs = plt.subplots(nrows=6, ncols=4, figsize=(12,10))\n",
        "plt.subplots_adjust(hspace=0.5)\n",
        "for ax, col in zip(axs.flat, df.columns):\n",
        "    ax.hist(df[col], bins=10, density=True)\n",
        "    sns.kdeplot(df[col], ax=ax)\n",
        "    ax.grid(True)\n",
        "    ax.set_title(col)\n",
        "    ax.set_xlabel('')"
      ]
    },
    {
      "cell_type": "markdown",
      "id": "82ee4689-bb42-4272-a3c0-747468a45996",
      "metadata": {
        "id": "82ee4689-bb42-4272-a3c0-747468a45996",
        "tags": []
      },
      "source": [
        "From the graphs, we can see the apparent unimodality of the distributions, the relative symmetry and the differences in the observed flattening of the curve. We will further verify the last two observations later in the paper."
      ]
    },
    {
      "cell_type": "markdown",
      "id": "4ec44d19-b6e5-45e4-b225-aa8269e35658",
      "metadata": {
        "id": "4ec44d19-b6e5-45e4-b225-aa8269e35658"
      },
      "source": [
        "### Descriptive statistics"
      ]
    },
    {
      "cell_type": "markdown",
      "id": "05208e11-22e5-4973-a48b-29f2b0c17b68",
      "metadata": {
        "id": "05208e11-22e5-4973-a48b-29f2b0c17b68",
        "tags": []
      },
      "source": [
        "In this section we will count and interpret the descriptive statistics of our dataset. To the basic statistics calculated by the Pandas package, we have added calculated [skewness](https://docs.scipy.org/doc/scipy/reference/generated/scipy.stats.skew.html#scipy.stats.skew) and [kurtosis](https://docs.scipy.org/doc/scipy/reference/generated/scipy.stats.kurtosis.html)."
      ]
    },
    {
      "cell_type": "code",
      "execution_count": 7,
      "id": "57cfcb77-448c-4bbd-a112-fdc123e0ad62",
      "metadata": {
        "colab": {
          "base_uri": "https://localhost:8080/",
          "height": 802
        },
        "id": "57cfcb77-448c-4bbd-a112-fdc123e0ad62",
        "outputId": "618e3a44-8d61-4e94-e5a3-fb7dbc035409",
        "tags": []
      },
      "outputs": [
        {
          "data": {
            "text/html": [
              "<div>\n",
              "<style scoped>\n",
              "    .dataframe tbody tr th:only-of-type {\n",
              "        vertical-align: middle;\n",
              "    }\n",
              "\n",
              "    .dataframe tbody tr th {\n",
              "        vertical-align: top;\n",
              "    }\n",
              "\n",
              "    .dataframe thead th {\n",
              "        text-align: right;\n",
              "    }\n",
              "</style>\n",
              "<table border=\"1\" class=\"dataframe\">\n",
              "  <thead>\n",
              "    <tr style=\"text-align: right;\">\n",
              "      <th></th>\n",
              "      <th>count</th>\n",
              "      <th>mean</th>\n",
              "      <th>std</th>\n",
              "      <th>min</th>\n",
              "      <th>25%</th>\n",
              "      <th>50%</th>\n",
              "      <th>75%</th>\n",
              "      <th>max</th>\n",
              "      <th>skewness</th>\n",
              "      <th>kurtosis</th>\n",
              "      <th>coef_of_var</th>\n",
              "    </tr>\n",
              "  </thead>\n",
              "  <tbody>\n",
              "    <tr>\n",
              "      <th>X1</th>\n",
              "      <td>32.0</td>\n",
              "      <td>17.671875</td>\n",
              "      <td>5.471052</td>\n",
              "      <td>6.4</td>\n",
              "      <td>14.400</td>\n",
              "      <td>18.55</td>\n",
              "      <td>20.600</td>\n",
              "      <td>28.7</td>\n",
              "      <td>-0.181180</td>\n",
              "      <td>-0.376567</td>\n",
              "      <td>0.309591</td>\n",
              "    </tr>\n",
              "    <tr>\n",
              "      <th>X2</th>\n",
              "      <td>32.0</td>\n",
              "      <td>11.371875</td>\n",
              "      <td>2.807505</td>\n",
              "      <td>5.3</td>\n",
              "      <td>9.775</td>\n",
              "      <td>11.95</td>\n",
              "      <td>13.350</td>\n",
              "      <td>15.8</td>\n",
              "      <td>-0.537643</td>\n",
              "      <td>-0.600688</td>\n",
              "      <td>0.246881</td>\n",
              "    </tr>\n",
              "    <tr>\n",
              "      <th>X3</th>\n",
              "      <td>32.0</td>\n",
              "      <td>6.321875</td>\n",
              "      <td>3.664189</td>\n",
              "      <td>1.0</td>\n",
              "      <td>4.075</td>\n",
              "      <td>5.40</td>\n",
              "      <td>7.900</td>\n",
              "      <td>15.8</td>\n",
              "      <td>1.009990</td>\n",
              "      <td>0.445025</td>\n",
              "      <td>0.579605</td>\n",
              "    </tr>\n",
              "    <tr>\n",
              "      <th>X4</th>\n",
              "      <td>32.0</td>\n",
              "      <td>17.065625</td>\n",
              "      <td>5.375188</td>\n",
              "      <td>5.6</td>\n",
              "      <td>14.250</td>\n",
              "      <td>17.70</td>\n",
              "      <td>20.650</td>\n",
              "      <td>28.3</td>\n",
              "      <td>-0.291134</td>\n",
              "      <td>-0.385678</td>\n",
              "      <td>0.314972</td>\n",
              "    </tr>\n",
              "    <tr>\n",
              "      <th>X5</th>\n",
              "      <td>32.0</td>\n",
              "      <td>17.533125</td>\n",
              "      <td>5.453888</td>\n",
              "      <td>6.3</td>\n",
              "      <td>13.400</td>\n",
              "      <td>18.45</td>\n",
              "      <td>21.125</td>\n",
              "      <td>29.6</td>\n",
              "      <td>-0.204242</td>\n",
              "      <td>-0.382600</td>\n",
              "      <td>0.311062</td>\n",
              "    </tr>\n",
              "    <tr>\n",
              "      <th>X6</th>\n",
              "      <td>32.0</td>\n",
              "      <td>17.613750</td>\n",
              "      <td>5.335404</td>\n",
              "      <td>7.1</td>\n",
              "      <td>13.300</td>\n",
              "      <td>18.65</td>\n",
              "      <td>21.425</td>\n",
              "      <td>28.3</td>\n",
              "      <td>-0.295805</td>\n",
              "      <td>-0.666051</td>\n",
              "      <td>0.302911</td>\n",
              "    </tr>\n",
              "    <tr>\n",
              "      <th>X7</th>\n",
              "      <td>32.0</td>\n",
              "      <td>22.078125</td>\n",
              "      <td>8.239274</td>\n",
              "      <td>5.9</td>\n",
              "      <td>16.400</td>\n",
              "      <td>22.65</td>\n",
              "      <td>26.650</td>\n",
              "      <td>40.6</td>\n",
              "      <td>0.131496</td>\n",
              "      <td>-0.324088</td>\n",
              "      <td>0.373187</td>\n",
              "    </tr>\n",
              "    <tr>\n",
              "      <th>X8</th>\n",
              "      <td>32.0</td>\n",
              "      <td>13.665625</td>\n",
              "      <td>4.312144</td>\n",
              "      <td>6.5</td>\n",
              "      <td>11.225</td>\n",
              "      <td>13.85</td>\n",
              "      <td>16.500</td>\n",
              "      <td>24.4</td>\n",
              "      <td>0.191824</td>\n",
              "      <td>-0.259796</td>\n",
              "      <td>0.315547</td>\n",
              "    </tr>\n",
              "    <tr>\n",
              "      <th>X9</th>\n",
              "      <td>32.0</td>\n",
              "      <td>11.350000</td>\n",
              "      <td>4.700309</td>\n",
              "      <td>1.9</td>\n",
              "      <td>8.450</td>\n",
              "      <td>10.75</td>\n",
              "      <td>13.875</td>\n",
              "      <td>23.1</td>\n",
              "      <td>0.211525</td>\n",
              "      <td>0.215907</td>\n",
              "      <td>0.414124</td>\n",
              "    </tr>\n",
              "    <tr>\n",
              "      <th>X10</th>\n",
              "      <td>32.0</td>\n",
              "      <td>12.681250</td>\n",
              "      <td>4.506228</td>\n",
              "      <td>2.9</td>\n",
              "      <td>10.175</td>\n",
              "      <td>13.20</td>\n",
              "      <td>15.725</td>\n",
              "      <td>21.4</td>\n",
              "      <td>-0.516804</td>\n",
              "      <td>-0.003552</td>\n",
              "      <td>0.355346</td>\n",
              "    </tr>\n",
              "    <tr>\n",
              "      <th>X11</th>\n",
              "      <td>32.0</td>\n",
              "      <td>15.571875</td>\n",
              "      <td>5.362248</td>\n",
              "      <td>3.5</td>\n",
              "      <td>12.950</td>\n",
              "      <td>16.80</td>\n",
              "      <td>19.875</td>\n",
              "      <td>24.3</td>\n",
              "      <td>-0.747978</td>\n",
              "      <td>-0.238018</td>\n",
              "      <td>0.344355</td>\n",
              "    </tr>\n",
              "    <tr>\n",
              "      <th>X12</th>\n",
              "      <td>32.0</td>\n",
              "      <td>20.353125</td>\n",
              "      <td>6.638936</td>\n",
              "      <td>6.5</td>\n",
              "      <td>16.000</td>\n",
              "      <td>21.80</td>\n",
              "      <td>23.600</td>\n",
              "      <td>34.5</td>\n",
              "      <td>-0.255519</td>\n",
              "      <td>-0.343211</td>\n",
              "      <td>0.326188</td>\n",
              "    </tr>\n",
              "    <tr>\n",
              "      <th>X13</th>\n",
              "      <td>32.0</td>\n",
              "      <td>16.384375</td>\n",
              "      <td>5.700261</td>\n",
              "      <td>3.6</td>\n",
              "      <td>13.550</td>\n",
              "      <td>17.35</td>\n",
              "      <td>19.925</td>\n",
              "      <td>27.0</td>\n",
              "      <td>-0.594425</td>\n",
              "      <td>0.046721</td>\n",
              "      <td>0.347908</td>\n",
              "    </tr>\n",
              "    <tr>\n",
              "      <th>X14</th>\n",
              "      <td>32.0</td>\n",
              "      <td>18.212500</td>\n",
              "      <td>5.637762</td>\n",
              "      <td>6.6</td>\n",
              "      <td>14.850</td>\n",
              "      <td>19.30</td>\n",
              "      <td>21.100</td>\n",
              "      <td>29.6</td>\n",
              "      <td>-0.154303</td>\n",
              "      <td>-0.333782</td>\n",
              "      <td>0.309555</td>\n",
              "    </tr>\n",
              "    <tr>\n",
              "      <th>X15</th>\n",
              "      <td>32.0</td>\n",
              "      <td>18.440625</td>\n",
              "      <td>6.404679</td>\n",
              "      <td>3.1</td>\n",
              "      <td>15.625</td>\n",
              "      <td>19.45</td>\n",
              "      <td>22.200</td>\n",
              "      <td>28.6</td>\n",
              "      <td>-0.681988</td>\n",
              "      <td>0.013456</td>\n",
              "      <td>0.347314</td>\n",
              "    </tr>\n",
              "    <tr>\n",
              "      <th>X16</th>\n",
              "      <td>32.0</td>\n",
              "      <td>20.609375</td>\n",
              "      <td>7.253491</td>\n",
              "      <td>4.4</td>\n",
              "      <td>17.600</td>\n",
              "      <td>22.15</td>\n",
              "      <td>26.075</td>\n",
              "      <td>33.3</td>\n",
              "      <td>-0.733748</td>\n",
              "      <td>-0.345030</td>\n",
              "      <td>0.351951</td>\n",
              "    </tr>\n",
              "    <tr>\n",
              "      <th>X17</th>\n",
              "      <td>32.0</td>\n",
              "      <td>21.256250</td>\n",
              "      <td>7.611237</td>\n",
              "      <td>5.8</td>\n",
              "      <td>17.775</td>\n",
              "      <td>23.20</td>\n",
              "      <td>26.825</td>\n",
              "      <td>33.4</td>\n",
              "      <td>-0.571922</td>\n",
              "      <td>-0.520268</td>\n",
              "      <td>0.358071</td>\n",
              "    </tr>\n",
              "    <tr>\n",
              "      <th>X18</th>\n",
              "      <td>32.0</td>\n",
              "      <td>22.418750</td>\n",
              "      <td>7.852201</td>\n",
              "      <td>6.0</td>\n",
              "      <td>18.325</td>\n",
              "      <td>23.70</td>\n",
              "      <td>26.500</td>\n",
              "      <td>40.8</td>\n",
              "      <td>0.074154</td>\n",
              "      <td>-0.029378</td>\n",
              "      <td>0.350251</td>\n",
              "    </tr>\n",
              "    <tr>\n",
              "      <th>X19</th>\n",
              "      <td>32.0</td>\n",
              "      <td>22.468750</td>\n",
              "      <td>7.694382</td>\n",
              "      <td>7.1</td>\n",
              "      <td>17.525</td>\n",
              "      <td>22.60</td>\n",
              "      <td>26.175</td>\n",
              "      <td>42.0</td>\n",
              "      <td>0.166131</td>\n",
              "      <td>0.158025</td>\n",
              "      <td>0.342448</td>\n",
              "    </tr>\n",
              "    <tr>\n",
              "      <th>X20</th>\n",
              "      <td>32.0</td>\n",
              "      <td>21.750000</td>\n",
              "      <td>6.891229</td>\n",
              "      <td>8.4</td>\n",
              "      <td>16.700</td>\n",
              "      <td>22.55</td>\n",
              "      <td>25.300</td>\n",
              "      <td>37.7</td>\n",
              "      <td>0.096605</td>\n",
              "      <td>-0.165837</td>\n",
              "      <td>0.316838</td>\n",
              "    </tr>\n",
              "    <tr>\n",
              "      <th>X21</th>\n",
              "      <td>32.0</td>\n",
              "      <td>20.978125</td>\n",
              "      <td>6.322552</td>\n",
              "      <td>10.0</td>\n",
              "      <td>16.825</td>\n",
              "      <td>21.45</td>\n",
              "      <td>25.050</td>\n",
              "      <td>33.8</td>\n",
              "      <td>0.064001</td>\n",
              "      <td>-0.485266</td>\n",
              "      <td>0.301388</td>\n",
              "    </tr>\n",
              "    <tr>\n",
              "      <th>X22</th>\n",
              "      <td>32.0</td>\n",
              "      <td>12.181250</td>\n",
              "      <td>3.748930</td>\n",
              "      <td>4.3</td>\n",
              "      <td>9.450</td>\n",
              "      <td>12.20</td>\n",
              "      <td>14.400</td>\n",
              "      <td>19.7</td>\n",
              "      <td>0.048543</td>\n",
              "      <td>-0.650973</td>\n",
              "      <td>0.307762</td>\n",
              "    </tr>\n",
              "    <tr>\n",
              "      <th>X23</th>\n",
              "      <td>32.0</td>\n",
              "      <td>8.750000</td>\n",
              "      <td>2.579322</td>\n",
              "      <td>2.9</td>\n",
              "      <td>7.050</td>\n",
              "      <td>8.75</td>\n",
              "      <td>10.600</td>\n",
              "      <td>14.8</td>\n",
              "      <td>0.105542</td>\n",
              "      <td>-0.186029</td>\n",
              "      <td>0.294780</td>\n",
              "    </tr>\n",
              "    <tr>\n",
              "      <th>X24</th>\n",
              "      <td>32.0</td>\n",
              "      <td>4.393750</td>\n",
              "      <td>1.448456</td>\n",
              "      <td>1.4</td>\n",
              "      <td>3.425</td>\n",
              "      <td>4.40</td>\n",
              "      <td>5.425</td>\n",
              "      <td>6.9</td>\n",
              "      <td>-0.067756</td>\n",
              "      <td>-0.711995</td>\n",
              "      <td>0.329663</td>\n",
              "    </tr>\n",
              "  </tbody>\n",
              "</table>\n",
              "</div>"
            ],
            "text/plain": [
              "     count       mean       std   min     25%    50%     75%   max  skewness  \\\n",
              "X1    32.0  17.671875  5.471052   6.4  14.400  18.55  20.600  28.7 -0.181180   \n",
              "X2    32.0  11.371875  2.807505   5.3   9.775  11.95  13.350  15.8 -0.537643   \n",
              "X3    32.0   6.321875  3.664189   1.0   4.075   5.40   7.900  15.8  1.009990   \n",
              "X4    32.0  17.065625  5.375188   5.6  14.250  17.70  20.650  28.3 -0.291134   \n",
              "X5    32.0  17.533125  5.453888   6.3  13.400  18.45  21.125  29.6 -0.204242   \n",
              "X6    32.0  17.613750  5.335404   7.1  13.300  18.65  21.425  28.3 -0.295805   \n",
              "X7    32.0  22.078125  8.239274   5.9  16.400  22.65  26.650  40.6  0.131496   \n",
              "X8    32.0  13.665625  4.312144   6.5  11.225  13.85  16.500  24.4  0.191824   \n",
              "X9    32.0  11.350000  4.700309   1.9   8.450  10.75  13.875  23.1  0.211525   \n",
              "X10   32.0  12.681250  4.506228   2.9  10.175  13.20  15.725  21.4 -0.516804   \n",
              "X11   32.0  15.571875  5.362248   3.5  12.950  16.80  19.875  24.3 -0.747978   \n",
              "X12   32.0  20.353125  6.638936   6.5  16.000  21.80  23.600  34.5 -0.255519   \n",
              "X13   32.0  16.384375  5.700261   3.6  13.550  17.35  19.925  27.0 -0.594425   \n",
              "X14   32.0  18.212500  5.637762   6.6  14.850  19.30  21.100  29.6 -0.154303   \n",
              "X15   32.0  18.440625  6.404679   3.1  15.625  19.45  22.200  28.6 -0.681988   \n",
              "X16   32.0  20.609375  7.253491   4.4  17.600  22.15  26.075  33.3 -0.733748   \n",
              "X17   32.0  21.256250  7.611237   5.8  17.775  23.20  26.825  33.4 -0.571922   \n",
              "X18   32.0  22.418750  7.852201   6.0  18.325  23.70  26.500  40.8  0.074154   \n",
              "X19   32.0  22.468750  7.694382   7.1  17.525  22.60  26.175  42.0  0.166131   \n",
              "X20   32.0  21.750000  6.891229   8.4  16.700  22.55  25.300  37.7  0.096605   \n",
              "X21   32.0  20.978125  6.322552  10.0  16.825  21.45  25.050  33.8  0.064001   \n",
              "X22   32.0  12.181250  3.748930   4.3   9.450  12.20  14.400  19.7  0.048543   \n",
              "X23   32.0   8.750000  2.579322   2.9   7.050   8.75  10.600  14.8  0.105542   \n",
              "X24   32.0   4.393750  1.448456   1.4   3.425   4.40   5.425   6.9 -0.067756   \n",
              "\n",
              "     kurtosis  coef_of_var  \n",
              "X1  -0.376567     0.309591  \n",
              "X2  -0.600688     0.246881  \n",
              "X3   0.445025     0.579605  \n",
              "X4  -0.385678     0.314972  \n",
              "X5  -0.382600     0.311062  \n",
              "X6  -0.666051     0.302911  \n",
              "X7  -0.324088     0.373187  \n",
              "X8  -0.259796     0.315547  \n",
              "X9   0.215907     0.414124  \n",
              "X10 -0.003552     0.355346  \n",
              "X11 -0.238018     0.344355  \n",
              "X12 -0.343211     0.326188  \n",
              "X13  0.046721     0.347908  \n",
              "X14 -0.333782     0.309555  \n",
              "X15  0.013456     0.347314  \n",
              "X16 -0.345030     0.351951  \n",
              "X17 -0.520268     0.358071  \n",
              "X18 -0.029378     0.350251  \n",
              "X19  0.158025     0.342448  \n",
              "X20 -0.165837     0.316838  \n",
              "X21 -0.485266     0.301388  \n",
              "X22 -0.650973     0.307762  \n",
              "X23 -0.186029     0.294780  \n",
              "X24 -0.711995     0.329663  "
            ]
          },
          "execution_count": 7,
          "metadata": {},
          "output_type": "execute_result"
        }
      ],
      "source": [
        "skewnesses = skew(new_df, axis=0)\n",
        "kurtosises = kurtosis(new_df, axis=0)\n",
        "stats = pd.concat([new_df.describe(), pd.DataFrame({'skewness':skewnesses, 'kurtosis':kurtosises}, index=new_df.columns).T]).T\n",
        "stats['coef_of_var'] = stats['std'] / stats['mean']\n",
        "stats"
      ]
    },
    {
      "cell_type": "markdown",
      "id": "7c5ebeb1",
      "metadata": {
        "id": "7c5ebeb1"
      },
      "source": [
        "From these results, we can see statistics such as mean, individual quartiles, minimum and maximum values.\n",
        "\n",
        "It is worth noting that the smallest average percentage of smokers is found among those aged over 75 and among those smoking more than 20 cigarettes a day, while the highest average percentage of smokers is found among those aged 45-54.\n",
        "\n",
        "The coefficient of variation for each of the variables varies around 0.3. The smallest deviation from the mean is found for variable $X_2$ (percentage of smokers smoking less than 20 cigarettes per day) and the largest for variable $X_3$ (percentage of smokers smoking more than 20 cigarettes per day).\n",
        "\n",
        "For the ten variables:\n",
        "- $X_3$ (Percentage smoking more than 20 cigarettes per day),\n",
        "- $X_7$ (Percentage of male smokers),\n",
        "- $X_8$ (Percentage of female smokers),\n",
        "- $X_9$ (Percentage of smokers in the 15-19 age bracket),\n",
        "- $X_{18}$ (Percentage of smokers in the 35-44 age bracket),\n",
        "- $X_{19}$ (Percentage of smokers in the 45-54 age bracket),\n",
        "- $X_{20}$ (Percentage of smokers in the 45-64 age bracket),\n",
        "- $X_{21}$ (Percentage of smokers in the 55-64 age bracket),\n",
        "- $X_{22}$ (Percentage of smokers in the 65-74 age bracket),\n",
        "- $X_{23}$ (Percentage of smokers with at least 65 years of age),\n",
        "\n",
        "the asymmetry coefficient (skewness) is greater than zero. This indicates right-sided asymmetry in the distribution of the characteristics under study, in other words, we can say that most countries for a given variable have a percentage of smokers smaller than the average value. For the other variables, we have the opposite situation (the distribution of the studied characteristics has left-hand asymmetry).For the variables:- $X_3$ (Percentage smoking more than 20 cigarettes per day),- $X_9$ (Percentage of smokers in the 15-19 age range),- $X_{13}$ (Percentage of smokers in the 18-24 age range),- $X_{15}$ (Percentage of smokers in the 20-24 age bracket),- $X_{19}$ (Percentage of smokers in the 45-54 age range),\n",
        "\n",
        "\n",
        "the kurtosis index came out greater than zero, which means that the distributions of the above-mentioned characteristics are leptokurtic distributions - a significant proportion of the results are similar to each other, and there are few observations that are significantly different from the mean. For the other variables, kurtosis is negative, which means that the distributions of the subjects are platykurtic distributions - we can observe a greater number of extreme results (significantly far from the mean) in the data.\n",
        "\n",
        "\n",
        "In the following, we will focus more attention on kurtosis itself and skewness for the studied characteristics.\n"
      ]
    },
    {
      "cell_type": "markdown",
      "id": "78b4aeca-77f7-402c-a5de-556a4b177344",
      "metadata": {
        "id": "78b4aeca-77f7-402c-a5de-556a4b177344"
      },
      "source": [
        "**Verification of skewness and kurtosis of distributions of variables**."
      ]
    },
    {
      "cell_type": "markdown",
      "id": "75a6dfca-4c79-4b4e-8fd5-4920745dddb1",
      "metadata": {
        "id": "75a6dfca-4c79-4b4e-8fd5-4920745dddb1"
      },
      "source": [
        "The calculated statistics for skewness and kurtosis are estimates of parameters from the population, with such a small size of each sample (n=32) additionally subject to significant error. To get at least a general idea of the shape of these distributions, we will use confidence intervals (for both kurtosis and skewness) constructed using the non-parametric Bootstrap method. A modified Bootstrap method will be used, which will use second-order modified confidence intervals obtained using the BCa (Bias-Corrected and Accelerated) method. It differs from the first-order method in that it uses a measure other than the percentile to determine the intervals and takes into account the skewness of the resampling and tries to estimate the parameter for the actual population rather than these samples. More about this method [in this article](https://www.tandfonline.com/doi/abs/10.1080/01621459.1987.10478409)."
      ]
    },
    {
      "cell_type": "code",
      "execution_count": 8,
      "id": "3ee4ff47-2103-486f-aad9-27d0ae9ce862",
      "metadata": {
        "id": "3ee4ff47-2103-486f-aad9-27d0ae9ce862",
        "tags": []
      },
      "outputs": [],
      "source": [
        "def skew_statistic(data):\n",
        "    return skew(data, axis=0)\n",
        "\n",
        "def kurtosis_statistic(data):\n",
        "    return kurtosis(data, axis=0)\n",
        "\n",
        "data = (new_df.values[i] for i in range(new_df.shape[1]))\n",
        "def bootstrap_for_xses(df, statistic, n_resamples=1000):\n",
        "    skewness_mean = np.zeros(df.shape[1])\n",
        "    kurtosis_mean = np.zeros(df.shape[1])\n",
        "    skewness_intervals = np.zeros((df.shape[1], 2))\n",
        "    kurtosis_intervals = np.zeros((df.shape[1], 2))\n",
        "    for column in range(df.shape[1]):\n",
        "        data = (df.values[column],)\n",
        "        skewness_bootstrap = bootstrap(data=data, statistic=skew_statistic, n_resamples=n_resamples, confidence_level=.9)\n",
        "        kurtosis_bootstrap = bootstrap(data=data, statistic=kurtosis_statistic, n_resamples=n_resamples, confidence_level=.9)\n",
        "        skewness_mean[column] = np.mean(skewness_bootstrap.bootstrap_distribution)\n",
        "        kurtosis_mean[column] = np.mean(kurtosis_bootstrap.bootstrap_distribution)\n",
        "        skewness_intervals[column, :] = np.array(tuple(skewness_bootstrap.confidence_interval))\n",
        "        kurtosis_intervals[column, :] = np.array(tuple(kurtosis_bootstrap.confidence_interval))\n",
        "\n",
        "    return skewness_mean, kurtosis_mean, skewness_intervals, kurtosis_intervals\n",
        "\n",
        "\n",
        "\n",
        "s, k, s_i, k_i = bootstrap_for_xses(new_df, skew_statistic, n_resamples=5000)"
      ]
    },
    {
      "cell_type": "markdown",
      "id": "b8fc1a3f-b287-4710-a8da-b7da2f39a021",
      "metadata": {
        "id": "b8fc1a3f-b287-4710-a8da-b7da2f39a021"
      },
      "source": [
        "We count the constructed intervals for each variable, using 5000 resamples. As each variable has 32 values, the possible number of all combinations of draws with return is about (for non-repeating values) $32^{32}$. This is therefore not a lot of sampling, and in the Bootstrap method it is not so much this parameter that is most important in narrowing the ranges, but the sample size, which in our case is limited by the number of countries in the survey (and also present in Europe). We decided to compromise on the confidence level, which, in order to obtain not too wide ranges but still high confidence, we set in both cases at 90%."
      ]
    },
    {
      "cell_type": "markdown",
      "id": "438ade94-31f6-4881-a5c8-c70ec11fe26e",
      "metadata": {
        "id": "438ade94-31f6-4881-a5c8-c70ec11fe26e"
      },
      "source": [
        "We will then build a function that, for the calculated mean levels of the counted statistics and confidence intervals, will draw a graph, where the vertical line is the range of the interval that covers the sought parameter with a probability of 90%, and the point denotes the Bootstrap-estimated value of the sought statistic."
      ]
    },
    {
      "cell_type": "code",
      "execution_count": 9,
      "id": "e87fc8fd-fba5-4de0-84ad-9fad32f522f0",
      "metadata": {
        "id": "e87fc8fd-fba5-4de0-84ad-9fad32f522f0",
        "tags": []
      },
      "outputs": [],
      "source": [
        "def plot_statistic(statistic, confidence_intervals, name='statystyki', conf_level=.9):\n",
        "    fig, ax = plt.subplots(figsize=(10,8))\n",
        "    for i in range(statistic.shape[0]):\n",
        "        plt.vlines(i, confidence_intervals[i,0], confidence_intervals[i,1], color='gray', zorder=0)\n",
        "    ax.scatter(np.arange(statistic.shape[0]), statistic, color='black', zorder=1)\n",
        "    plt.grid(False)\n",
        "    plt.axhline(0, linestyle='--', alpha=0.5)\n",
        "    ax.set_xticks(np.arange(statistic.shape[0]), labels=[f\"X_{j}\" for j in range(1, statistic.shape[0]+1)], rotation=45)\n",
        "    ax.set_ylabel(name)\n",
        "    plt.title(f\"Średnia {name}, wraz z przedziałem ufności na poziomie ufności {conf_level}\")\n",
        "\n",
        "\n"
      ]
    },
    {
      "cell_type": "markdown",
      "id": "8ed719a5-6ba3-4336-9995-a8217a06992c",
      "metadata": {
        "id": "8ed719a5-6ba3-4336-9995-a8217a06992c"
      },
      "source": [
        "The adopted concepcion assumes that skewness equal to 0 denotes the skewness of a normal (symmetric) distribution, where values less than 0 denote a left-symmetric distribution and greater than 0 denote a right-symmetric distribution. For kurtosis, we used Fisher's definition - kurtosis equal to 0 is the flattening of the distribution characteristic of a normal distribution, greater than 0 indicates a leptokurtic distribution and less than 0 a platykurtic distribution."
      ]
    },
    {
      "cell_type": "markdown",
      "id": "b38fa6a3-5c61-4f1d-8183-402bf5d36b50",
      "metadata": {
        "id": "b38fa6a3-5c61-4f1d-8183-402bf5d36b50",
        "tags": []
      },
      "source": [
        "**Chart for skewness**"
      ]
    },
    {
      "cell_type": "code",
      "execution_count": 10,
      "id": "9d7043e0-8e41-493e-bcd6-0b17381a658a",
      "metadata": {
        "colab": {
          "base_uri": "https://localhost:8080/",
          "height": 722
        },
        "id": "9d7043e0-8e41-493e-bcd6-0b17381a658a",
        "outputId": "dbfb16df-9da3-4bf6-cbf0-ccacdaef573c",
        "tags": []
      },
      "outputs": [
        {
          "data": {
            "image/png": "[encoded data removed]",
            "text/plain": [
              "<Figure size 1000x800 with 1 Axes>"
            ]
          },
          "metadata": {},
          "output_type": "display_data"
        }
      ],
      "source": [
        "plot_statistic(s, s_i, name=\"skośność\")"
      ]
    },
    {
      "cell_type": "markdown",
      "id": "079bf561-4ed4-45b4-ae76-2fd6f382f2fd",
      "metadata": {
        "id": "079bf561-4ed4-45b4-ae76-2fd6f382f2fd"
      },
      "source": [
        "**Chart for kurtosis**"
      ]
    },
    {
      "cell_type": "code",
      "execution_count": 11,
      "id": "08096082-3a01-40ba-8918-49561e32063d",
      "metadata": {
        "colab": {
          "base_uri": "https://localhost:8080/",
          "height": 722
        },
        "id": "08096082-3a01-40ba-8918-49561e32063d",
        "outputId": "36503a86-fbfe-4993-c4b8-8eddca7b4a3f",
        "tags": []
      },
      "outputs": [
        {
          "data": {
            "image/png": "[encoded data removed]",
            "text/plain": [
              "<Figure size 1000x800 with 1 Axes>"
            ]
          },
          "metadata": {},
          "output_type": "display_data"
        }
      ],
      "source": [
        "plot_statistic(k, k_i, name=\"kurtoza\")"
      ]
    },
    {
      "cell_type": "markdown",
      "id": "8ab8ca8c-1b1a-4998-bc59-e28c826f11d9",
      "metadata": {
        "id": "8ab8ca8c-1b1a-4998-bc59-e28c826f11d9"
      },
      "source": [
        "Due to the very small size of each sample (n=32), the estimates obtained with Bootstrap are not very reliable, but show that the data are often not significantly different from a normal distribution (frequent overlap between kurtosis values and skewness equal to 0)."
      ]
    },
    {
      "cell_type": "markdown",
      "id": "9471a677-2fa5-4b6f-8dc4-634a7a4d12ef",
      "metadata": {
        "id": "9471a677-2fa5-4b6f-8dc4-634a7a4d12ef"
      },
      "source": [
        "# Description of methods"
      ]
    },
    {
      "cell_type": "markdown",
      "id": "f2ba9667-f15b-45b2-aaad-3fa80eebacbd",
      "metadata": {
        "id": "f2ba9667-f15b-45b2-aaad-3fa80eebacbd"
      },
      "source": [
        "### Standardisation of variables"
      ]
    },
    {
      "cell_type": "markdown",
      "id": "d70fbf86-029b-41c4-a297-0c3e7df5df9b",
      "metadata": {
        "id": "d70fbf86-029b-41c4-a297-0c3e7df5df9b",
        "tags": []
      },
      "source": [
        "In this step, we will perform a standardisation of the variables to prepare for the cluster analysis. We will standardise the variables so that the scale of a feature does not affect its contribution to the cluster. The standardisation will be performed using an object of class [sklearn.preprocessing.Standard Scaler](https://scikit-learn.org/stable/modules/generated/sklearn.preprocessing.StandardScaler.html#sklearn.preprocessing.StandardScaler), which applies the formula:\n",
        "\n",
        "$$X_i^* = \\frac{X_i - E(X_i)}{\\sqrt{D^2(X_i)}}$$"
      ]
    },
    {
      "cell_type": "code",
      "execution_count": 12,
      "id": "c524fe34-0662-4d1f-9098-08f733c8089f",
      "metadata": {
        "id": "c524fe34-0662-4d1f-9098-08f733c8089f",
        "tags": []
      },
      "outputs": [],
      "source": [
        "scaler = StandardScaler()\n",
        "scaled_df = scaler.fit_transform(new_df)"
      ]
    },
    {
      "cell_type": "code",
      "execution_count": 13,
      "id": "493382bc-7195-4169-8d30-e4397d6456e2",
      "metadata": {
        "id": "493382bc-7195-4169-8d30-e4397d6456e2",
        "tags": []
      },
      "outputs": [],
      "source": [
        "scaled_df = pd.DataFrame(scaled_df, index=new_df.index, columns=new_df.columns)\n",
        "final_df = scaled_df.copy()"
      ]
    },
    {
      "cell_type": "markdown",
      "id": "a2c8a217-917f-4d43-964a-5db0916b0dd8",
      "metadata": {
        "id": "a2c8a217-917f-4d43-964a-5db0916b0dd8"
      },
      "source": [
        "### Dimensional reduction"
      ]
    },
    {
      "cell_type": "markdown",
      "id": "93012cf6-85c7-40b4-b029-7dec70fb1f0e",
      "metadata": {
        "id": "93012cf6-85c7-40b4-b029-7dec70fb1f0e",
        "tags": []
      },
      "source": [
        "We will also prepare the data using the Prinicipal Component Analysis algorithm for display on a two-dimensional plane to better observe the effects of clustering. As this is not the topic of our work, more information about this method can be found [here](https://en.wikipedia.org/wiki/Principal_component_analysis). Our project used an implementation of this algorithm in the form of an object of the class [sklearn.decomposition.PCA](https://scikit-learn.org/stable/modules/generated/sklearn.decomposition.PCA.html), where the number of components was set (for visualisation purposes) to 2, and [decomposition by singular vectors](https://pl.wikipedia.org/wiki/Rozk%C5%82ad_wed%C5%82ug_warto%C5%9Bci_osobliwych) was performed using the LAPACK method (a method whose roots are in the Fortran language)."
      ]
    },
    {
      "cell_type": "code",
      "execution_count": 14,
      "id": "a56bc0d1-061b-44ce-8b89-2f7a36fa26f9",
      "metadata": {
        "id": "a56bc0d1-061b-44ce-8b89-2f7a36fa26f9",
        "tags": []
      },
      "outputs": [],
      "source": [
        "from sklearn.decomposition import PCA\n",
        "\n",
        "pca = PCA(n_components=2)\n",
        "dim_reduced_df = pca.fit_transform(final_df)"
      ]
    },
    {
      "cell_type": "markdown",
      "id": "efc15c39-8a39-4614-9bc1-501d82d81641",
      "metadata": {
        "id": "efc15c39-8a39-4614-9bc1-501d82d81641"
      },
      "source": [
        "### Displaying results"
      ]
    },
    {
      "cell_type": "markdown",
      "id": "3b878b0f-9bd2-4702-8e38-ba4e59c6078f",
      "metadata": {
        "id": "3b878b0f-9bd2-4702-8e38-ba4e59c6078f",
        "tags": []
      },
      "source": [
        "Below, we have prepared a function which is widely used in the presentation of results:\n",
        "    - in the absence of breakdowns (no \"predictions\" of cluster membership provided), it does not display a title and does not give distinctive colours to the points\n",
        "    - in the case of supplied predictions, it gives a title explaining which method was used, for how many clusters, and finally colours the points according to their cluster membership."
      ]
    },
    {
      "cell_type": "code",
      "execution_count": 15,
      "id": "8d0434fc-f96e-4272-b75a-b89c47676307",
      "metadata": {
        "id": "8d0434fc-f96e-4272-b75a-b89c47676307",
        "tags": []
      },
      "outputs": [],
      "source": [
        "def plot_results(df_dim_2, title='', cluster_preds=np.array([])):\n",
        "    fig, ax = plt.subplots(nrows=1, ncols=1, figsize=(10,8))\n",
        "    plt.style.use('dark_background')\n",
        "    if cluster_preds.size:\n",
        "        ax.set_title(f\"Podział obiektów według metody {title}, liczba klastrów = {np.unique(cluster_preds).shape[0]}\")\n",
        "        ax.scatter(dim_reduced_df[:, 0], dim_reduced_df[:, 1], c=cluster_preds, cmap='cool')\n",
        "    else:\n",
        "        ax.scatter(dim_reduced_df[:, 0], dim_reduced_df[:, 1])\n",
        "    for num, country in enumerate(final_df.index):\n",
        "        plt.text(dim_reduced_df[num, 0], dim_reduced_df[num,1], country)"
      ]
    },
    {
      "cell_type": "markdown",
      "id": "08ece7af-18b4-4c14-a85d-74ea772821f3",
      "metadata": {
        "id": "08ece7af-18b4-4c14-a85d-74ea772821f3"
      },
      "source": [
        "Below are the results of dimension reduction using the PCA method on our dataset:"
      ]
    },
    {
      "cell_type": "code",
      "execution_count": 16,
      "id": "495a0318-6f68-4262-9c36-e9e430952812",
      "metadata": {
        "colab": {
          "base_uri": "https://localhost:8080/",
          "height": 676
        },
        "id": "495a0318-6f68-4262-9c36-e9e430952812",
        "outputId": "6da38252-3988-4f57-ad90-897068fc88d7",
        "tags": []
      },
      "outputs": [
        {
          "data": {
            "image/png": "[encoded data removed]",
            "text/plain": [
              "<Figure size 1000x800 with 1 Axes>"
            ]
          },
          "metadata": {},
          "output_type": "display_data"
        }
      ],
      "source": [
        "plot_results(dim_reduced_df)"
      ]
    },
    {
      "cell_type": "markdown",
      "id": "e09fafcb-5317-457b-9d34-2c712fbc3433",
      "metadata": {
        "id": "e09fafcb-5317-457b-9d34-2c712fbc3433"
      },
      "source": [
        "**Implementation of example clustering models.**"
      ]
    },
    {
      "cell_type": "markdown",
      "id": "0e1366ef-78ca-4202-b4cb-c2e62f77bbe9",
      "metadata": {
        "id": "0e1366ef-78ca-4202-b4cb-c2e62f77bbe9"
      },
      "source": [
        "In this section we will show the application of a few selected algorithms from the [sklearn.cluster](https://scikit-learn.org/stable/modules/classes.html#module-sklearn.cluster) library on our data."
      ]
    },
    {
      "cell_type": "code",
      "execution_count": 17,
      "id": "d99a02ff-b2f3-48cd-9443-090c020cdaca",
      "metadata": {
        "id": "d99a02ff-b2f3-48cd-9443-090c020cdaca",
        "tags": []
      },
      "outputs": [],
      "source": [
        "import sklearn.cluster as cl\n",
        "from sklearn.metrics import silhouette_score, calinski_harabasz_score, davies_bouldin_score"
      ]
    },
    {
      "cell_type": "markdown",
      "id": "a2aa865c-631d-4b9b-b4dc-c839969a5b0d",
      "metadata": {
        "id": "a2aa865c-631d-4b9b-b4dc-c839969a5b0d"
      },
      "source": [
        "### Measures of clustering quality"
      ]
    },
    {
      "cell_type": "markdown",
      "id": "c5eb1484-ba04-43c8-afef-ae472d3244a1",
      "metadata": {
        "id": "c5eb1484-ba04-43c8-afef-ae472d3244a1"
      },
      "source": [
        "Faced with such a plethora of methods and such a large number of combinations of hyperparameters, we had to use objective measures of clustering quality. We took advantage of those available in the [sklearn.metrics] package(https://scikit-learn.org/stable/modules/classes.html#module-sklearn.metrics). \\\n",
        "\n",
        "These are:\n",
        "1. Silhouette Coefficient - a measure of clustering quality that measures the fit of objects to their clusters and their distance to other clusters. You can read more about this measure [on the Wikipedia article](https://en.wikipedia.org/wiki/Silhouette_(clustering)) or [at the source](https://www.sciencedirect.com/science/article/pii/0377042787901257). The coefficient takes values in the range $[-1, 1]$, where the higher the coefficient, the better the clustering quality.\n",
        "2. Calinski-Harabasz Index - a measure of clustering quality that measures the separability of clusters. It is determined as the ratio of the sum of inter-cluster variance to the sum of intra-cluster variance. It takes values in the range $[0, +\\infty)$, where higher values indicate that the clusters are more dense and better separated from each other. More on this method in [article](https://www.tandfonline.com/doi/abs/10.1080/03610927408827101)\n",
        "3. the Davies-Bouldin Index - a measure of clustering quality that measures the similarity of clusters. It is determined as the average value of the Davies-Bouldin Index for all clusters. It takes values in the range $[0, +\\infty)$, the higher the value of the measure, the lower the similarity of the clusters. For more details, see this [article](https://ieeexplore.ieee.org/document/4766909)"
      ]
    },
    {
      "cell_type": "markdown",
      "id": "22061120-0170-4b61-9b76-ca623e090f59",
      "metadata": {
        "id": "22061120-0170-4b61-9b76-ca623e090f59"
      },
      "source": [
        "### Function for clustering"
      ]
    },
    {
      "cell_type": "markdown",
      "id": "a8daee41-37c3-457f-9fc0-dcb70d28ab2b",
      "metadata": {
        "id": "a8daee41-37c3-457f-9fc0-dcb70d28ab2b",
        "tags": []
      },
      "source": [
        "We have prepared a function whose operation is the basis of our analysis. We can select plot mode (plot=True), where the clustering method will be applied to the data, the clustering quality measures will be plotted (but not returned) and a dot plot using the *plot_results* function will be made. For a plot flag with a value of False, the values of the measures listed in the previous section for the method will simply be returned."
      ]
    },
    {
      "cell_type": "code",
      "execution_count": 18,
      "id": "ee3f5be1-92a2-4132-a787-eb53772a1540",
      "metadata": {
        "id": "ee3f5be1-92a2-4132-a787-eb53772a1540",
        "tags": []
      },
      "outputs": [],
      "source": [
        "def fit_and_show(model, name='', plot=True):\n",
        "    results = model.fit_predict(final_df)\n",
        "    if plot:\n",
        "        plot_results(final_df, name, results)\n",
        "        print(f\"Silhouette Coef: {silhouette_score(final_df, results)}\")\n",
        "        print(f\"Calinski-Harabasz Index: {calinski_harabasz_score(final_df, results)}\")\n",
        "        print(f\"Davies-Bouldin Index: {davies_bouldin_score(final_df, results)}\")\n",
        "        return\n",
        "    return silhouette_score(final_df, results), calinski_harabasz_score(final_df, results), davies_bouldin_score(final_df, results)"
      ]
    },
    {
      "cell_type": "markdown",
      "id": "06aa8eef-4a0f-437f-8eee-04a2799e5a3a",
      "metadata": {
        "id": "06aa8eef-4a0f-437f-8eee-04a2799e5a3a"
      },
      "source": [
        "## Selection of the best caging method and the appropriate number of clusters."
      ]
    },
    {
      "cell_type": "markdown",
      "id": "48b85b8b-075e-4513-8b53-cc01dcb8cb7e",
      "metadata": {
        "id": "48b85b8b-075e-4513-8b53-cc01dcb8cb7e",
        "tags": []
      },
      "source": [
        "In the previous section we saw the operation of example clustering models on our dataset. In this section, using the three indexes (introduced earlier), we will select the best method from the majority available in the *sklearn.cluster* package. We will also select the appropriate hyperparameters for the number of clusters. The selection will be based on the three indices mentioned earlier."
      ]
    },
    {
      "cell_type": "markdown",
      "id": "0dca75ab-03c1-4acb-a801-7838eef1bd32",
      "metadata": {
        "id": "0dca75ab-03c1-4acb-a801-7838eef1bd32"
      },
      "source": [
        "### Methods used"
      ]
    },
    {
      "cell_type": "markdown",
      "id": "77d7b30a-004e-4988-abd3-f00861240229",
      "metadata": {
        "id": "77d7b30a-004e-4988-abd3-f00861240229"
      },
      "source": [
        "The algorithms used are most of those available within the [sklearn.cluster](https://scikit-learn.org/stable/modules/classes.html#module-sklearn.cluster) package and the [sklearn.mixture.GaussianMixture](https://scikit-learn.org/stable/modules/generated/sklearn.mixture.GaussianMixture.html#sklearn.mixture.GaussianMixture) method.\n",
        "\n",
        "List with a shorter description of the methods:\n",
        "- [AgglomerativeClustering](https://scikit-learn.org/stable/modules/generated/sklearn.cluster.AgglomerativeClustering.html) - A hierarchical method that clusters objects based on their distance. Different distance metrics can be used. In our case we will use Ward's method.\n",
        "- [Birch](https://scikit-learn.org/stable/modules/generated/sklearn.cluster.Birch.html) - A hierarchical method that uses a decision tree to create clusters.\n",
        "- [KMeans](https://scikit-learn.org/stable/modules/generated/sklearn.cluster.KMeans.html) - a non-hierarchical method that assigns objects to clusters based on their distance from their nearest cluster centre (known as the centroid).\n",
        "- [BisectingKMeans](https://scikit-learn.org/stable/modules/generated/sklearn.cluster.BisectingKMeans.html) - An extension of the KMeans method that divides collections into clusters in an iterative manner.\n",
        "- [MiniBatchKMeans](https://scikit-learn.org/stable/modules/generated/sklearn.cluster.MiniBatchKMeans.html) - a version of the KMeans method that uses mini-batches of data to calculate cluster centres, it is faster than the classic method but less accurate.\n",
        "- [SpectralClustering](https://scikit-learn.org/stable/modules/generated/sklearn.cluster.SpectralClustering.html) - a technique with its roots in graph theory, in which this approach is used to identify the community of nodes in a graph based on the edges connecting them.\n",
        "- [GaussianMixture](https://scikit-learn.org/stable/modules/generated/sklearn.mixture.GaussianMixture.html) - A probabilistic method which assumes that the data are derived from a mixture of Gaussian distributions.\n",
        "\n",
        "Below is a list of imported models:"
      ]
    },
    {
      "cell_type": "code",
      "execution_count": 19,
      "id": "8403c376-406e-4301-b23d-c8370b69121a",
      "metadata": {
        "id": "8403c376-406e-4301-b23d-c8370b69121a",
        "tags": []
      },
      "outputs": [],
      "source": [
        "import sklearn.cluster as cl\n",
        "from sklearn.mixture import GaussianMixture"
      ]
    },
    {
      "cell_type": "code",
      "execution_count": 20,
      "id": "59a65035-c276-4677-b395-c566c8d4c94b",
      "metadata": {
        "id": "59a65035-c276-4677-b395-c566c8d4c94b",
        "tags": []
      },
      "outputs": [],
      "source": [
        "models = [cl.AgglomerativeClustering, cl.Birch, cl.KMeans, cl.BisectingKMeans, cl.MiniBatchKMeans, cl.SpectralClustering, GaussianMixture]"
      ]
    },
    {
      "cell_type": "markdown",
      "id": "999b1bc8-6b5e-4393-94da-18720bb09c16",
      "metadata": {
        "id": "999b1bc8-6b5e-4393-94da-18720bb09c16"
      },
      "source": [
        "We will prepare a multindex so that we can record the values of the three indices for each method."
      ]
    },
    {
      "cell_type": "code",
      "execution_count": 44,
      "id": "134fed6c-7859-4d6b-bf21-b4e0a3642f64",
      "metadata": {
        "id": "134fed6c-7859-4d6b-bf21-b4e0a3642f64",
        "tags": []
      },
      "outputs": [
        {
          "name": "stdout",
          "output_type": "stream",
          "text": [
            "[array(['AgglomerativeClustering', 'AgglomerativeClustering',\n",
            "       'AgglomerativeClustering', 'Birch', 'Birch', 'Birch', 'KMeans',\n",
            "       'KMeans', 'KMeans', 'BisectingKMeans', 'BisectingKMeans',\n",
            "       'BisectingKMeans', 'MiniBatchKMeans', 'MiniBatchKMeans',\n",
            "       'MiniBatchKMeans', 'SpectralClustering', 'SpectralClustering',\n",
            "       'SpectralClustering', 'GaussianMixture', 'GaussianMixture',\n",
            "       'GaussianMixture'], dtype='<U23'), array(['Silhouette Coef', 'Calinski-Harabasz Index',\n",
            "       'Davies-Bouldin Index', 'Silhouette Coef',\n",
            "       'Calinski-Harabasz Index', 'Davies-Bouldin Index',\n",
            "       'Silhouette Coef', 'Calinski-Harabasz Index',\n",
            "       'Davies-Bouldin Index', 'Silhouette Coef',\n",
            "       'Calinski-Harabasz Index', 'Davies-Bouldin Index',\n",
            "       'Silhouette Coef', 'Calinski-Harabasz Index',\n",
            "       'Davies-Bouldin Index', 'Silhouette Coef',\n",
            "       'Calinski-Harabasz Index', 'Davies-Bouldin Index',\n",
            "       'Silhouette Coef', 'Calinski-Harabasz Index',\n",
            "       'Davies-Bouldin Index'], dtype='<U23')]\n"
          ]
        }
      ],
      "source": [
        "import itertools\n",
        "index = [np.array(list(itertools.chain.from_iterable([[model_name.__name__]*3 for model_name in models]))), np.array(['Silhouette Coef', 'Calinski-Harabasz Index', 'Davies-Bouldin Index'] * len(models))]\n",
        "results = pd.DataFrame(np.zeros((index[0].shape[0], 9)), index=index, columns=np.arange(2, 11)) #inicjujemy pusty DataFrame na wyniki\n",
        "\n",
        "print(index)"
      ]
    },
    {
      "cell_type": "markdown",
      "id": "16055dcb-b90b-44f0-b311-f61f141fd0a0",
      "metadata": {
        "id": "16055dcb-b90b-44f0-b311-f61f141fd0a0"
      },
      "source": [
        "We count the measure values for all methods, with different numbers of clusters (from 2 to 11)."
      ]
    },
    {
      "cell_type": "code",
      "execution_count": 22,
      "id": "6267ca57-4016-4679-b452-f388e4315407",
      "metadata": {
        "id": "6267ca57-4016-4679-b452-f388e4315407",
        "tags": []
      },
      "outputs": [
        {
          "name": "stderr",
          "output_type": "stream",
          "text": [
            "c:\\Users\\Dawid\\anaconda3\\Lib\\site-packages\\sklearn\\cluster\\_kmeans.py:1436: UserWarning: KMeans is known to have a memory leak on Windows with MKL, when there are less chunks than available threads. You can avoid it by setting the environment variable OMP_NUM_THREADS=1.\n",
            "  warnings.warn(\n"
          ]
        },
        {
          "name": "stderr",
          "output_type": "stream",
          "text": [
            "c:\\Users\\Dawid\\anaconda3\\Lib\\site-packages\\sklearn\\cluster\\_bisect_k_means.py:245: UserWarning: BisectingKMeans is known to have a memory leak on Windows with MKL, when there are less chunks than available threads. You can avoid it by setting the environment variable OMP_NUM_THREADS=1.\n",
            "  warnings.warn(\n",
            "c:\\Users\\Dawid\\anaconda3\\Lib\\site-packages\\sklearn\\cluster\\_kmeans.py:1962: UserWarning: MiniBatchKMeans is known to have a memory leak on Windows with MKL, when there are less chunks than available threads. You can prevent it by setting batch_size >= 1024 or by setting the environment variable OMP_NUM_THREADS=1\n",
            "  warnings.warn(\n",
            "c:\\Users\\Dawid\\anaconda3\\Lib\\site-packages\\sklearn\\cluster\\_kmeans.py:1436: UserWarning: KMeans is known to have a memory leak on Windows with MKL, when there are less chunks than available threads. You can avoid it by setting the environment variable OMP_NUM_THREADS=1.\n",
            "  warnings.warn(\n",
            "c:\\Users\\Dawid\\anaconda3\\Lib\\site-packages\\sklearn\\cluster\\_kmeans.py:1436: UserWarning: KMeans is known to have a memory leak on Windows with MKL, when there are less chunks than available threads. You can avoid it by setting the environment variable OMP_NUM_THREADS=1.\n",
            "  warnings.warn(\n",
            "c:\\Users\\Dawid\\anaconda3\\Lib\\site-packages\\sklearn\\cluster\\_kmeans.py:1436: UserWarning: KMeans is known to have a memory leak on Windows with MKL, when there are less chunks than available threads. You can avoid it by setting the environment variable OMP_NUM_THREADS=1.\n",
            "  warnings.warn(\n",
            "c:\\Users\\Dawid\\anaconda3\\Lib\\site-packages\\sklearn\\cluster\\_bisect_k_means.py:245: UserWarning: BisectingKMeans is known to have a memory leak on Windows with MKL, when there are less chunks than available threads. You can avoid it by setting the environment variable OMP_NUM_THREADS=1.\n",
            "  warnings.warn(\n",
            "c:\\Users\\Dawid\\anaconda3\\Lib\\site-packages\\sklearn\\cluster\\_kmeans.py:1962: UserWarning: MiniBatchKMeans is known to have a memory leak on Windows with MKL, when there are less chunks than available threads. You can prevent it by setting batch_size >= 1024 or by setting the environment variable OMP_NUM_THREADS=1\n",
            "  warnings.warn(\n",
            "c:\\Users\\Dawid\\anaconda3\\Lib\\site-packages\\sklearn\\cluster\\_kmeans.py:1436: UserWarning: KMeans is known to have a memory leak on Windows with MKL, when there are less chunks than available threads. You can avoid it by setting the environment variable OMP_NUM_THREADS=1.\n",
            "  warnings.warn(\n",
            "c:\\Users\\Dawid\\anaconda3\\Lib\\site-packages\\sklearn\\cluster\\_kmeans.py:1436: UserWarning: KMeans is known to have a memory leak on Windows with MKL, when there are less chunks than available threads. You can avoid it by setting the environment variable OMP_NUM_THREADS=1.\n",
            "  warnings.warn(\n",
            "c:\\Users\\Dawid\\anaconda3\\Lib\\site-packages\\sklearn\\cluster\\_kmeans.py:1436: UserWarning: KMeans is known to have a memory leak on Windows with MKL, when there are less chunks than available threads. You can avoid it by setting the environment variable OMP_NUM_THREADS=1.\n",
            "  warnings.warn(\n",
            "c:\\Users\\Dawid\\anaconda3\\Lib\\site-packages\\sklearn\\cluster\\_bisect_k_means.py:245: UserWarning: BisectingKMeans is known to have a memory leak on Windows with MKL, when there are less chunks than available threads. You can avoid it by setting the environment variable OMP_NUM_THREADS=1.\n",
            "  warnings.warn(\n",
            "c:\\Users\\Dawid\\anaconda3\\Lib\\site-packages\\sklearn\\cluster\\_kmeans.py:1962: UserWarning: MiniBatchKMeans is known to have a memory leak on Windows with MKL, when there are less chunks than available threads. You can prevent it by setting batch_size >= 1024 or by setting the environment variable OMP_NUM_THREADS=1\n",
            "  warnings.warn(\n",
            "c:\\Users\\Dawid\\anaconda3\\Lib\\site-packages\\sklearn\\cluster\\_kmeans.py:1436: UserWarning: KMeans is known to have a memory leak on Windows with MKL, when there are less chunks than available threads. You can avoid it by setting the environment variable OMP_NUM_THREADS=1.\n",
            "  warnings.warn(\n",
            "c:\\Users\\Dawid\\anaconda3\\Lib\\site-packages\\sklearn\\cluster\\_kmeans.py:1436: UserWarning: KMeans is known to have a memory leak on Windows with MKL, when there are less chunks than available threads. You can avoid it by setting the environment variable OMP_NUM_THREADS=1.\n",
            "  warnings.warn(\n",
            "c:\\Users\\Dawid\\anaconda3\\Lib\\site-packages\\sklearn\\cluster\\_kmeans.py:1436: UserWarning: KMeans is known to have a memory leak on Windows with MKL, when there are less chunks than available threads. You can avoid it by setting the environment variable OMP_NUM_THREADS=1.\n",
            "  warnings.warn(\n",
            "c:\\Users\\Dawid\\anaconda3\\Lib\\site-packages\\sklearn\\cluster\\_bisect_k_means.py:245: UserWarning: BisectingKMeans is known to have a memory leak on Windows with MKL, when there are less chunks than available threads. You can avoid it by setting the environment variable OMP_NUM_THREADS=1.\n",
            "  warnings.warn(\n",
            "c:\\Users\\Dawid\\anaconda3\\Lib\\site-packages\\sklearn\\cluster\\_kmeans.py:1962: UserWarning: MiniBatchKMeans is known to have a memory leak on Windows with MKL, when there are less chunks than available threads. You can prevent it by setting batch_size >= 1024 or by setting the environment variable OMP_NUM_THREADS=1\n",
            "  warnings.warn(\n",
            "c:\\Users\\Dawid\\anaconda3\\Lib\\site-packages\\sklearn\\cluster\\_kmeans.py:1436: UserWarning: KMeans is known to have a memory leak on Windows with MKL, when there are less chunks than available threads. You can avoid it by setting the environment variable OMP_NUM_THREADS=1.\n",
            "  warnings.warn(\n",
            "c:\\Users\\Dawid\\anaconda3\\Lib\\site-packages\\sklearn\\cluster\\_kmeans.py:1436: UserWarning: KMeans is known to have a memory leak on Windows with MKL, when there are less chunks than available threads. You can avoid it by setting the environment variable OMP_NUM_THREADS=1.\n",
            "  warnings.warn(\n",
            "c:\\Users\\Dawid\\anaconda3\\Lib\\site-packages\\sklearn\\cluster\\_kmeans.py:1436: UserWarning: KMeans is known to have a memory leak on Windows with MKL, when there are less chunks than available threads. You can avoid it by setting the environment variable OMP_NUM_THREADS=1.\n",
            "  warnings.warn(\n",
            "c:\\Users\\Dawid\\anaconda3\\Lib\\site-packages\\sklearn\\cluster\\_bisect_k_means.py:245: UserWarning: BisectingKMeans is known to have a memory leak on Windows with MKL, when there are less chunks than available threads. You can avoid it by setting the environment variable OMP_NUM_THREADS=1.\n",
            "  warnings.warn(\n",
            "c:\\Users\\Dawid\\anaconda3\\Lib\\site-packages\\sklearn\\cluster\\_kmeans.py:1962: UserWarning: MiniBatchKMeans is known to have a memory leak on Windows with MKL, when there are less chunks than available threads. You can prevent it by setting batch_size >= 1024 or by setting the environment variable OMP_NUM_THREADS=1\n",
            "  warnings.warn(\n",
            "c:\\Users\\Dawid\\anaconda3\\Lib\\site-packages\\sklearn\\cluster\\_kmeans.py:1436: UserWarning: KMeans is known to have a memory leak on Windows with MKL, when there are less chunks than available threads. You can avoid it by setting the environment variable OMP_NUM_THREADS=1.\n",
            "  warnings.warn(\n",
            "c:\\Users\\Dawid\\anaconda3\\Lib\\site-packages\\sklearn\\cluster\\_kmeans.py:1436: UserWarning: KMeans is known to have a memory leak on Windows with MKL, when there are less chunks than available threads. You can avoid it by setting the environment variable OMP_NUM_THREADS=1.\n",
            "  warnings.warn(\n",
            "c:\\Users\\Dawid\\anaconda3\\Lib\\site-packages\\sklearn\\cluster\\_kmeans.py:1436: UserWarning: KMeans is known to have a memory leak on Windows with MKL, when there are less chunks than available threads. You can avoid it by setting the environment variable OMP_NUM_THREADS=1.\n",
            "  warnings.warn(\n",
            "c:\\Users\\Dawid\\anaconda3\\Lib\\site-packages\\sklearn\\cluster\\_bisect_k_means.py:245: UserWarning: BisectingKMeans is known to have a memory leak on Windows with MKL, when there are less chunks than available threads. You can avoid it by setting the environment variable OMP_NUM_THREADS=1.\n",
            "  warnings.warn(\n",
            "c:\\Users\\Dawid\\anaconda3\\Lib\\site-packages\\sklearn\\cluster\\_kmeans.py:1962: UserWarning: MiniBatchKMeans is known to have a memory leak on Windows with MKL, when there are less chunks than available threads. You can prevent it by setting batch_size >= 1024 or by setting the environment variable OMP_NUM_THREADS=1\n",
            "  warnings.warn(\n",
            "c:\\Users\\Dawid\\anaconda3\\Lib\\site-packages\\sklearn\\cluster\\_kmeans.py:1436: UserWarning: KMeans is known to have a memory leak on Windows with MKL, when there are less chunks than available threads. You can avoid it by setting the environment variable OMP_NUM_THREADS=1.\n",
            "  warnings.warn(\n",
            "c:\\Users\\Dawid\\anaconda3\\Lib\\site-packages\\sklearn\\cluster\\_kmeans.py:1436: UserWarning: KMeans is known to have a memory leak on Windows with MKL, when there are less chunks than available threads. You can avoid it by setting the environment variable OMP_NUM_THREADS=1.\n",
            "  warnings.warn(\n",
            "c:\\Users\\Dawid\\anaconda3\\Lib\\site-packages\\sklearn\\cluster\\_kmeans.py:1436: UserWarning: KMeans is known to have a memory leak on Windows with MKL, when there are less chunks than available threads. You can avoid it by setting the environment variable OMP_NUM_THREADS=1.\n",
            "  warnings.warn(\n",
            "c:\\Users\\Dawid\\anaconda3\\Lib\\site-packages\\sklearn\\cluster\\_bisect_k_means.py:245: UserWarning: BisectingKMeans is known to have a memory leak on Windows with MKL, when there are less chunks than available threads. You can avoid it by setting the environment variable OMP_NUM_THREADS=1.\n",
            "  warnings.warn(\n",
            "c:\\Users\\Dawid\\anaconda3\\Lib\\site-packages\\sklearn\\cluster\\_kmeans.py:1962: UserWarning: MiniBatchKMeans is known to have a memory leak on Windows with MKL, when there are less chunks than available threads. You can prevent it by setting batch_size >= 1024 or by setting the environment variable OMP_NUM_THREADS=1\n",
            "  warnings.warn(\n",
            "c:\\Users\\Dawid\\anaconda3\\Lib\\site-packages\\sklearn\\cluster\\_kmeans.py:1436: UserWarning: KMeans is known to have a memory leak on Windows with MKL, when there are less chunks than available threads. You can avoid it by setting the environment variable OMP_NUM_THREADS=1.\n",
            "  warnings.warn(\n",
            "c:\\Users\\Dawid\\anaconda3\\Lib\\site-packages\\sklearn\\cluster\\_kmeans.py:1436: UserWarning: KMeans is known to have a memory leak on Windows with MKL, when there are less chunks than available threads. You can avoid it by setting the environment variable OMP_NUM_THREADS=1.\n",
            "  warnings.warn(\n",
            "c:\\Users\\Dawid\\anaconda3\\Lib\\site-packages\\sklearn\\cluster\\_kmeans.py:1436: UserWarning: KMeans is known to have a memory leak on Windows with MKL, when there are less chunks than available threads. You can avoid it by setting the environment variable OMP_NUM_THREADS=1.\n",
            "  warnings.warn(\n",
            "c:\\Users\\Dawid\\anaconda3\\Lib\\site-packages\\sklearn\\cluster\\_bisect_k_means.py:245: UserWarning: BisectingKMeans is known to have a memory leak on Windows with MKL, when there are less chunks than available threads. You can avoid it by setting the environment variable OMP_NUM_THREADS=1.\n",
            "  warnings.warn(\n",
            "c:\\Users\\Dawid\\anaconda3\\Lib\\site-packages\\sklearn\\cluster\\_kmeans.py:1962: UserWarning: MiniBatchKMeans is known to have a memory leak on Windows with MKL, when there are less chunks than available threads. You can prevent it by setting batch_size >= 1024 or by setting the environment variable OMP_NUM_THREADS=1\n",
            "  warnings.warn(\n",
            "c:\\Users\\Dawid\\anaconda3\\Lib\\site-packages\\sklearn\\cluster\\_kmeans.py:1436: UserWarning: KMeans is known to have a memory leak on Windows with MKL, when there are less chunks than available threads. You can avoid it by setting the environment variable OMP_NUM_THREADS=1.\n",
            "  warnings.warn(\n",
            "c:\\Users\\Dawid\\anaconda3\\Lib\\site-packages\\sklearn\\cluster\\_kmeans.py:1436: UserWarning: KMeans is known to have a memory leak on Windows with MKL, when there are less chunks than available threads. You can avoid it by setting the environment variable OMP_NUM_THREADS=1.\n",
            "  warnings.warn(\n",
            "c:\\Users\\Dawid\\anaconda3\\Lib\\site-packages\\sklearn\\cluster\\_kmeans.py:1436: UserWarning: KMeans is known to have a memory leak on Windows with MKL, when there are less chunks than available threads. You can avoid it by setting the environment variable OMP_NUM_THREADS=1.\n",
            "  warnings.warn(\n",
            "c:\\Users\\Dawid\\anaconda3\\Lib\\site-packages\\sklearn\\cluster\\_bisect_k_means.py:245: UserWarning: BisectingKMeans is known to have a memory leak on Windows with MKL, when there are less chunks than available threads. You can avoid it by setting the environment variable OMP_NUM_THREADS=1.\n",
            "  warnings.warn(\n",
            "c:\\Users\\Dawid\\anaconda3\\Lib\\site-packages\\sklearn\\cluster\\_kmeans.py:1962: UserWarning: MiniBatchKMeans is known to have a memory leak on Windows with MKL, when there are less chunks than available threads. You can prevent it by setting batch_size >= 1024 or by setting the environment variable OMP_NUM_THREADS=1\n",
            "  warnings.warn(\n",
            "c:\\Users\\Dawid\\anaconda3\\Lib\\site-packages\\sklearn\\cluster\\_kmeans.py:1436: UserWarning: KMeans is known to have a memory leak on Windows with MKL, when there are less chunks than available threads. You can avoid it by setting the environment variable OMP_NUM_THREADS=1.\n",
            "  warnings.warn(\n",
            "c:\\Users\\Dawid\\anaconda3\\Lib\\site-packages\\sklearn\\cluster\\_kmeans.py:1436: UserWarning: KMeans is known to have a memory leak on Windows with MKL, when there are less chunks than available threads. You can avoid it by setting the environment variable OMP_NUM_THREADS=1.\n",
            "  warnings.warn(\n"
          ]
        }
      ],
      "source": [
        "for num_clasters in range(2, 11):\n",
        "    for model in models:\n",
        "        try:\n",
        "            sc, chi, dbi = fit_and_show(model(n_clusters=num_clasters), plot=False)\n",
        "        except Exception as e:\n",
        "            sc, chi, dbi = fit_and_show(model(n_components=num_clasters), plot=False)\n",
        "        results.loc[(model.__name__, 'Silhouette Coef'), num_clasters] = sc\n",
        "        results.loc[(model.__name__, 'Calinski-Harabasz Index'), num_clasters] = chi\n",
        "        results.loc[(model.__name__, 'Davies-Bouldin Index'), num_clasters] = dbi\n",
        "\n"
      ]
    },
    {
      "cell_type": "markdown",
      "id": "9b1b44a2-ec3a-48b1-886e-2ff38b39d173",
      "metadata": {
        "id": "9b1b44a2-ec3a-48b1-886e-2ff38b39d173"
      },
      "source": [
        "# Results"
      ]
    },
    {
      "cell_type": "markdown",
      "id": "e700a764-125b-4d78-ba76-95ab585b9539",
      "metadata": {
        "id": "e700a764-125b-4d78-ba76-95ab585b9539"
      },
      "source": [
        "The DataFrame below shows, for each clustering method used, the calculated three previously mentioned clustering quality measures, along with the changing number of clusters:"
      ]
    },
    {
      "cell_type": "code",
      "execution_count": 23,
      "id": "ca8e2596-630a-4f71-b191-2b684c798822",
      "metadata": {
        "colab": {
          "base_uri": "https://localhost:8080/",
          "height": 829
        },
        "id": "ca8e2596-630a-4f71-b191-2b684c798822",
        "outputId": "876ac2ff-20bb-4a4d-c55c-12976bab269d",
        "tags": []
      },
      "outputs": [
        {
          "data": {
            "text/html": [
              "<div>\n",
              "<style scoped>\n",
              "    .dataframe tbody tr th:only-of-type {\n",
              "        vertical-align: middle;\n",
              "    }\n",
              "\n",
              "    .dataframe tbody tr th {\n",
              "        vertical-align: top;\n",
              "    }\n",
              "\n",
              "    .dataframe thead th {\n",
              "        text-align: right;\n",
              "    }\n",
              "</style>\n",
              "<table border=\"1\" class=\"dataframe\">\n",
              "  <thead>\n",
              "    <tr style=\"text-align: right;\">\n",
              "      <th></th>\n",
              "      <th></th>\n",
              "      <th>2</th>\n",
              "      <th>3</th>\n",
              "      <th>4</th>\n",
              "      <th>5</th>\n",
              "      <th>6</th>\n",
              "      <th>7</th>\n",
              "      <th>8</th>\n",
              "      <th>9</th>\n",
              "      <th>10</th>\n",
              "    </tr>\n",
              "  </thead>\n",
              "  <tbody>\n",
              "    <tr>\n",
              "      <th rowspan=\"3\" valign=\"top\">AgglomerativeClustering</th>\n",
              "      <th>Silhouette Coef</th>\n",
              "      <td>0.467550</td>\n",
              "      <td>0.360764</td>\n",
              "      <td>0.231688</td>\n",
              "      <td>0.209568</td>\n",
              "      <td>0.191852</td>\n",
              "      <td>0.185058</td>\n",
              "      <td>0.197184</td>\n",
              "      <td>0.213839</td>\n",
              "      <td>0.213811</td>\n",
              "    </tr>\n",
              "    <tr>\n",
              "      <th>Calinski-Harabasz Index</th>\n",
              "      <td>32.295371</td>\n",
              "      <td>30.567517</td>\n",
              "      <td>26.463591</td>\n",
              "      <td>22.389027</td>\n",
              "      <td>20.433568</td>\n",
              "      <td>18.787742</td>\n",
              "      <td>17.749561</td>\n",
              "      <td>17.196897</td>\n",
              "      <td>16.784674</td>\n",
              "    </tr>\n",
              "    <tr>\n",
              "      <th>Davies-Bouldin Index</th>\n",
              "      <td>0.699866</td>\n",
              "      <td>0.872827</td>\n",
              "      <td>1.041464</td>\n",
              "      <td>1.190731</td>\n",
              "      <td>1.232915</td>\n",
              "      <td>1.243733</td>\n",
              "      <td>1.120526</td>\n",
              "      <td>1.097006</td>\n",
              "      <td>0.923910</td>\n",
              "    </tr>\n",
              "    <tr>\n",
              "      <th rowspan=\"3\" valign=\"top\">Birch</th>\n",
              "      <th>Silhouette Coef</th>\n",
              "      <td>0.467550</td>\n",
              "      <td>0.360764</td>\n",
              "      <td>0.231688</td>\n",
              "      <td>0.209568</td>\n",
              "      <td>0.191852</td>\n",
              "      <td>0.185058</td>\n",
              "      <td>0.197184</td>\n",
              "      <td>0.213839</td>\n",
              "      <td>0.213811</td>\n",
              "    </tr>\n",
              "    <tr>\n",
              "      <th>Calinski-Harabasz Index</th>\n",
              "      <td>32.295371</td>\n",
              "      <td>30.567517</td>\n",
              "      <td>26.463591</td>\n",
              "      <td>22.389027</td>\n",
              "      <td>20.433568</td>\n",
              "      <td>18.787742</td>\n",
              "      <td>17.749561</td>\n",
              "      <td>17.196897</td>\n",
              "      <td>16.784674</td>\n",
              "    </tr>\n",
              "    <tr>\n",
              "      <th>Davies-Bouldin Index</th>\n",
              "      <td>0.699866</td>\n",
              "      <td>0.872827</td>\n",
              "      <td>1.041464</td>\n",
              "      <td>1.190731</td>\n",
              "      <td>1.232915</td>\n",
              "      <td>1.243733</td>\n",
              "      <td>1.120526</td>\n",
              "      <td>1.097006</td>\n",
              "      <td>0.923910</td>\n",
              "    </tr>\n",
              "    <tr>\n",
              "      <th rowspan=\"3\" valign=\"top\">KMeans</th>\n",
              "      <th>Silhouette Coef</th>\n",
              "      <td>0.453253</td>\n",
              "      <td>0.359326</td>\n",
              "      <td>0.245746</td>\n",
              "      <td>0.184012</td>\n",
              "      <td>0.170240</td>\n",
              "      <td>0.171680</td>\n",
              "      <td>0.190217</td>\n",
              "      <td>0.200958</td>\n",
              "      <td>0.188283</td>\n",
              "    </tr>\n",
              "    <tr>\n",
              "      <th>Calinski-Harabasz Index</th>\n",
              "      <td>37.242326</td>\n",
              "      <td>31.000626</td>\n",
              "      <td>27.070119</td>\n",
              "      <td>23.369375</td>\n",
              "      <td>19.711693</td>\n",
              "      <td>18.452118</td>\n",
              "      <td>18.293482</td>\n",
              "      <td>17.416160</td>\n",
              "      <td>16.799317</td>\n",
              "    </tr>\n",
              "    <tr>\n",
              "      <th>Davies-Bouldin Index</th>\n",
              "      <td>0.782450</td>\n",
              "      <td>0.933822</td>\n",
              "      <td>1.165213</td>\n",
              "      <td>1.284756</td>\n",
              "      <td>1.279854</td>\n",
              "      <td>1.034119</td>\n",
              "      <td>0.982719</td>\n",
              "      <td>0.975032</td>\n",
              "      <td>0.986248</td>\n",
              "    </tr>\n",
              "    <tr>\n",
              "      <th rowspan=\"3\" valign=\"top\">BisectingKMeans</th>\n",
              "      <th>Silhouette Coef</th>\n",
              "      <td>0.453253</td>\n",
              "      <td>0.317963</td>\n",
              "      <td>0.236433</td>\n",
              "      <td>0.195100</td>\n",
              "      <td>0.143573</td>\n",
              "      <td>0.130354</td>\n",
              "      <td>0.145836</td>\n",
              "      <td>0.089479</td>\n",
              "      <td>0.067134</td>\n",
              "    </tr>\n",
              "    <tr>\n",
              "      <th>Calinski-Harabasz Index</th>\n",
              "      <td>37.242326</td>\n",
              "      <td>30.671855</td>\n",
              "      <td>23.087534</td>\n",
              "      <td>20.695706</td>\n",
              "      <td>18.021727</td>\n",
              "      <td>17.003252</td>\n",
              "      <td>15.811518</td>\n",
              "      <td>13.062772</td>\n",
              "      <td>12.526184</td>\n",
              "    </tr>\n",
              "    <tr>\n",
              "      <th>Davies-Bouldin Index</th>\n",
              "      <td>0.782450</td>\n",
              "      <td>1.027203</td>\n",
              "      <td>1.184079</td>\n",
              "      <td>1.246597</td>\n",
              "      <td>1.410245</td>\n",
              "      <td>1.260166</td>\n",
              "      <td>1.401388</td>\n",
              "      <td>1.157097</td>\n",
              "      <td>1.234176</td>\n",
              "    </tr>\n",
              "    <tr>\n",
              "      <th rowspan=\"3\" valign=\"top\">MiniBatchKMeans</th>\n",
              "      <th>Silhouette Coef</th>\n",
              "      <td>0.453253</td>\n",
              "      <td>0.334457</td>\n",
              "      <td>0.206256</td>\n",
              "      <td>0.186222</td>\n",
              "      <td>0.179865</td>\n",
              "      <td>0.120732</td>\n",
              "      <td>0.205626</td>\n",
              "      <td>0.133748</td>\n",
              "      <td>0.152413</td>\n",
              "    </tr>\n",
              "    <tr>\n",
              "      <th>Calinski-Harabasz Index</th>\n",
              "      <td>37.242326</td>\n",
              "      <td>31.561393</td>\n",
              "      <td>22.147269</td>\n",
              "      <td>20.368162</td>\n",
              "      <td>19.961936</td>\n",
              "      <td>17.792289</td>\n",
              "      <td>18.088594</td>\n",
              "      <td>14.549306</td>\n",
              "      <td>14.230461</td>\n",
              "    </tr>\n",
              "    <tr>\n",
              "      <th>Davies-Bouldin Index</th>\n",
              "      <td>0.782450</td>\n",
              "      <td>0.947130</td>\n",
              "      <td>1.078515</td>\n",
              "      <td>1.179894</td>\n",
              "      <td>1.105051</td>\n",
              "      <td>1.128992</td>\n",
              "      <td>1.025096</td>\n",
              "      <td>1.091519</td>\n",
              "      <td>0.933925</td>\n",
              "    </tr>\n",
              "    <tr>\n",
              "      <th rowspan=\"3\" valign=\"top\">SpectralClustering</th>\n",
              "      <th>Silhouette Coef</th>\n",
              "      <td>0.399919</td>\n",
              "      <td>0.343277</td>\n",
              "      <td>0.038366</td>\n",
              "      <td>0.094384</td>\n",
              "      <td>0.101195</td>\n",
              "      <td>0.200032</td>\n",
              "      <td>0.071957</td>\n",
              "      <td>0.079988</td>\n",
              "      <td>0.044000</td>\n",
              "    </tr>\n",
              "    <tr>\n",
              "      <th>Calinski-Harabasz Index</th>\n",
              "      <td>12.957842</td>\n",
              "      <td>14.937617</td>\n",
              "      <td>10.594813</td>\n",
              "      <td>13.272259</td>\n",
              "      <td>13.242196</td>\n",
              "      <td>17.752986</td>\n",
              "      <td>11.004924</td>\n",
              "      <td>11.106821</td>\n",
              "      <td>9.394734</td>\n",
              "    </tr>\n",
              "    <tr>\n",
              "      <th>Davies-Bouldin Index</th>\n",
              "      <td>0.624935</td>\n",
              "      <td>0.815005</td>\n",
              "      <td>1.155908</td>\n",
              "      <td>1.120455</td>\n",
              "      <td>0.999170</td>\n",
              "      <td>0.918781</td>\n",
              "      <td>1.166089</td>\n",
              "      <td>1.221225</td>\n",
              "      <td>1.153687</td>\n",
              "    </tr>\n",
              "    <tr>\n",
              "      <th rowspan=\"3\" valign=\"top\">GaussianMixture</th>\n",
              "      <th>Silhouette Coef</th>\n",
              "      <td>0.453253</td>\n",
              "      <td>0.299233</td>\n",
              "      <td>0.215489</td>\n",
              "      <td>0.221347</td>\n",
              "      <td>0.217739</td>\n",
              "      <td>0.193515</td>\n",
              "      <td>0.180130</td>\n",
              "      <td>0.203398</td>\n",
              "      <td>0.140933</td>\n",
              "    </tr>\n",
              "    <tr>\n",
              "      <th>Calinski-Harabasz Index</th>\n",
              "      <td>37.242326</td>\n",
              "      <td>30.592511</td>\n",
              "      <td>24.074551</td>\n",
              "      <td>21.499459</td>\n",
              "      <td>18.267237</td>\n",
              "      <td>17.106454</td>\n",
              "      <td>15.768919</td>\n",
              "      <td>16.705966</td>\n",
              "      <td>14.706810</td>\n",
              "    </tr>\n",
              "    <tr>\n",
              "      <th>Davies-Bouldin Index</th>\n",
              "      <td>0.782450</td>\n",
              "      <td>1.041481</td>\n",
              "      <td>1.159878</td>\n",
              "      <td>0.922824</td>\n",
              "      <td>0.918470</td>\n",
              "      <td>1.096824</td>\n",
              "      <td>0.812931</td>\n",
              "      <td>0.825875</td>\n",
              "      <td>0.978186</td>\n",
              "    </tr>\n",
              "  </tbody>\n",
              "</table>\n",
              "</div>"
            ],
            "text/plain": [
              "                                                        2          3   \\\n",
              "AgglomerativeClustering Silhouette Coef           0.467550   0.360764   \n",
              "                        Calinski-Harabasz Index  32.295371  30.567517   \n",
              "                        Davies-Bouldin Index      0.699866   0.872827   \n",
              "Birch                   Silhouette Coef           0.467550   0.360764   \n",
              "                        Calinski-Harabasz Index  32.295371  30.567517   \n",
              "                        Davies-Bouldin Index      0.699866   0.872827   \n",
              "KMeans                  Silhouette Coef           0.453253   0.359326   \n",
              "                        Calinski-Harabasz Index  37.242326  31.000626   \n",
              "                        Davies-Bouldin Index      0.782450   0.933822   \n",
              "BisectingKMeans         Silhouette Coef           0.453253   0.317963   \n",
              "                        Calinski-Harabasz Index  37.242326  30.671855   \n",
              "                        Davies-Bouldin Index      0.782450   1.027203   \n",
              "MiniBatchKMeans         Silhouette Coef           0.453253   0.334457   \n",
              "                        Calinski-Harabasz Index  37.242326  31.561393   \n",
              "                        Davies-Bouldin Index      0.782450   0.947130   \n",
              "SpectralClustering      Silhouette Coef           0.399919   0.343277   \n",
              "                        Calinski-Harabasz Index  12.957842  14.937617   \n",
              "                        Davies-Bouldin Index      0.624935   0.815005   \n",
              "GaussianMixture         Silhouette Coef           0.453253   0.299233   \n",
              "                        Calinski-Harabasz Index  37.242326  30.592511   \n",
              "                        Davies-Bouldin Index      0.782450   1.041481   \n",
              "\n",
              "                                                        4          5   \\\n",
              "AgglomerativeClustering Silhouette Coef           0.231688   0.209568   \n",
              "                        Calinski-Harabasz Index  26.463591  22.389027   \n",
              "                        Davies-Bouldin Index      1.041464   1.190731   \n",
              "Birch                   Silhouette Coef           0.231688   0.209568   \n",
              "                        Calinski-Harabasz Index  26.463591  22.389027   \n",
              "                        Davies-Bouldin Index      1.041464   1.190731   \n",
              "KMeans                  Silhouette Coef           0.245746   0.184012   \n",
              "                        Calinski-Harabasz Index  27.070119  23.369375   \n",
              "                        Davies-Bouldin Index      1.165213   1.284756   \n",
              "BisectingKMeans         Silhouette Coef           0.236433   0.195100   \n",
              "                        Calinski-Harabasz Index  23.087534  20.695706   \n",
              "                        Davies-Bouldin Index      1.184079   1.246597   \n",
              "MiniBatchKMeans         Silhouette Coef           0.206256   0.186222   \n",
              "                        Calinski-Harabasz Index  22.147269  20.368162   \n",
              "                        Davies-Bouldin Index      1.078515   1.179894   \n",
              "SpectralClustering      Silhouette Coef           0.038366   0.094384   \n",
              "                        Calinski-Harabasz Index  10.594813  13.272259   \n",
              "                        Davies-Bouldin Index      1.155908   1.120455   \n",
              "GaussianMixture         Silhouette Coef           0.215489   0.221347   \n",
              "                        Calinski-Harabasz Index  24.074551  21.499459   \n",
              "                        Davies-Bouldin Index      1.159878   0.922824   \n",
              "\n",
              "                                                        6          7   \\\n",
              "AgglomerativeClustering Silhouette Coef           0.191852   0.185058   \n",
              "                        Calinski-Harabasz Index  20.433568  18.787742   \n",
              "                        Davies-Bouldin Index      1.232915   1.243733   \n",
              "Birch                   Silhouette Coef           0.191852   0.185058   \n",
              "                        Calinski-Harabasz Index  20.433568  18.787742   \n",
              "                        Davies-Bouldin Index      1.232915   1.243733   \n",
              "KMeans                  Silhouette Coef           0.170240   0.171680   \n",
              "                        Calinski-Harabasz Index  19.711693  18.452118   \n",
              "                        Davies-Bouldin Index      1.279854   1.034119   \n",
              "BisectingKMeans         Silhouette Coef           0.143573   0.130354   \n",
              "                        Calinski-Harabasz Index  18.021727  17.003252   \n",
              "                        Davies-Bouldin Index      1.410245   1.260166   \n",
              "MiniBatchKMeans         Silhouette Coef           0.179865   0.120732   \n",
              "                        Calinski-Harabasz Index  19.961936  17.792289   \n",
              "                        Davies-Bouldin Index      1.105051   1.128992   \n",
              "SpectralClustering      Silhouette Coef           0.101195   0.200032   \n",
              "                        Calinski-Harabasz Index  13.242196  17.752986   \n",
              "                        Davies-Bouldin Index      0.999170   0.918781   \n",
              "GaussianMixture         Silhouette Coef           0.217739   0.193515   \n",
              "                        Calinski-Harabasz Index  18.267237  17.106454   \n",
              "                        Davies-Bouldin Index      0.918470   1.096824   \n",
              "\n",
              "                                                        8          9   \\\n",
              "AgglomerativeClustering Silhouette Coef           0.197184   0.213839   \n",
              "                        Calinski-Harabasz Index  17.749561  17.196897   \n",
              "                        Davies-Bouldin Index      1.120526   1.097006   \n",
              "Birch                   Silhouette Coef           0.197184   0.213839   \n",
              "                        Calinski-Harabasz Index  17.749561  17.196897   \n",
              "                        Davies-Bouldin Index      1.120526   1.097006   \n",
              "KMeans                  Silhouette Coef           0.190217   0.200958   \n",
              "                        Calinski-Harabasz Index  18.293482  17.416160   \n",
              "                        Davies-Bouldin Index      0.982719   0.975032   \n",
              "BisectingKMeans         Silhouette Coef           0.145836   0.089479   \n",
              "                        Calinski-Harabasz Index  15.811518  13.062772   \n",
              "                        Davies-Bouldin Index      1.401388   1.157097   \n",
              "MiniBatchKMeans         Silhouette Coef           0.205626   0.133748   \n",
              "                        Calinski-Harabasz Index  18.088594  14.549306   \n",
              "                        Davies-Bouldin Index      1.025096   1.091519   \n",
              "SpectralClustering      Silhouette Coef           0.071957   0.079988   \n",
              "                        Calinski-Harabasz Index  11.004924  11.106821   \n",
              "                        Davies-Bouldin Index      1.166089   1.221225   \n",
              "GaussianMixture         Silhouette Coef           0.180130   0.203398   \n",
              "                        Calinski-Harabasz Index  15.768919  16.705966   \n",
              "                        Davies-Bouldin Index      0.812931   0.825875   \n",
              "\n",
              "                                                        10  \n",
              "AgglomerativeClustering Silhouette Coef           0.213811  \n",
              "                        Calinski-Harabasz Index  16.784674  \n",
              "                        Davies-Bouldin Index      0.923910  \n",
              "Birch                   Silhouette Coef           0.213811  \n",
              "                        Calinski-Harabasz Index  16.784674  \n",
              "                        Davies-Bouldin Index      0.923910  \n",
              "KMeans                  Silhouette Coef           0.188283  \n",
              "                        Calinski-Harabasz Index  16.799317  \n",
              "                        Davies-Bouldin Index      0.986248  \n",
              "BisectingKMeans         Silhouette Coef           0.067134  \n",
              "                        Calinski-Harabasz Index  12.526184  \n",
              "                        Davies-Bouldin Index      1.234176  \n",
              "MiniBatchKMeans         Silhouette Coef           0.152413  \n",
              "                        Calinski-Harabasz Index  14.230461  \n",
              "                        Davies-Bouldin Index      0.933925  \n",
              "SpectralClustering      Silhouette Coef           0.044000  \n",
              "                        Calinski-Harabasz Index   9.394734  \n",
              "                        Davies-Bouldin Index      1.153687  \n",
              "GaussianMixture         Silhouette Coef           0.140933  \n",
              "                        Calinski-Harabasz Index  14.706810  \n",
              "                        Davies-Bouldin Index      0.978186  "
            ]
          },
          "execution_count": 23,
          "metadata": {},
          "output_type": "execute_result"
        }
      ],
      "source": [
        "results"
      ]
    },
    {
      "cell_type": "markdown",
      "id": "5cb487eb-d663-49f0-9f35-ad42f865ea29",
      "metadata": {
        "id": "5cb487eb-d663-49f0-9f35-ad42f865ea29"
      },
      "source": [
        "A promising method is K-Means for two clusters, which has a high Silhouette Coefficient, a very high Calinski-Harabasz Index and a Davies-Bouldin Index at a fairly high level. The results of this method will therefore be displayed. If we would like to get a solution for 3 clusters, also use the k-means method."
      ]
    },
    {
      "cell_type": "code",
      "execution_count": 24,
      "id": "0ac5dbd9-e06f-4aca-9c71-9dba725251c5",
      "metadata": {
        "colab": {
          "base_uri": "https://localhost:8080/",
          "height": 751
        },
        "id": "0ac5dbd9-e06f-4aca-9c71-9dba725251c5",
        "outputId": "4e47607c-c605-4cdf-9c86-0d008890321b",
        "tags": []
      },
      "outputs": [
        {
          "name": "stderr",
          "output_type": "stream",
          "text": [
            "c:\\Users\\Dawid\\anaconda3\\Lib\\site-packages\\sklearn\\cluster\\_kmeans.py:1436: UserWarning: KMeans is known to have a memory leak on Windows with MKL, when there are less chunks than available threads. You can avoid it by setting the environment variable OMP_NUM_THREADS=1.\n",
            "  warnings.warn(\n"
          ]
        },
        {
          "name": "stdout",
          "output_type": "stream",
          "text": [
            "Silhouette Coef: 0.4532526668267554\n",
            "Calinski-Harabasz Index: 37.24232575602608\n",
            "Davies-Bouldin Index: 0.7824495979443283\n"
          ]
        },
        {
          "data": {
            "image/png": "[encoded data removed]",
            "text/plain": [
              "<Figure size 1000x800 with 1 Axes>"
            ]
          },
          "metadata": {},
          "output_type": "display_data"
        }
      ],
      "source": [
        "fit_and_show(cl.KMeans(n_clusters=2), plot=True, name='KMeans')"
      ]
    },
    {
      "cell_type": "code",
      "execution_count": 25,
      "id": "5192d191-2916-4801-84ed-3fffca25f3b6",
      "metadata": {
        "colab": {
          "base_uri": "https://localhost:8080/",
          "height": 751
        },
        "id": "5192d191-2916-4801-84ed-3fffca25f3b6",
        "outputId": "6309cee5-7546-4181-cf9e-095acb2f34d0",
        "tags": []
      },
      "outputs": [
        {
          "name": "stderr",
          "output_type": "stream",
          "text": [
            "c:\\Users\\Dawid\\anaconda3\\Lib\\site-packages\\sklearn\\cluster\\_kmeans.py:1436: UserWarning: KMeans is known to have a memory leak on Windows with MKL, when there are less chunks than available threads. You can avoid it by setting the environment variable OMP_NUM_THREADS=1.\n",
            "  warnings.warn(\n"
          ]
        },
        {
          "name": "stdout",
          "output_type": "stream",
          "text": [
            "Silhouette Coef: 0.33445736726461694\n",
            "Calinski-Harabasz Index: 31.561392651655712\n",
            "Davies-Bouldin Index: 0.9471296655329985\n"
          ]
        },
        {
          "data": {
            "image/png": "[encoded data removed]",
            "text/plain": [
              "<Figure size 1000x800 with 1 Axes>"
            ]
          },
          "metadata": {},
          "output_type": "display_data"
        }
      ],
      "source": [
        "fit_and_show(cl.KMeans(n_clusters=3), plot=True, name='KMeans')"
      ]
    },
    {
      "cell_type": "markdown",
      "id": "242e6381-148a-4382-8616-01aea3a046e8",
      "metadata": {
        "id": "242e6381-148a-4382-8616-01aea3a046e8",
        "tags": []
      },
      "source": [
        "The resulting breakdowns suggest conclusions consistent with empirical sentiments."
      ]
    },
    {
      "cell_type": "markdown",
      "id": "36b69d81-a131-4855-a374-cc6dde287c91",
      "metadata": {
        "id": "36b69d81-a131-4855-a374-cc6dde287c91"
      },
      "source": [
        "For the division into two clusters:\n",
        "Europe has divided into groups in its smoking habits:\n",
        "- low smokers: all of Scandinavia, all Benelux countries, Portugal, Ireland and England\n",
        "- more frequent smokers: the rest of the countries"
      ]
    },
    {
      "cell_type": "markdown",
      "id": "20ecd63f-f5ea-43d0-8e00-99c88b7087a9",
      "metadata": {
        "id": "20ecd63f-f5ea-43d0-8e00-99c88b7087a9"
      },
      "source": [
        "For the division into three clusters (which, according to the calculated measures, is worse):\n",
        "- least smoking countries: all of Scandinavia, along with Portugal, England and Luxembourg further in a separate cluster\n",
        "- moderately smoking countries: central European countries and most western countries (excluding Germany)\n",
        "- countries with a higher propensity to smoke: the Balkan countries, Greece, Turkey, Germany and Latvia"
      ]
    },
    {
      "cell_type": "markdown",
      "id": "a0df896c-8cab-47b5-8221-8e22e2b987f3",
      "metadata": {
        "id": "a0df896c-8cab-47b5-8221-8e22e2b987f3"
      },
      "source": [
        "## Verification of the obtained divisions"
      ]
    },
    {
      "cell_type": "markdown",
      "id": "20f609ef-e4b8-43d5-b3e5-430e255c28fb",
      "metadata": {
        "id": "20f609ef-e4b8-43d5-b3e5-430e255c28fb",
        "tags": []
      },
      "source": [
        "In this section, we will evaluate how the values of the variables are shaped in the selected clusters."
      ]
    },
    {
      "cell_type": "code",
      "execution_count": 26,
      "id": "72f9fcba-c3ce-4b79-b4ed-5fc46ff20e8d",
      "metadata": {
        "id": "72f9fcba-c3ce-4b79-b4ed-5fc46ff20e8d",
        "tags": []
      },
      "outputs": [
        {
          "name": "stderr",
          "output_type": "stream",
          "text": [
            "c:\\Users\\Dawid\\anaconda3\\Lib\\site-packages\\sklearn\\cluster\\_kmeans.py:1436: UserWarning: KMeans is known to have a memory leak on Windows with MKL, when there are less chunks than available threads. You can avoid it by setting the environment variable OMP_NUM_THREADS=1.\n",
            "  warnings.warn(\n",
            "c:\\Users\\Dawid\\anaconda3\\Lib\\site-packages\\sklearn\\cluster\\_kmeans.py:1436: UserWarning: KMeans is known to have a memory leak on Windows with MKL, when there are less chunks than available threads. You can avoid it by setting the environment variable OMP_NUM_THREADS=1.\n",
            "  warnings.warn(\n"
          ]
        }
      ],
      "source": [
        "m2 = cl.KMeans(n_clusters=2) # model dla dwóch klastrów\n",
        "m3 = cl.KMeans(n_clusters=3) # model dla trzech klastrów\n",
        "# przypisanie labeli\n",
        "division_for_2 = m2.fit_predict(final_df)\n",
        "division_for_3 = m3.fit_predict(final_df)"
      ]
    },
    {
      "cell_type": "markdown",
      "id": "7fe66f52-5c5d-4723-8ec3-abca353a65ec",
      "metadata": {
        "id": "7fe66f52-5c5d-4723-8ec3-abca353a65ec",
        "tags": []
      },
      "source": [
        "### Split into two clusters"
      ]
    },
    {
      "cell_type": "markdown",
      "id": "1ef47327-01e3-4b1d-8dcd-9e7b3dd1e30f",
      "metadata": {
        "id": "1ef47327-01e3-4b1d-8dcd-9e7b3dd1e30f",
        "tags": []
      },
      "source": [
        "**cluster 1**"
      ]
    },
    {
      "cell_type": "code",
      "execution_count": 27,
      "id": "026c2689-3be7-4da1-ae00-01c568127bae",
      "metadata": {
        "colab": {
          "base_uri": "https://localhost:8080/"
        },
        "id": "026c2689-3be7-4da1-ae00-01c568127bae",
        "outputId": "3d75d95e-f4b5-4b00-a01a-27988efe9461",
        "tags": []
      },
      "outputs": [
        {
          "data": {
            "text/plain": [
              "['European Union',\n",
              " 'Bulgaria',\n",
              " 'Czechia',\n",
              " 'Germany',\n",
              " 'Estonia',\n",
              " 'Greece',\n",
              " 'Spain',\n",
              " 'France',\n",
              " 'Croatia',\n",
              " 'Italy',\n",
              " 'Cyprus',\n",
              " 'Latvia',\n",
              " 'Lithuania',\n",
              " 'Hungary',\n",
              " 'Malta',\n",
              " 'Austria',\n",
              " 'Poland',\n",
              " 'Romania',\n",
              " 'Slovenia',\n",
              " 'Slovakia',\n",
              " 'Serbia',\n",
              " 'Türkiye']"
            ]
          },
          "execution_count": 27,
          "metadata": {},
          "output_type": "execute_result"
        }
      ],
      "source": [
        "list(new_df[division_for_2 == 0].index)"
      ]
    },
    {
      "cell_type": "code",
      "execution_count": 28,
      "id": "2d670e70-3ab8-4f78-992b-fe230a8d29b6",
      "metadata": {
        "colab": {
          "base_uri": "https://localhost:8080/"
        },
        "id": "2d670e70-3ab8-4f78-992b-fe230a8d29b6",
        "outputId": "a9a08031-73ca-4583-ad18-90b40d2719fa",
        "tags": []
      },
      "outputs": [
        {
          "data": {
            "text/plain": [
              "count    22.000000\n",
              "mean     19.056061\n",
              "std       3.546998\n",
              "min      13.495833\n",
              "25%      16.747917\n",
              "50%      18.468750\n",
              "75%      20.954792\n",
              "max      27.600000\n",
              "dtype: float64"
            ]
          },
          "execution_count": 28,
          "metadata": {},
          "output_type": "execute_result"
        }
      ],
      "source": [
        "new_df[division_for_2 == 0].describe().mean(axis=1)"
      ]
    },
    {
      "cell_type": "markdown",
      "id": "9b315308-acda-4c54-b419-452e1e5cbcee",
      "metadata": {
        "id": "9b315308-acda-4c54-b419-452e1e5cbcee"
      },
      "source": [
        "**cluster 2**"
      ]
    },
    {
      "cell_type": "code",
      "execution_count": 29,
      "id": "51354d7b-2787-4fad-9151-85fd454d60d6",
      "metadata": {
        "colab": {
          "base_uri": "https://localhost:8080/"
        },
        "id": "51354d7b-2787-4fad-9151-85fd454d60d6",
        "outputId": "6372b06e-6487-48ff-885b-5cb0be820b93",
        "tags": []
      },
      "outputs": [
        {
          "data": {
            "text/plain": [
              "['Belgium',\n",
              " 'Denmark',\n",
              " 'Ireland',\n",
              " 'Luxembourg',\n",
              " 'Netherlands',\n",
              " 'Portugal',\n",
              " 'Finland',\n",
              " 'Sweden',\n",
              " 'Iceland',\n",
              " 'Norway']"
            ]
          },
          "execution_count": 29,
          "metadata": {},
          "output_type": "execute_result"
        }
      ],
      "source": [
        "list(new_df[division_for_2 == 1].index)"
      ]
    },
    {
      "cell_type": "code",
      "execution_count": 30,
      "id": "21da0a55-0f80-49e9-8293-76285f957c24",
      "metadata": {
        "colab": {
          "base_uri": "https://localhost:8080/"
        },
        "id": "21da0a55-0f80-49e9-8293-76285f957c24",
        "outputId": "a08ea579-aaa1-4085-d068-289a6739f730",
        "tags": []
      },
      "outputs": [
        {
          "data": {
            "text/plain": [
              "count    10.000000\n",
              "mean     10.226250\n",
              "std       3.338985\n",
              "min       5.104167\n",
              "25%       8.048958\n",
              "50%      10.341667\n",
              "75%      12.741667\n",
              "max      14.929167\n",
              "dtype: float64"
            ]
          },
          "execution_count": 30,
          "metadata": {},
          "output_type": "execute_result"
        }
      ],
      "source": [
        "new_df[division_for_2 == 1].describe().mean(axis=1)"
      ]
    },
    {
      "cell_type": "markdown",
      "id": "89b2dbf6-6078-48b9-af73-e3cd1827945f",
      "metadata": {
        "id": "89b2dbf6-6078-48b9-af73-e3cd1827945f"
      },
      "source": [
        "The cluster with the northern countries actually has almost twice the average level of smoking statistics than the cluster we identified as the countries that smoke more frequently."
      ]
    },
    {
      "cell_type": "markdown",
      "id": "3c761c56-f0aa-44d8-b685-e766c4f957be",
      "metadata": {
        "id": "3c761c56-f0aa-44d8-b685-e766c4f957be",
        "tags": []
      },
      "source": [
        "### Split into three clusters"
      ]
    },
    {
      "cell_type": "markdown",
      "id": "3d271be3-6c41-4fdb-801c-5eba05ca6004",
      "metadata": {
        "id": "3d271be3-6c41-4fdb-801c-5eba05ca6004",
        "tags": []
      },
      "source": [
        "**cluster 1**"
      ]
    },
    {
      "cell_type": "code",
      "execution_count": 31,
      "id": "339f660b-a8c4-4273-99c0-2a3ac77047c6",
      "metadata": {
        "colab": {
          "base_uri": "https://localhost:8080/"
        },
        "id": "339f660b-a8c4-4273-99c0-2a3ac77047c6",
        "outputId": "9abea6d3-41f6-4502-eade-5583c9d07c74",
        "tags": []
      },
      "outputs": [
        {
          "data": {
            "text/plain": [
              "['Denmark', 'Luxembourg', 'Portugal', 'Finland', 'Sweden', 'Iceland', 'Norway']"
            ]
          },
          "execution_count": 31,
          "metadata": {},
          "output_type": "execute_result"
        }
      ],
      "source": [
        "list(new_df[division_for_3 == 0].index)"
      ]
    },
    {
      "cell_type": "code",
      "execution_count": 32,
      "id": "dd4519e5-e5ef-4c07-a87e-39a51622c9c2",
      "metadata": {
        "colab": {
          "base_uri": "https://localhost:8080/"
        },
        "id": "dd4519e5-e5ef-4c07-a87e-39a51622c9c2",
        "outputId": "c9354766-1171-4e92-d3c3-1906586046ed",
        "tags": []
      },
      "outputs": [
        {
          "data": {
            "text/plain": [
              "count     7.000000\n",
              "mean      8.836905\n",
              "std       2.795625\n",
              "min       5.104167\n",
              "25%       7.068750\n",
              "50%       8.758333\n",
              "75%      10.533333\n",
              "max      12.791667\n",
              "dtype: float64"
            ]
          },
          "execution_count": 32,
          "metadata": {},
          "output_type": "execute_result"
        }
      ],
      "source": [
        "new_df[division_for_3 == 0].describe().mean(axis=1)"
      ]
    },
    {
      "cell_type": "markdown",
      "id": "e6d5bfff-78d3-409c-b3a5-6f4aa9e5c4c6",
      "metadata": {
        "id": "e6d5bfff-78d3-409c-b3a5-6f4aa9e5c4c6"
      },
      "source": [
        "We can see that in this cluster the average of all variables (which are related to smoking frequency) is 8.83%."
      ]
    },
    {
      "cell_type": "markdown",
      "id": "b1c66aef-63c5-4376-bf8a-94b9bcbcf50a",
      "metadata": {
        "id": "b1c66aef-63c5-4376-bf8a-94b9bcbcf50a"
      },
      "source": [
        "**cluster 2**"
      ]
    },
    {
      "cell_type": "code",
      "execution_count": 33,
      "id": "fdbe1b93-f60f-492f-ac74-badd6e6e334b",
      "metadata": {
        "colab": {
          "base_uri": "https://localhost:8080/"
        },
        "id": "fdbe1b93-f60f-492f-ac74-badd6e6e334b",
        "outputId": "faad858b-ac56-4ea0-ad8a-06c0ed6d402c",
        "tags": []
      },
      "outputs": [
        {
          "data": {
            "text/plain": [
              "['Bulgaria', 'Germany', 'Greece', 'Croatia', 'Latvia', 'Serbia', 'Türkiye']"
            ]
          },
          "execution_count": 33,
          "metadata": {},
          "output_type": "execute_result"
        }
      ],
      "source": [
        "list(new_df[division_for_3 == 1].index)"
      ]
    },
    {
      "cell_type": "code",
      "execution_count": 34,
      "id": "8f882871-b756-4026-b773-196079bf6a47",
      "metadata": {
        "colab": {
          "base_uri": "https://localhost:8080/"
        },
        "id": "8f882871-b756-4026-b773-196079bf6a47",
        "outputId": "074102cb-c990-4bcb-b96c-65eb309d6bd9",
        "tags": []
      },
      "outputs": [
        {
          "data": {
            "text/plain": [
              "count     7.000000\n",
              "mean     22.269048\n",
              "std       3.121663\n",
              "min      18.620833\n",
              "25%      20.227083\n",
              "50%      21.891667\n",
              "75%      23.841667\n",
              "max      27.233333\n",
              "dtype: float64"
            ]
          },
          "execution_count": 34,
          "metadata": {},
          "output_type": "execute_result"
        }
      ],
      "source": [
        "new_df[division_for_3 == 1].describe().mean(axis=1)"
      ]
    },
    {
      "cell_type": "markdown",
      "id": "a14df42d-3bc7-4633-b9c6-738bb9275ec5",
      "metadata": {
        "id": "a14df42d-3bc7-4633-b9c6-738bb9275ec5"
      },
      "source": [
        "Indeed, in the cluster where we expected to see a higher proportion of smoking, the average of smoking-related variables is almost twice as high."
      ]
    },
    {
      "cell_type": "markdown",
      "id": "f102633c-c900-4e7a-9882-16bb12f40f48",
      "metadata": {
        "id": "f102633c-c900-4e7a-9882-16bb12f40f48"
      },
      "source": [
        "**cluster 3**"
      ]
    },
    {
      "cell_type": "code",
      "execution_count": 35,
      "id": "cbc5a090-11f3-4916-af73-319ddc875312",
      "metadata": {
        "colab": {
          "base_uri": "https://localhost:8080/"
        },
        "id": "cbc5a090-11f3-4916-af73-319ddc875312",
        "outputId": "7e12c82a-f702-4690-8d29-375572e3968d",
        "tags": []
      },
      "outputs": [
        {
          "data": {
            "text/plain": [
              "['European Union',\n",
              " 'Belgium',\n",
              " 'Czechia',\n",
              " 'Estonia',\n",
              " 'Ireland',\n",
              " 'Spain',\n",
              " 'France',\n",
              " 'Italy',\n",
              " 'Cyprus',\n",
              " 'Lithuania',\n",
              " 'Hungary',\n",
              " 'Malta',\n",
              " 'Netherlands',\n",
              " 'Austria',\n",
              " 'Poland',\n",
              " 'Romania',\n",
              " 'Slovenia',\n",
              " 'Slovakia']"
            ]
          },
          "execution_count": 35,
          "metadata": {},
          "output_type": "execute_result"
        }
      ],
      "source": [
        "list(new_df[division_for_3 == 2].index)"
      ]
    },
    {
      "cell_type": "code",
      "execution_count": 36,
      "id": "974fb1c0-6312-4a8a-8e86-0de5f23b2150",
      "metadata": {
        "colab": {
          "base_uri": "https://localhost:8080/"
        },
        "id": "974fb1c0-6312-4a8a-8e86-0de5f23b2150",
        "outputId": "9180001b-f97a-4268-c3b5-52f5eb7ccc6f",
        "tags": []
      },
      "outputs": [
        {
          "data": {
            "text/plain": [
              "count    18.000000\n",
              "mean     16.875231\n",
              "std       2.796520\n",
              "min      11.879167\n",
              "25%      15.155208\n",
              "50%      17.064583\n",
              "75%      18.493750\n",
              "max      22.083333\n",
              "dtype: float64"
            ]
          },
          "execution_count": 36,
          "metadata": {},
          "output_type": "execute_result"
        }
      ],
      "source": [
        "new_df[division_for_3 == 2].describe().mean(axis=1)"
      ]
    },
    {
      "cell_type": "markdown",
      "id": "f3035dc0-3400-4857-9378-3452124009ed",
      "metadata": {
        "id": "f3035dc0-3400-4857-9378-3452124009ed"
      },
      "source": [
        "The cluster we suspected of having the highest propensity to smoke among citizens actually has an average variable value higher than the previous one (described as moderate)."
      ]
    },
    {
      "cell_type": "markdown",
      "id": "e845a6ac-275f-43a8-867d-56bdbba962ae",
      "metadata": {
        "id": "e845a6ac-275f-43a8-867d-56bdbba962ae"
      },
      "source": [
        "These analyses were not intended to study the smoking phenomenon in depth in the clusters, but to verify the superficial correspondence of the behavior of the phenomena in the separated clusters. It turned out that our intuition about the divisions was as justified as possible."
      ]
    },
    {
      "cell_type": "markdown",
      "id": "70b557bf",
      "metadata": {
        "id": "70b557bf"
      },
      "source": [
        "# Summary"
      ]
    },
    {
      "cell_type": "markdown",
      "id": "4dbd84ad",
      "metadata": {
        "id": "4dbd84ad"
      },
      "source": [
        "We can see that the different clustering methods used gave similar results.\n",
        "\n",
        "For the k-means method, the Silhouette coefficient and the Calinski-Harabasz and Davies-Bouldin indices gave an unambiguous verdict - dividing the sample into 2 clusters will be the optimal solution, and all the three metrics at the same time will be at a high level. With these metrics, it was possible to conclude that these methods, will be one of the better ones to conduct the analysis.\n",
        "\n",
        "All this indicates to us that the goal of dividing the objects (countries of Europe) into clusters was successfully achieved. Countries with a high percentage of smokers were separated from countries where the percentage of smokers does not take on such high values.\n",
        "\n",
        "The results of our study differ from those of the literature survey. The most surprising fact is the difference in female mortality rates. In the literature study, the countries with the highest rates were largely northern European countries. In our study, these countries showed membership in a cluster of less smoking countries.\n",
        "\n",
        "The results of the literature study for men are also not consistent with the results of our analysis. Following our study, we would expect that the highest mortality rates would be characterized by citizens of southern European countries, and these are Central European countries.\n",
        "\n",
        "The differences are primarily due to the fact that our study and the literature survey do not strictly examine the same phenomenon. It would seem that the relationship between the phenomenon of cigarette smoking alone in the country and the mortality caused by it would be strong enough.However, it turned out that the strength of the relationship between habit and mortality is not strong enough to conclude that a country's cigarette-smoking habit unambiguously affects mortality from cigarette smoking. This may be influenced by other factors not included in the study, so the inconsistency of the results does not prove that the study is invalid.As we checked in our work, the obtained clusters are characterized by clearly different average levels of the studied variables, which allows us to conclude that the cluster analysis procedures carried out are correct."
      ]
    },
    {
      "cell_type": "markdown",
      "id": "b56212c5-539f-4b50-b292-ffad89c00728",
      "metadata": {
        "id": "b56212c5-539f-4b50-b292-ffad89c00728",
        "tags": []
      },
      "source": [
        "# Bibliography"
      ]
    },
    {
      "cell_type": "markdown",
      "id": "60ad366a-798b-4882-b1ec-731f594eea02",
      "metadata": {
        "id": "60ad366a-798b-4882-b1ec-731f594eea02"
      },
      "source": [
        "1. World Health Organization - https://www.who.int/news-room/fact-sheets/detail/tobacco\n",
        "2. ,,Smoking epidemic in Europe in the 21st century\", F. Janssen, Shady El Gewily, Anastasios Bardoutsos - https://pubmed.ncbi.nlm.nih.gov/32769210/\n",
        "3. Wikipedia ,,Kernel density estimation\" - https://en.wikipedia.org/wiki/Kernel_density_estimation\n",
        "4. ,,Bootstrap Confidence Intervals and Bootstrap Approximations\", T. Diciccio, R. Tibshirani - https://www.tandfonline.com/doi/abs/10.1080/01621459.1987.10478409\n",
        "5. Wikipedia ,,Principal component analysis\" - https://en.wikipedia.org/wiki/Principal_component_analysis\n",
        "6. ,,Silhouettes: A graphical aid to the interpretation and validation of cluster analysis\", Peter J. Rousseeuw - https://www.sciencedirect.com/science/article/pii/0377042787901257\n",
        "7. ,,A dendrite method for cluster analysis\", T. Caliński, J. Harabasz - https://www.tandfonline.com/doi/abs/10.1080/03610927408827101\n",
        "8. ,,A Cluster Separation Measure\", David L. Davies, Donald W. Bouldin - https://ieeexplore.ieee.org/document/4766909\n"
      ]
    }
  ],
  "metadata": {
    "colab": {
      "provenance": []
    },
    "kernelspec": {
      "display_name": "Python 3 (ipykernel)",
      "language": "python",
      "name": "python3"
    },
    "language_info": {
      "codemirror_mode": {
        "name": "ipython",
        "version": 3
      },
      "file_extension": ".py",
      "mimetype": "text/x-python",
      "name": "python",
      "nbconvert_exporter": "python",
      "pygments_lexer": "ipython3",
      "version": "0.0.0"
    }
  },
  "nbformat": 4,
  "nbformat_minor": 5
}
